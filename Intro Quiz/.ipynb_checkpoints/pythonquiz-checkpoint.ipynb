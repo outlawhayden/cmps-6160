{
 "cells": [
  {
   "cell_type": "code",
   "execution_count": 2,
   "id": "6d12f9cb-1dda-46cd-bffb-df0401643d31",
   "metadata": {},
   "outputs": [
    {
     "ename": "IndentationError",
     "evalue": "unexpected indent (57478112.py, line 6)",
     "output_type": "error",
     "traceback": [
      "\u001b[0;36m  File \u001b[0;32m\"/var/folders/vh/j0_lsnhd1_d199g2tx8chgx00000gp/T/ipykernel_10656/57478112.py\"\u001b[0;36m, line \u001b[0;32m6\u001b[0m\n\u001b[0;31m    print(\"ding\")\u001b[0m\n\u001b[0m    ^\u001b[0m\n\u001b[0;31mIndentationError\u001b[0m\u001b[0;31m:\u001b[0m unexpected indent\n"
     ]
    }
   ],
   "source": [
    "def my_function(a):\n",
    "  result = 0\n",
    "  for i in range(len(a)):\n",
    "    for j in range(i):\n",
    "      result += i*j\n",
    "      print(\"ding\")\n",
    "  return result\n",
    "\n",
    "\n",
    "answer = my_function([10,20,30,40])\n",
    "print(answer)"
   ]
  },
  {
   "cell_type": "code",
   "execution_count": null,
   "id": "bbcf9168-a0f4-43ea-bbc1-ea5dd5819f7d",
   "metadata": {},
   "outputs": [],
   "source": []
  }
 ],
 "metadata": {
  "kernelspec": {
   "display_name": "Python 3 (ipykernel)",
   "language": "python",
   "name": "python3"
  },
  "language_info": {
   "codemirror_mode": {
    "name": "ipython",
    "version": 3
   },
   "file_extension": ".py",
   "mimetype": "text/x-python",
   "name": "python",
   "nbconvert_exporter": "python",
   "pygments_lexer": "ipython3",
   "version": "3.8.8"
  }
 },
 "nbformat": 4,
 "nbformat_minor": 5
}
