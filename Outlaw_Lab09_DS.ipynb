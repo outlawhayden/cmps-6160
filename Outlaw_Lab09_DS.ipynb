{
  "cells": [
    {
      "cell_type": "markdown",
      "metadata": {
        "id": "-PnKxhrj6KvP"
      },
      "source": [
        "# Lab 09: Evaluating Models\n",
        "\n",
        "This lab is presented with some revisions from [Dennis Sun at Cal Poly](https://web.calpoly.edu/~dsun09/index.html) and his [Data301 Course](http://users.csc.calpoly.edu/~dsun09/data301/lectures.html)\n",
        "\n",
        "### When you have filled out all the questions, submit via [Tulane Canvas](https://tulane.instructure.com/)\n",
        "\n",
        "In the previous sections, we learned to build regression models. In this section, we will learn one way to evaluate the quality of a regression model: the training error. We will also discuss the shortcomings of using training error to measure the quality of a regression model."
      ]
    },
    {
      "cell_type": "code",
      "execution_count": 1,
      "metadata": {
        "id": "NbJJVIjU6KvT",
        "outputId": "07834773-7dec-4156-ae6d-77877be111ee",
        "colab": {
          "base_uri": "https://localhost:8080/"
        }
      },
      "outputs": [
        {
          "output_type": "stream",
          "name": "stdout",
          "text": [
            "Mounted at /content/drive\n",
            "/content/drive/My Drive/cmps3160\n",
            "remote: Enumerating objects: 9, done.\u001b[K\n",
            "remote: Counting objects: 100% (9/9), done.\u001b[K\n",
            "remote: Compressing objects: 100% (1/1), done.\u001b[K\n",
            "remote: Total 5 (delta 3), reused 5 (delta 3), pack-reused 0\u001b[K\n",
            "Unpacking objects: 100% (5/5), done.\n",
            "From https://github.com/nmattei/cmps3160\n",
            "   ff758d1..dfa5ca9  master     -> origin/master\n",
            "Updating ff758d1..dfa5ca9\n",
            "Fast-forward\n",
            " _labs/Lab09/Lab09.ipynb | 2 \u001b[32m+\u001b[m\u001b[31m-\u001b[m\n",
            " 1 file changed, 1 insertion(+), 1 deletion(-)\n",
            "/content/drive/My Drive/cmps3160/_labs/Lab09\n"
          ]
        }
      ],
      "source": [
        "# first, mount your google drive, change to the course folder, pull latest changes, and change to the lab folder.\n",
        "from google.colab import drive\n",
        "drive.mount('/content/drive')\n",
        "%cd /content/drive/My Drive/cmps3160\n",
        "!git pull\n",
        "%cd _labs/Lab09"
      ]
    },
    {
      "cell_type": "code",
      "execution_count": 2,
      "metadata": {
        "id": "_bFnlt8h6KvU",
        "outputId": "827538f8-d0b8-482a-8ae7-fdfba39ce0a9",
        "colab": {
          "base_uri": "https://localhost:8080/",
          "height": 317
        }
      },
      "outputs": [
        {
          "output_type": "execute_result",
          "data": {
            "text/plain": [
              "      Order        PID  MS SubClass MS Zoning  Lot Frontage  Lot Area Street  \\\n",
              "0         1  526301100           20        RL         141.0     31770   Pave   \n",
              "1         2  526350040           20        RH          80.0     11622   Pave   \n",
              "...     ...        ...          ...       ...           ...       ...    ...   \n",
              "2928   2929  924100070           20        RL          77.0     10010   Pave   \n",
              "2929   2930  924151050           60        RL          74.0      9627   Pave   \n",
              "\n",
              "     Alley Lot Shape Land Contour  ... Pool Area Pool QC  Fence Misc Feature  \\\n",
              "0      NaN       IR1          Lvl  ...         0     NaN    NaN          NaN   \n",
              "1      NaN       Reg          Lvl  ...         0     NaN  MnPrv          NaN   \n",
              "...    ...       ...          ...  ...       ...     ...    ...          ...   \n",
              "2928   NaN       Reg          Lvl  ...         0     NaN    NaN          NaN   \n",
              "2929   NaN       Reg          Lvl  ...         0     NaN    NaN          NaN   \n",
              "\n",
              "     Misc Val Mo Sold Yr Sold Sale Type  Sale Condition  SalePrice  \n",
              "0           0       5    2010       WD           Normal     215000  \n",
              "1           0       6    2010       WD           Normal     105000  \n",
              "...       ...     ...     ...       ...             ...        ...  \n",
              "2928        0       4    2006       WD           Normal     170000  \n",
              "2929        0      11    2006       WD           Normal     188000  \n",
              "\n",
              "[2930 rows x 82 columns]"
            ],
            "text/html": [
              "\n",
              "  <div id=\"df-7b6449e1-4e4a-47cd-9443-ff63d62daf56\">\n",
              "    <div class=\"colab-df-container\">\n",
              "      <div>\n",
              "<style scoped>\n",
              "    .dataframe tbody tr th:only-of-type {\n",
              "        vertical-align: middle;\n",
              "    }\n",
              "\n",
              "    .dataframe tbody tr th {\n",
              "        vertical-align: top;\n",
              "    }\n",
              "\n",
              "    .dataframe thead th {\n",
              "        text-align: right;\n",
              "    }\n",
              "</style>\n",
              "<table border=\"1\" class=\"dataframe\">\n",
              "  <thead>\n",
              "    <tr style=\"text-align: right;\">\n",
              "      <th></th>\n",
              "      <th>Order</th>\n",
              "      <th>PID</th>\n",
              "      <th>MS SubClass</th>\n",
              "      <th>MS Zoning</th>\n",
              "      <th>Lot Frontage</th>\n",
              "      <th>Lot Area</th>\n",
              "      <th>Street</th>\n",
              "      <th>Alley</th>\n",
              "      <th>Lot Shape</th>\n",
              "      <th>Land Contour</th>\n",
              "      <th>...</th>\n",
              "      <th>Pool Area</th>\n",
              "      <th>Pool QC</th>\n",
              "      <th>Fence</th>\n",
              "      <th>Misc Feature</th>\n",
              "      <th>Misc Val</th>\n",
              "      <th>Mo Sold</th>\n",
              "      <th>Yr Sold</th>\n",
              "      <th>Sale Type</th>\n",
              "      <th>Sale Condition</th>\n",
              "      <th>SalePrice</th>\n",
              "    </tr>\n",
              "  </thead>\n",
              "  <tbody>\n",
              "    <tr>\n",
              "      <th>0</th>\n",
              "      <td>1</td>\n",
              "      <td>526301100</td>\n",
              "      <td>20</td>\n",
              "      <td>RL</td>\n",
              "      <td>141.0</td>\n",
              "      <td>31770</td>\n",
              "      <td>Pave</td>\n",
              "      <td>NaN</td>\n",
              "      <td>IR1</td>\n",
              "      <td>Lvl</td>\n",
              "      <td>...</td>\n",
              "      <td>0</td>\n",
              "      <td>NaN</td>\n",
              "      <td>NaN</td>\n",
              "      <td>NaN</td>\n",
              "      <td>0</td>\n",
              "      <td>5</td>\n",
              "      <td>2010</td>\n",
              "      <td>WD</td>\n",
              "      <td>Normal</td>\n",
              "      <td>215000</td>\n",
              "    </tr>\n",
              "    <tr>\n",
              "      <th>1</th>\n",
              "      <td>2</td>\n",
              "      <td>526350040</td>\n",
              "      <td>20</td>\n",
              "      <td>RH</td>\n",
              "      <td>80.0</td>\n",
              "      <td>11622</td>\n",
              "      <td>Pave</td>\n",
              "      <td>NaN</td>\n",
              "      <td>Reg</td>\n",
              "      <td>Lvl</td>\n",
              "      <td>...</td>\n",
              "      <td>0</td>\n",
              "      <td>NaN</td>\n",
              "      <td>MnPrv</td>\n",
              "      <td>NaN</td>\n",
              "      <td>0</td>\n",
              "      <td>6</td>\n",
              "      <td>2010</td>\n",
              "      <td>WD</td>\n",
              "      <td>Normal</td>\n",
              "      <td>105000</td>\n",
              "    </tr>\n",
              "    <tr>\n",
              "      <th>...</th>\n",
              "      <td>...</td>\n",
              "      <td>...</td>\n",
              "      <td>...</td>\n",
              "      <td>...</td>\n",
              "      <td>...</td>\n",
              "      <td>...</td>\n",
              "      <td>...</td>\n",
              "      <td>...</td>\n",
              "      <td>...</td>\n",
              "      <td>...</td>\n",
              "      <td>...</td>\n",
              "      <td>...</td>\n",
              "      <td>...</td>\n",
              "      <td>...</td>\n",
              "      <td>...</td>\n",
              "      <td>...</td>\n",
              "      <td>...</td>\n",
              "      <td>...</td>\n",
              "      <td>...</td>\n",
              "      <td>...</td>\n",
              "      <td>...</td>\n",
              "    </tr>\n",
              "    <tr>\n",
              "      <th>2928</th>\n",
              "      <td>2929</td>\n",
              "      <td>924100070</td>\n",
              "      <td>20</td>\n",
              "      <td>RL</td>\n",
              "      <td>77.0</td>\n",
              "      <td>10010</td>\n",
              "      <td>Pave</td>\n",
              "      <td>NaN</td>\n",
              "      <td>Reg</td>\n",
              "      <td>Lvl</td>\n",
              "      <td>...</td>\n",
              "      <td>0</td>\n",
              "      <td>NaN</td>\n",
              "      <td>NaN</td>\n",
              "      <td>NaN</td>\n",
              "      <td>0</td>\n",
              "      <td>4</td>\n",
              "      <td>2006</td>\n",
              "      <td>WD</td>\n",
              "      <td>Normal</td>\n",
              "      <td>170000</td>\n",
              "    </tr>\n",
              "    <tr>\n",
              "      <th>2929</th>\n",
              "      <td>2930</td>\n",
              "      <td>924151050</td>\n",
              "      <td>60</td>\n",
              "      <td>RL</td>\n",
              "      <td>74.0</td>\n",
              "      <td>9627</td>\n",
              "      <td>Pave</td>\n",
              "      <td>NaN</td>\n",
              "      <td>Reg</td>\n",
              "      <td>Lvl</td>\n",
              "      <td>...</td>\n",
              "      <td>0</td>\n",
              "      <td>NaN</td>\n",
              "      <td>NaN</td>\n",
              "      <td>NaN</td>\n",
              "      <td>0</td>\n",
              "      <td>11</td>\n",
              "      <td>2006</td>\n",
              "      <td>WD</td>\n",
              "      <td>Normal</td>\n",
              "      <td>188000</td>\n",
              "    </tr>\n",
              "  </tbody>\n",
              "</table>\n",
              "<p>2930 rows × 82 columns</p>\n",
              "</div>\n",
              "      <button class=\"colab-df-convert\" onclick=\"convertToInteractive('df-7b6449e1-4e4a-47cd-9443-ff63d62daf56')\"\n",
              "              title=\"Convert this dataframe to an interactive table.\"\n",
              "              style=\"display:none;\">\n",
              "        \n",
              "  <svg xmlns=\"http://www.w3.org/2000/svg\" height=\"24px\"viewBox=\"0 0 24 24\"\n",
              "       width=\"24px\">\n",
              "    <path d=\"M0 0h24v24H0V0z\" fill=\"none\"/>\n",
              "    <path d=\"M18.56 5.44l.94 2.06.94-2.06 2.06-.94-2.06-.94-.94-2.06-.94 2.06-2.06.94zm-11 1L8.5 8.5l.94-2.06 2.06-.94-2.06-.94L8.5 2.5l-.94 2.06-2.06.94zm10 10l.94 2.06.94-2.06 2.06-.94-2.06-.94-.94-2.06-.94 2.06-2.06.94z\"/><path d=\"M17.41 7.96l-1.37-1.37c-.4-.4-.92-.59-1.43-.59-.52 0-1.04.2-1.43.59L10.3 9.45l-7.72 7.72c-.78.78-.78 2.05 0 2.83L4 21.41c.39.39.9.59 1.41.59.51 0 1.02-.2 1.41-.59l7.78-7.78 2.81-2.81c.8-.78.8-2.07 0-2.86zM5.41 20L4 18.59l7.72-7.72 1.47 1.35L5.41 20z\"/>\n",
              "  </svg>\n",
              "      </button>\n",
              "      \n",
              "  <style>\n",
              "    .colab-df-container {\n",
              "      display:flex;\n",
              "      flex-wrap:wrap;\n",
              "      gap: 12px;\n",
              "    }\n",
              "\n",
              "    .colab-df-convert {\n",
              "      background-color: #E8F0FE;\n",
              "      border: none;\n",
              "      border-radius: 50%;\n",
              "      cursor: pointer;\n",
              "      display: none;\n",
              "      fill: #1967D2;\n",
              "      height: 32px;\n",
              "      padding: 0 0 0 0;\n",
              "      width: 32px;\n",
              "    }\n",
              "\n",
              "    .colab-df-convert:hover {\n",
              "      background-color: #E2EBFA;\n",
              "      box-shadow: 0px 1px 2px rgba(60, 64, 67, 0.3), 0px 1px 3px 1px rgba(60, 64, 67, 0.15);\n",
              "      fill: #174EA6;\n",
              "    }\n",
              "\n",
              "    [theme=dark] .colab-df-convert {\n",
              "      background-color: #3B4455;\n",
              "      fill: #D2E3FC;\n",
              "    }\n",
              "\n",
              "    [theme=dark] .colab-df-convert:hover {\n",
              "      background-color: #434B5C;\n",
              "      box-shadow: 0px 1px 3px 1px rgba(0, 0, 0, 0.15);\n",
              "      filter: drop-shadow(0px 1px 2px rgba(0, 0, 0, 0.3));\n",
              "      fill: #FFFFFF;\n",
              "    }\n",
              "  </style>\n",
              "\n",
              "      <script>\n",
              "        const buttonEl =\n",
              "          document.querySelector('#df-7b6449e1-4e4a-47cd-9443-ff63d62daf56 button.colab-df-convert');\n",
              "        buttonEl.style.display =\n",
              "          google.colab.kernel.accessAllowed ? 'block' : 'none';\n",
              "\n",
              "        async function convertToInteractive(key) {\n",
              "          const element = document.querySelector('#df-7b6449e1-4e4a-47cd-9443-ff63d62daf56');\n",
              "          const dataTable =\n",
              "            await google.colab.kernel.invokeFunction('convertToInteractive',\n",
              "                                                     [key], {});\n",
              "          if (!dataTable) return;\n",
              "\n",
              "          const docLinkHtml = 'Like what you see? Visit the ' +\n",
              "            '<a target=\"_blank\" href=https://colab.research.google.com/notebooks/data_table.ipynb>data table notebook</a>'\n",
              "            + ' to learn more about interactive tables.';\n",
              "          element.innerHTML = '';\n",
              "          dataTable['output_type'] = 'display_data';\n",
              "          await google.colab.output.renderOutput(dataTable, element);\n",
              "          const docLink = document.createElement('div');\n",
              "          docLink.innerHTML = docLinkHtml;\n",
              "          element.appendChild(docLink);\n",
              "        }\n",
              "      </script>\n",
              "    </div>\n",
              "  </div>\n",
              "  "
            ]
          },
          "metadata": {},
          "execution_count": 2
        }
      ],
      "source": [
        "import numpy as np\n",
        "import pandas as pd\n",
        "pd.options.display.max_rows = 5\n",
        "\n",
        "housing = pd.read_csv(\"../data/ames.tsv\", sep=\"\\t\")\n",
        "housing"
      ]
    },
    {
      "cell_type": "markdown",
      "metadata": {
        "id": "3DaPbbBg6KvV"
      },
      "source": [
        "## Part 1: Performance Metrics for Regression Models\n",
        "\n",
        "To evaluate the performance of a regression model, we compare the predicted labels from the model against the true labels. Since the labels are quantitative, it makes sense to look at the difference between each predicted label $\\hat y_i$ and the true label $y_i$. \n",
        "\n",
        "One way to make sense of these differences is to square each difference and average the squared differences. This measure of error is known as **mean squared error** (or **MSE**, for short):\n",
        "\n",
        "$$ \n",
        "\\begin{align*}\n",
        "\\textrm{MSE} &= \\textrm{mean of } (y_i - \\hat y_i)^2.\n",
        "\\end{align*}\n",
        "$$ \n",
        "\n",
        "MSE is difficult to interpret because its units are the square of the units of $y$. To make MSE more interpretable, it is common to take the _square root_ of the MSE to obtain the **root mean squared error** (or RMSE, for short):\n",
        "\n",
        "$$ \n",
        "\\begin{align*}\n",
        "\\textrm{RMSE} &= \\sqrt{\\textrm{MSE}}.\n",
        "\\end{align*}\n",
        "$$ \n",
        "\n",
        "The RMSE measures how off a \"typical\" prediction is. Notice that the reasoning above is exactly the same reasoning that we used in the early labs when we defined the variance and the standard deviation.\n",
        "\n",
        "Another common measure of error is the **mean absolute error** (or **MAE**, for short):\n",
        "\n",
        "$$ \n",
        "\\begin{align*}\n",
        "\\textrm{MAE} &= \\textrm{mean of } |y_i - \\hat y_i|.\n",
        "\\end{align*}\n",
        "$$ \n",
        "\n",
        "Like the RMSE, the MAE measures how off a \"typical\" prediction is. There are other metrics that can be used to measure the quality of a regression model, but these are the most common ones."
      ]
    },
    {
      "cell_type": "markdown",
      "metadata": {
        "id": "i7vZl4Su6KvW"
      },
      "source": [
        "### Training Error\n",
        "\n",
        "To calculate the MSE, RMSE, or MAE, we need data where the true labels are known. Where do we find such data? One natural source of labeled data is the training data, since we needed the true labels to be able to train a model.\n",
        "\n",
        "For a $k$-nearest neighbors model, the training data is the data from which the $k$-nearest neighbors are selected. So to calculate the training RMSE, we do the following:\n",
        "\n",
        "For each observation in the training data:\n",
        "1. Find its $k$-nearest neighbors in the training data.\n",
        "2. Average the labels of the $k$-nearest neighbors to obtain the predicted label.\n",
        "3. Subtract the predicted label from the true label.\n",
        "\n",
        "At this point, we can average the square of these differences to obtain the MSE or average their absolute values to obtain the MAE.\n",
        "\n",
        "Let's calculate the training MSE for a 10-nearest neighbors model for house price using a subset of features from the Ames housing data set. First, we extract the variables that we need."
      ]
    },
    {
      "cell_type": "code",
      "execution_count": 3,
      "metadata": {
        "id": "YJpgcoyC6KvW"
      },
      "outputs": [],
      "source": [
        "# Features in our model. All quantitative, except Neighborhood.\n",
        "features = [\"Lot Area\", \"Gr Liv Area\",\n",
        "            \"Full Bath\", \"Half Bath\",\n",
        "            \"Bedroom AbvGr\", \n",
        "            \"Year Built\", \"Yr Sold\",\n",
        "            \"Neighborhood\"]\n",
        "\n",
        "X_train_dict = housing[features].to_dict(orient=\"records\")\n",
        "y_train = housing[\"SalePrice\"]"
      ]
    },
    {
      "cell_type": "markdown",
      "metadata": {
        "id": "h9XOIIn56KvX"
      },
      "source": [
        "Now we will use Scikit-Learn to preprocess the features..."
      ]
    },
    {
      "cell_type": "code",
      "execution_count": 4,
      "metadata": {
        "id": "CALfkscX6KvX"
      },
      "outputs": [],
      "source": [
        "from sklearn.feature_extraction import DictVectorizer\n",
        "from sklearn.preprocessing import StandardScaler\n",
        "\n",
        "vec = DictVectorizer(sparse=False)\n",
        "vec.fit(X_train_dict)\n",
        "X_train = vec.transform(X_train_dict)\n",
        "\n",
        "scaler = StandardScaler()\n",
        "scaler.fit(X_train)\n",
        "X_train_sc = scaler.transform(X_train)"
      ]
    },
    {
      "cell_type": "markdown",
      "metadata": {
        "id": "sbpIQA7a6KvY"
      },
      "source": [
        "...and to fit the $k$-nearest neighbors model to the data."
      ]
    },
    {
      "cell_type": "code",
      "execution_count": 5,
      "metadata": {
        "id": "mMxE5fUH6KvZ",
        "outputId": "c8c1f20e-4c31-4172-c37c-f965b3cb1480",
        "colab": {
          "base_uri": "https://localhost:8080/"
        }
      },
      "outputs": [
        {
          "output_type": "execute_result",
          "data": {
            "text/plain": [
              "array([164090. , 131512.5, 154860. , ..., 128530. , 140600. , 201800. ])"
            ]
          },
          "metadata": {},
          "execution_count": 5
        }
      ],
      "source": [
        "from sklearn.neighbors import KNeighborsRegressor\n",
        "\n",
        "# Fit a 10-nearest neighbors model.\n",
        "model = KNeighborsRegressor(n_neighbors=10)\n",
        "model.fit(X_train_sc, y_train)\n",
        "\n",
        "# Calculate the model predictions on the training data.\n",
        "y_train_pred = model.predict(X_train_sc)\n",
        "y_train_pred"
      ]
    },
    {
      "cell_type": "markdown",
      "metadata": {
        "id": "scWJasDg6Kva"
      },
      "source": [
        "Now it's time to compare these predictions to the true labels, which we know, since this is the training data."
      ]
    },
    {
      "cell_type": "code",
      "execution_count": 6,
      "metadata": {
        "id": "Uh1hWx836Kvb",
        "outputId": "811c969a-7c54-4dad-ba25-41a699c50dbf",
        "colab": {
          "base_uri": "https://localhost:8080/"
        }
      },
      "outputs": [
        {
          "output_type": "execute_result",
          "data": {
            "text/plain": [
              "1139928809.3893106"
            ]
          },
          "metadata": {},
          "execution_count": 6
        }
      ],
      "source": [
        "# Calculate the mean-squared error.\n",
        "mse = ((y_train - y_train_pred) ** 2).mean()\n",
        "mse"
      ]
    },
    {
      "cell_type": "markdown",
      "metadata": {
        "id": "NEeLxRpn6Kvb"
      },
      "source": [
        "This number is very large and not very interpretable (because it is in units of \"dollars squared\"). Let's take the square root to obtain the RMSE."
      ]
    },
    {
      "cell_type": "code",
      "execution_count": 7,
      "metadata": {
        "id": "MrSHbCkG6Kvb",
        "outputId": "0908c7df-35ba-4ac2-ca50-ca0dfcbe8490",
        "colab": {
          "base_uri": "https://localhost:8080/"
        }
      },
      "outputs": [
        {
          "output_type": "execute_result",
          "data": {
            "text/plain": [
              "33762.83177385023"
            ]
          },
          "metadata": {},
          "execution_count": 7
        }
      ],
      "source": [
        "rmse = np.sqrt(mse)\n",
        "rmse"
      ]
    },
    {
      "cell_type": "markdown",
      "metadata": {
        "id": "Nu2vuNYr6Kvd"
      },
      "source": [
        "The RMSE says that our model's predictions are, on average, off by about \\$33,000. This is not great, but it is also not too bad when an average house is worth about \\$180,000."
      ]
    },
    {
      "cell_type": "markdown",
      "metadata": {
        "id": "hZNZW7zN6Kvd"
      },
      "source": [
        "### The Problem with Training Error\n",
        "\n",
        "Training error is not a great measure of the quality of a model. To see why, consider a 1-nearest neighbor regression model. Before you read on, can you guess what the training error of a 1-nearest neighbor regression model will be?"
      ]
    },
    {
      "cell_type": "code",
      "execution_count": 8,
      "metadata": {
        "id": "UZiLGJwV6Kvd",
        "outputId": "81ef0528-7d5d-4808-fb02-cfb8587c2ec3",
        "colab": {
          "base_uri": "https://localhost:8080/"
        }
      },
      "outputs": [
        {
          "output_type": "execute_result",
          "data": {
            "text/plain": [
              "24.8259385665529"
            ]
          },
          "metadata": {},
          "execution_count": 8
        }
      ],
      "source": [
        "# Fit a 1-nearest neighbors model.\n",
        "model = KNeighborsRegressor(n_neighbors=1)\n",
        "model.fit(X_train_sc, y_train)\n",
        "\n",
        "# Calculate the model predictions on the training data.\n",
        "y_train_pred = model.predict(X_train_sc)\n",
        "\n",
        "# Calculate the MAE\n",
        "(y_train - y_train_pred).abs().mean()"
      ]
    },
    {
      "cell_type": "markdown",
      "metadata": {
        "id": "j96Svx_Q6Kvd"
      },
      "source": [
        "The training error of this model seems too good to be true. Can our model really be off by just \\$57.85 on average?\n",
        "\n",
        "The error is so small because the nearest neighbor to any observation in the training data will be the observation itself! In fact, if we look at the vector of differences between the true and predicted labels, we see that most of the differences are zero."
      ]
    },
    {
      "cell_type": "code",
      "execution_count": 9,
      "metadata": {
        "id": "0Z4APsBN6Kvd",
        "outputId": "3c3f8724-70cf-49ae-b5fd-331619048ea9",
        "colab": {
          "base_uri": "https://localhost:8080/"
        }
      },
      "outputs": [
        {
          "output_type": "execute_result",
          "data": {
            "text/plain": [
              "0       0.0\n",
              "1       0.0\n",
              "       ... \n",
              "2928    0.0\n",
              "2929    0.0\n",
              "Name: SalePrice, Length: 2930, dtype: float64"
            ]
          },
          "metadata": {},
          "execution_count": 9
        }
      ],
      "source": [
        "y_train - y_train_pred"
      ]
    },
    {
      "cell_type": "markdown",
      "metadata": {
        "id": "VsbS9cWd6Kve"
      },
      "source": [
        "Why isn't the MSE exactly equal to 0, then? That is because there may be multiple houses in the training data with the exact same values for all of the features, so there may be multiple observations that are a distance of 0.0 away. Any one of these observations has equal claim to being the \"1-nearest neighbor\". If we happen to select one of the _other_ houses in the training data as the nearest neighbor, then its price will in general be different.\n",
        "\n",
        "How many predictions did the 1-nearest neighbor model get wrong?"
      ]
    },
    {
      "cell_type": "code",
      "execution_count": 10,
      "metadata": {
        "id": "9mLCD42f6Kve",
        "outputId": "7e773e13-33c5-4781-8a7d-df5bb20a4879",
        "colab": {
          "base_uri": "https://localhost:8080/"
        }
      },
      "outputs": [
        {
          "output_type": "execute_result",
          "data": {
            "text/plain": [
              "10"
            ]
          },
          "metadata": {},
          "execution_count": 10
        }
      ],
      "source": [
        "(y_train != y_train_pred).sum()"
      ]
    },
    {
      "cell_type": "markdown",
      "metadata": {
        "id": "sGEvJv_m6Kve"
      },
      "source": [
        "The 1-nearest neighbor model nailed the price exactly for all but 22 of the 2930 houses, so the training error is small.\n",
        "\n",
        "Of course, a 1-nearest neighbor is unlikely to be the best model for predicting house prices. If one house in the training data happened to cost \\$10,000,000, it would not be sensible to predict another house to cost \\$10,000,000 -- even one very similar to it. This is why we usually average over multiple neighbors (i.e., $k$ neighbors) to make predictions.  \n",
        "\n",
        "In the next section, we will learn a better way to measure the quality of a model than training error."
      ]
    },
    {
      "cell_type": "markdown",
      "metadata": {
        "id": "d37Ccdhh6Kve"
      },
      "source": [
        "### Part 1: Exercises"
      ]
    },
    {
      "cell_type": "markdown",
      "metadata": {
        "id": "d_lAoO0c6Kve"
      },
      "source": [
        "#### Exercise 1\n",
        "\n",
        "Using the Tips data set (`../data/tips.csv`), train $k$-nearest neighbors regression models to predict the tip for different values of $k$. Calculate the training MAE of each model and make a plot showing this training error as a function of $k$.\n",
        "\n",
        "What do you see? Is there an issue here?\n",
        "\n",
        "**Note that for this part you should only use the training MAE!**"
      ]
    },
    {
      "cell_type": "code",
      "execution_count": 11,
      "metadata": {
        "id": "6FMQvADH6Kvf",
        "colab": {
          "base_uri": "https://localhost:8080/",
          "height": 352
        },
        "outputId": "6574792e-f67c-40d6-ba6e-45b2b358f80f"
      },
      "outputs": [
        {
          "output_type": "stream",
          "name": "stdout",
          "text": [
            "[[1, 0.0], [2, 0.49182377049180326], [3, 0.5894945355191256], [4, 0.6194467213114754], [5, 0.6466803278688525], [6, 0.6880806010928961], [7, 0.7134074941451991], [8, 0.7165778688524591], [9, 0.7279417122040074], [10, 0.7485983606557378], [11, 0.7671721311475411], [12, 0.7787875683060108], [13, 0.7963524590163934], [14, 0.8057084309133489], [15, 0.8152295081967214], [16, 0.8249001024590163], [17, 0.8327724204435872], [18, 0.8421174863387978], [19, 0.8411712683347712], [20, 0.8452438524590162], [21, 0.8446896955503511], [22, 0.8388319672131148], [23, 0.8437615823235922], [24, 0.8481437841530055], [25, 0.8451016393442622], [26, 0.8475709331651955], [27, 0.8511035215543412], [28, 0.8539095433255268], [29, 0.8560330695308082], [30, 0.8565901639344264], [31, 0.8580380750925437], [32, 0.8604098360655738], [33, 0.8596969696969696], [34, 0.8623203953712633], [35, 0.8671229508196721], [36, 0.8683310564663023], [37, 0.8734980062029243], [38, 0.879525452976704], [39, 0.8756841109709962], [40, 0.8773206967213116], [41, 0.8785425829668133], [42, 0.8804879000780639], [43, 0.8799933282500951], [44, 0.884581780923994], [45, 0.8858497267759563], [46, 0.8901247327156094], [47, 0.8917448552493896], [48, 0.8934110314207652], [49, 0.8939419538307125], [50, 0.8940131147540984], [51, 0.8956348441015749], [52, 0.8948786254728877], [53, 0.8970105165480978], [54, 0.8996425318761385], [55, 0.9011438152011922], [56, 0.9029617974238876], [57, 0.9003645383951681], [58, 0.8996876766534765], [59, 0.9017991108641288], [60, 0.9003790983606555], [61, 0.9033465466272507], [62, 0.903833289264939], [63, 0.9058957845433254], [64, 0.9078253073770491], [65, 0.9084571248423708], [66, 0.9082389468455042], [67, 0.9117292635184733], [68, 0.9123860896817744], [69, 0.9149691138037539], [70, 0.9169502341920374], [71, 0.9183260217039946], [72, 0.9183179644808743], [73, 0.9187261396811138], [74, 0.9195741027913159], [75, 0.9199628415300547], [76, 0.9213875107851596], [77, 0.923270704705131], [78, 0.9262300336275746], [79, 0.9275689977173687], [80, 0.9288401639344263], [81, 0.9293199757134184], [82, 0.9296671331467414], [83, 0.9297348410033577], [84, 0.9315729898516784], [85, 0.9324985535197685], [86, 0.9349690240182997], [87, 0.9349609006971924], [88, 0.9345817809239941], [89, 0.9345164855406152], [90, 0.9355519125683059], [91, 0.9357818411097101], [92, 0.9357123129009266], [93, 0.935027763088313], [94, 0.9349162888036276], [95, 0.934283865401208], [96, 0.9332688695355191], [97, 0.9338465438566841], [98, 0.9330394780863165], [99, 0.9330476900149031]]\n"
          ]
        },
        {
          "output_type": "execute_result",
          "data": {
            "text/plain": [
              "<matplotlib.axes._subplots.AxesSubplot at 0x7f5c5449dd90>"
            ]
          },
          "metadata": {},
          "execution_count": 11
        },
        {
          "output_type": "display_data",
          "data": {
            "text/plain": [
              "<Figure size 432x288 with 1 Axes>"
            ],
            "image/png": "[encoded data removed]"
          },
          "metadata": {
            "needs_background": "light"
          }
        }
      ],
      "source": [
        "import matplotlib as plt\n",
        "tips = pd.read_csv(\"../data/tips.csv\")\n",
        "\n",
        "# Separate data into features and values, and convert to dictionary vectors\n",
        "features = [\"total_bill\", \"sex\", \"smoker\", \"day\", \"time\", \"size\"]\n",
        "X_train_dict = tips[features].to_dict(orient=\"records\")\n",
        "y_train = tips[\"tip\"]\n",
        "\n",
        "# Preprocessing (dict vectors to onehot, and scale data using standardscaler)\n",
        "vec = DictVectorizer(sparse=False)\n",
        "vec.fit(X_train_dict)\n",
        "X_train = vec.transform(X_train_dict)\n",
        "scaler = StandardScaler()\n",
        "scaler.fit(X_train)\n",
        "X_train_sc = scaler.transform(X_train)\n",
        "\n",
        "mae_data = []\n",
        "\n",
        "\n",
        "# Generate MAE for all points\n",
        "# Assumes entire set is training data\n",
        "for i, k in enumerate(range(1,100)):\n",
        "  knn = KNeighborsRegressor(n_neighbors=k)\n",
        "  knn.fit(X_train_sc, y_train)\n",
        "  knn_pred = knn.predict(X_train_sc)\n",
        "  mae = (y_train - knn_pred).abs().mean()\n",
        "  mae_data.append([k, mae])\n",
        "\n",
        "\n",
        "print(mae_data)\n",
        "\n",
        "mae_data_df = pd.DataFrame(mae_data, columns = [\"K\", \"Mean Absolute Error\"])\n",
        "mae_data_df.plot(x = \"K\", y = \"Mean Absolute Error\", color = \"red\", title = \"K vs Mean Absolute Error\")\n",
        "\n",
        "\n",
        "\n",
        "\n",
        "\n",
        "\n",
        "\n"
      ]
    },
    {
      "cell_type": "markdown",
      "metadata": {
        "id": "gbHonSY46Kvf"
      },
      "source": [
        "**As K increases, the MAE actually increases and seems to converge to 1 - higher K for KNN regression doesn't actually reduce in lower training error**"
      ]
    },
    {
      "cell_type": "markdown",
      "metadata": {
        "id": "P89AOtYq6Kvf"
      },
      "source": [
        "## Part 2: Test and Validation Errors\n",
        "\n",
        "In the previous section, we saw that training error is not a great measure of a model's quality. For example, a $1$-nearest neighbor model will have a training error of $0.0$ (or close to it), but it is not necessarily the best prediction model, especially if there are outliers in the training data.\n",
        "\n",
        "In order to come up with a better measure of model quality, we need to formalize what it is we want to measure."
      ]
    },
    {
      "cell_type": "code",
      "execution_count": 12,
      "metadata": {
        "id": "_3Lw0wO66Kvf",
        "outputId": "cf0ae9a9-41a5-4a99-f14c-65a615396118",
        "colab": {
          "base_uri": "https://localhost:8080/",
          "height": 317
        }
      },
      "outputs": [
        {
          "output_type": "execute_result",
          "data": {
            "text/plain": [
              "      Order        PID  MS SubClass MS Zoning  Lot Frontage  Lot Area Street  \\\n",
              "0         1  526301100           20        RL         141.0     31770   Pave   \n",
              "1         2  526350040           20        RH          80.0     11622   Pave   \n",
              "...     ...        ...          ...       ...           ...       ...    ...   \n",
              "2928   2929  924100070           20        RL          77.0     10010   Pave   \n",
              "2929   2930  924151050           60        RL          74.0      9627   Pave   \n",
              "\n",
              "     Alley Lot Shape Land Contour  ... Pool Area Pool QC  Fence Misc Feature  \\\n",
              "0      NaN       IR1          Lvl  ...         0     NaN    NaN          NaN   \n",
              "1      NaN       Reg          Lvl  ...         0     NaN  MnPrv          NaN   \n",
              "...    ...       ...          ...  ...       ...     ...    ...          ...   \n",
              "2928   NaN       Reg          Lvl  ...         0     NaN    NaN          NaN   \n",
              "2929   NaN       Reg          Lvl  ...         0     NaN    NaN          NaN   \n",
              "\n",
              "     Misc Val Mo Sold Yr Sold Sale Type  Sale Condition  SalePrice  \n",
              "0           0       5    2010       WD           Normal     215000  \n",
              "1           0       6    2010       WD           Normal     105000  \n",
              "...       ...     ...     ...       ...             ...        ...  \n",
              "2928        0       4    2006       WD           Normal     170000  \n",
              "2929        0      11    2006       WD           Normal     188000  \n",
              "\n",
              "[2930 rows x 82 columns]"
            ],
            "text/html": [
              "\n",
              "  <div id=\"df-07ccff80-e7d7-4cd4-a939-06797562c897\">\n",
              "    <div class=\"colab-df-container\">\n",
              "      <div>\n",
              "<style scoped>\n",
              "    .dataframe tbody tr th:only-of-type {\n",
              "        vertical-align: middle;\n",
              "    }\n",
              "\n",
              "    .dataframe tbody tr th {\n",
              "        vertical-align: top;\n",
              "    }\n",
              "\n",
              "    .dataframe thead th {\n",
              "        text-align: right;\n",
              "    }\n",
              "</style>\n",
              "<table border=\"1\" class=\"dataframe\">\n",
              "  <thead>\n",
              "    <tr style=\"text-align: right;\">\n",
              "      <th></th>\n",
              "      <th>Order</th>\n",
              "      <th>PID</th>\n",
              "      <th>MS SubClass</th>\n",
              "      <th>MS Zoning</th>\n",
              "      <th>Lot Frontage</th>\n",
              "      <th>Lot Area</th>\n",
              "      <th>Street</th>\n",
              "      <th>Alley</th>\n",
              "      <th>Lot Shape</th>\n",
              "      <th>Land Contour</th>\n",
              "      <th>...</th>\n",
              "      <th>Pool Area</th>\n",
              "      <th>Pool QC</th>\n",
              "      <th>Fence</th>\n",
              "      <th>Misc Feature</th>\n",
              "      <th>Misc Val</th>\n",
              "      <th>Mo Sold</th>\n",
              "      <th>Yr Sold</th>\n",
              "      <th>Sale Type</th>\n",
              "      <th>Sale Condition</th>\n",
              "      <th>SalePrice</th>\n",
              "    </tr>\n",
              "  </thead>\n",
              "  <tbody>\n",
              "    <tr>\n",
              "      <th>0</th>\n",
              "      <td>1</td>\n",
              "      <td>526301100</td>\n",
              "      <td>20</td>\n",
              "      <td>RL</td>\n",
              "      <td>141.0</td>\n",
              "      <td>31770</td>\n",
              "      <td>Pave</td>\n",
              "      <td>NaN</td>\n",
              "      <td>IR1</td>\n",
              "      <td>Lvl</td>\n",
              "      <td>...</td>\n",
              "      <td>0</td>\n",
              "      <td>NaN</td>\n",
              "      <td>NaN</td>\n",
              "      <td>NaN</td>\n",
              "      <td>0</td>\n",
              "      <td>5</td>\n",
              "      <td>2010</td>\n",
              "      <td>WD</td>\n",
              "      <td>Normal</td>\n",
              "      <td>215000</td>\n",
              "    </tr>\n",
              "    <tr>\n",
              "      <th>1</th>\n",
              "      <td>2</td>\n",
              "      <td>526350040</td>\n",
              "      <td>20</td>\n",
              "      <td>RH</td>\n",
              "      <td>80.0</td>\n",
              "      <td>11622</td>\n",
              "      <td>Pave</td>\n",
              "      <td>NaN</td>\n",
              "      <td>Reg</td>\n",
              "      <td>Lvl</td>\n",
              "      <td>...</td>\n",
              "      <td>0</td>\n",
              "      <td>NaN</td>\n",
              "      <td>MnPrv</td>\n",
              "      <td>NaN</td>\n",
              "      <td>0</td>\n",
              "      <td>6</td>\n",
              "      <td>2010</td>\n",
              "      <td>WD</td>\n",
              "      <td>Normal</td>\n",
              "      <td>105000</td>\n",
              "    </tr>\n",
              "    <tr>\n",
              "      <th>...</th>\n",
              "      <td>...</td>\n",
              "      <td>...</td>\n",
              "      <td>...</td>\n",
              "      <td>...</td>\n",
              "      <td>...</td>\n",
              "      <td>...</td>\n",
              "      <td>...</td>\n",
              "      <td>...</td>\n",
              "      <td>...</td>\n",
              "      <td>...</td>\n",
              "      <td>...</td>\n",
              "      <td>...</td>\n",
              "      <td>...</td>\n",
              "      <td>...</td>\n",
              "      <td>...</td>\n",
              "      <td>...</td>\n",
              "      <td>...</td>\n",
              "      <td>...</td>\n",
              "      <td>...</td>\n",
              "      <td>...</td>\n",
              "      <td>...</td>\n",
              "    </tr>\n",
              "    <tr>\n",
              "      <th>2928</th>\n",
              "      <td>2929</td>\n",
              "      <td>924100070</td>\n",
              "      <td>20</td>\n",
              "      <td>RL</td>\n",
              "      <td>77.0</td>\n",
              "      <td>10010</td>\n",
              "      <td>Pave</td>\n",
              "      <td>NaN</td>\n",
              "      <td>Reg</td>\n",
              "      <td>Lvl</td>\n",
              "      <td>...</td>\n",
              "      <td>0</td>\n",
              "      <td>NaN</td>\n",
              "      <td>NaN</td>\n",
              "      <td>NaN</td>\n",
              "      <td>0</td>\n",
              "      <td>4</td>\n",
              "      <td>2006</td>\n",
              "      <td>WD</td>\n",
              "      <td>Normal</td>\n",
              "      <td>170000</td>\n",
              "    </tr>\n",
              "    <tr>\n",
              "      <th>2929</th>\n",
              "      <td>2930</td>\n",
              "      <td>924151050</td>\n",
              "      <td>60</td>\n",
              "      <td>RL</td>\n",
              "      <td>74.0</td>\n",
              "      <td>9627</td>\n",
              "      <td>Pave</td>\n",
              "      <td>NaN</td>\n",
              "      <td>Reg</td>\n",
              "      <td>Lvl</td>\n",
              "      <td>...</td>\n",
              "      <td>0</td>\n",
              "      <td>NaN</td>\n",
              "      <td>NaN</td>\n",
              "      <td>NaN</td>\n",
              "      <td>0</td>\n",
              "      <td>11</td>\n",
              "      <td>2006</td>\n",
              "      <td>WD</td>\n",
              "      <td>Normal</td>\n",
              "      <td>188000</td>\n",
              "    </tr>\n",
              "  </tbody>\n",
              "</table>\n",
              "<p>2930 rows × 82 columns</p>\n",
              "</div>\n",
              "      <button class=\"colab-df-convert\" onclick=\"convertToInteractive('df-07ccff80-e7d7-4cd4-a939-06797562c897')\"\n",
              "              title=\"Convert this dataframe to an interactive table.\"\n",
              "              style=\"display:none;\">\n",
              "        \n",
              "  <svg xmlns=\"http://www.w3.org/2000/svg\" height=\"24px\"viewBox=\"0 0 24 24\"\n",
              "       width=\"24px\">\n",
              "    <path d=\"M0 0h24v24H0V0z\" fill=\"none\"/>\n",
              "    <path d=\"M18.56 5.44l.94 2.06.94-2.06 2.06-.94-2.06-.94-.94-2.06-.94 2.06-2.06.94zm-11 1L8.5 8.5l.94-2.06 2.06-.94-2.06-.94L8.5 2.5l-.94 2.06-2.06.94zm10 10l.94 2.06.94-2.06 2.06-.94-2.06-.94-.94-2.06-.94 2.06-2.06.94z\"/><path d=\"M17.41 7.96l-1.37-1.37c-.4-.4-.92-.59-1.43-.59-.52 0-1.04.2-1.43.59L10.3 9.45l-7.72 7.72c-.78.78-.78 2.05 0 2.83L4 21.41c.39.39.9.59 1.41.59.51 0 1.02-.2 1.41-.59l7.78-7.78 2.81-2.81c.8-.78.8-2.07 0-2.86zM5.41 20L4 18.59l7.72-7.72 1.47 1.35L5.41 20z\"/>\n",
              "  </svg>\n",
              "      </button>\n",
              "      \n",
              "  <style>\n",
              "    .colab-df-container {\n",
              "      display:flex;\n",
              "      flex-wrap:wrap;\n",
              "      gap: 12px;\n",
              "    }\n",
              "\n",
              "    .colab-df-convert {\n",
              "      background-color: #E8F0FE;\n",
              "      border: none;\n",
              "      border-radius: 50%;\n",
              "      cursor: pointer;\n",
              "      display: none;\n",
              "      fill: #1967D2;\n",
              "      height: 32px;\n",
              "      padding: 0 0 0 0;\n",
              "      width: 32px;\n",
              "    }\n",
              "\n",
              "    .colab-df-convert:hover {\n",
              "      background-color: #E2EBFA;\n",
              "      box-shadow: 0px 1px 2px rgba(60, 64, 67, 0.3), 0px 1px 3px 1px rgba(60, 64, 67, 0.15);\n",
              "      fill: #174EA6;\n",
              "    }\n",
              "\n",
              "    [theme=dark] .colab-df-convert {\n",
              "      background-color: #3B4455;\n",
              "      fill: #D2E3FC;\n",
              "    }\n",
              "\n",
              "    [theme=dark] .colab-df-convert:hover {\n",
              "      background-color: #434B5C;\n",
              "      box-shadow: 0px 1px 3px 1px rgba(0, 0, 0, 0.15);\n",
              "      filter: drop-shadow(0px 1px 2px rgba(0, 0, 0, 0.3));\n",
              "      fill: #FFFFFF;\n",
              "    }\n",
              "  </style>\n",
              "\n",
              "      <script>\n",
              "        const buttonEl =\n",
              "          document.querySelector('#df-07ccff80-e7d7-4cd4-a939-06797562c897 button.colab-df-convert');\n",
              "        buttonEl.style.display =\n",
              "          google.colab.kernel.accessAllowed ? 'block' : 'none';\n",
              "\n",
              "        async function convertToInteractive(key) {\n",
              "          const element = document.querySelector('#df-07ccff80-e7d7-4cd4-a939-06797562c897');\n",
              "          const dataTable =\n",
              "            await google.colab.kernel.invokeFunction('convertToInteractive',\n",
              "                                                     [key], {});\n",
              "          if (!dataTable) return;\n",
              "\n",
              "          const docLinkHtml = 'Like what you see? Visit the ' +\n",
              "            '<a target=\"_blank\" href=https://colab.research.google.com/notebooks/data_table.ipynb>data table notebook</a>'\n",
              "            + ' to learn more about interactive tables.';\n",
              "          element.innerHTML = '';\n",
              "          dataTable['output_type'] = 'display_data';\n",
              "          await google.colab.output.renderOutput(dataTable, element);\n",
              "          const docLink = document.createElement('div');\n",
              "          docLink.innerHTML = docLinkHtml;\n",
              "          element.appendChild(docLink);\n",
              "        }\n",
              "      </script>\n",
              "    </div>\n",
              "  </div>\n",
              "  "
            ]
          },
          "metadata": {},
          "execution_count": 12
        }
      ],
      "source": [
        "import numpy as np\n",
        "import pandas as pd\n",
        "pd.options.display.max_rows = 5\n",
        "\n",
        "housing = pd.read_csv(\"../data/ames.tsv\", sep=\"\\t\")\n",
        "housing"
      ]
    },
    {
      "cell_type": "markdown",
      "metadata": {
        "id": "DGw_XnP66Kvf"
      },
      "source": [
        "### Overfitting and Test Error\n",
        "\n",
        "Ultimately, the goal of any prediction model is to make predictions on _future_ data. Therein lies the problem with training error. Training error measures how well a model predicts on the current data. It is possible to build a model that **overfits** to the training data---that is, a model that fits so well to the current data that it does poorly on future data.\n",
        "\n",
        "For example, consider fitting two different models to the 10 training observations shown below. The model represented by the red line actually passes through every observation (that is, its training error is zero). However, most people would prefer the model represented by the blue line. If one had to make a prediction for $y$ when $x = 0.8$, the value of the blue line is intuitively more plausible than the value of the red line, which is out of step with the nearby points.\n",
        "\n",
        "![](https://github.com/nmattei/cmps3160/blob/master/_labs/images/overfitting.png?raw=1)\n",
        "\n",
        "The argument for the blue model depends on _future_ data because the blue model is actually worse than the red model on the current data. The red model tries so hard to get the predictions on the training data right that it ends up _overfitting_.\n",
        "\n",
        "If the goal is to build a model that performs well on future data, then we ought to evaluate it (i.e., by calculating MSE, MAE, etc.) on future data. The prediction error on future data is also known as **test error**, in contrast to training error, which is the prediction error on current data. To calculate the test error, we need _labeled_ future data. In many applications, future data is expensive to collect and _labeled_ future data is even more expensive. How can we approximate the test error, using just the data that we have?"
      ]
    },
    {
      "cell_type": "markdown",
      "metadata": {
        "id": "BdndmRCs6Kvf"
      },
      "source": [
        "### Validation Error\n",
        "\n",
        "The solution is to split the training data into a **training set** and a **validation set**. The model will only be fit on the observations of the training set. Then, the model will be evaluated on the validation set. Because the validation set has not been seen by the model already, it essentially plays the role of \"future\" data, even though it was carved out of the current data.\n",
        "\n",
        "The prediction error on the validation set is known as the **validation error**. The validation error is an approximation to the test error."
      ]
    },
    {
      "cell_type": "markdown",
      "metadata": {
        "id": "ejUFUjsN6Kvf"
      },
      "source": [
        "To split our data into training and validation sets, we use the `.sample()` function in `pandas`. Let's use this to split our data into two equal halves, which we will call `train` and `val`."
      ]
    },
    {
      "cell_type": "code",
      "execution_count": 13,
      "metadata": {
        "id": "lT8uL-PA6Kvg",
        "outputId": "a38ff0ea-df31-4ea5-e9e6-7e6bcebaba13",
        "colab": {
          "base_uri": "https://localhost:8080/",
          "height": 317
        }
      },
      "outputs": [
        {
          "output_type": "execute_result",
          "data": {
            "text/plain": [
              "      Order        PID  MS SubClass MS Zoning  Lot Frontage  Lot Area Street  \\\n",
              "2909   2910  923225240          160        RM          41.0      2665   Pave   \n",
              "847     848  907192090           20        RL          67.0      9808   Pave   \n",
              "...     ...        ...          ...       ...           ...       ...    ...   \n",
              "2170   2171  908127040           20        RL          73.0     10921   Pave   \n",
              "2262   2263  916384150           20        RL          89.0     10991   Pave   \n",
              "\n",
              "     Alley Lot Shape Land Contour  ... Pool Area Pool QC Fence Misc Feature  \\\n",
              "2909   NaN       Reg          Lvl  ...         0     NaN   NaN          NaN   \n",
              "847    NaN       IR1          Lvl  ...         0     NaN   NaN          NaN   \n",
              "...    ...       ...          ...  ...       ...     ...   ...          ...   \n",
              "2170   NaN       Reg          HLS  ...         0     NaN   NaN          NaN   \n",
              "2262   NaN       IR1          HLS  ...         0     NaN   NaN          NaN   \n",
              "\n",
              "     Misc Val Mo Sold Yr Sold Sale Type  Sale Condition  SalePrice  \n",
              "2909        0       7    2006       WD           Normal     127000  \n",
              "847         0       3    2009       WD           Normal     227000  \n",
              "...       ...     ...     ...       ...             ...        ...  \n",
              "2170        0       5    2007       WD           Normal      94750  \n",
              "2262        0      12    2007       New         Partial     239000  \n",
              "\n",
              "[1465 rows x 82 columns]"
            ],
            "text/html": [
              "\n",
              "  <div id=\"df-52923be0-5362-40fb-84f9-18964cb756ff\">\n",
              "    <div class=\"colab-df-container\">\n",
              "      <div>\n",
              "<style scoped>\n",
              "    .dataframe tbody tr th:only-of-type {\n",
              "        vertical-align: middle;\n",
              "    }\n",
              "\n",
              "    .dataframe tbody tr th {\n",
              "        vertical-align: top;\n",
              "    }\n",
              "\n",
              "    .dataframe thead th {\n",
              "        text-align: right;\n",
              "    }\n",
              "</style>\n",
              "<table border=\"1\" class=\"dataframe\">\n",
              "  <thead>\n",
              "    <tr style=\"text-align: right;\">\n",
              "      <th></th>\n",
              "      <th>Order</th>\n",
              "      <th>PID</th>\n",
              "      <th>MS SubClass</th>\n",
              "      <th>MS Zoning</th>\n",
              "      <th>Lot Frontage</th>\n",
              "      <th>Lot Area</th>\n",
              "      <th>Street</th>\n",
              "      <th>Alley</th>\n",
              "      <th>Lot Shape</th>\n",
              "      <th>Land Contour</th>\n",
              "      <th>...</th>\n",
              "      <th>Pool Area</th>\n",
              "      <th>Pool QC</th>\n",
              "      <th>Fence</th>\n",
              "      <th>Misc Feature</th>\n",
              "      <th>Misc Val</th>\n",
              "      <th>Mo Sold</th>\n",
              "      <th>Yr Sold</th>\n",
              "      <th>Sale Type</th>\n",
              "      <th>Sale Condition</th>\n",
              "      <th>SalePrice</th>\n",
              "    </tr>\n",
              "  </thead>\n",
              "  <tbody>\n",
              "    <tr>\n",
              "      <th>2909</th>\n",
              "      <td>2910</td>\n",
              "      <td>923225240</td>\n",
              "      <td>160</td>\n",
              "      <td>RM</td>\n",
              "      <td>41.0</td>\n",
              "      <td>2665</td>\n",
              "      <td>Pave</td>\n",
              "      <td>NaN</td>\n",
              "      <td>Reg</td>\n",
              "      <td>Lvl</td>\n",
              "      <td>...</td>\n",
              "      <td>0</td>\n",
              "      <td>NaN</td>\n",
              "      <td>NaN</td>\n",
              "      <td>NaN</td>\n",
              "      <td>0</td>\n",
              "      <td>7</td>\n",
              "      <td>2006</td>\n",
              "      <td>WD</td>\n",
              "      <td>Normal</td>\n",
              "      <td>127000</td>\n",
              "    </tr>\n",
              "    <tr>\n",
              "      <th>847</th>\n",
              "      <td>848</td>\n",
              "      <td>907192090</td>\n",
              "      <td>20</td>\n",
              "      <td>RL</td>\n",
              "      <td>67.0</td>\n",
              "      <td>9808</td>\n",
              "      <td>Pave</td>\n",
              "      <td>NaN</td>\n",
              "      <td>IR1</td>\n",
              "      <td>Lvl</td>\n",
              "      <td>...</td>\n",
              "      <td>0</td>\n",
              "      <td>NaN</td>\n",
              "      <td>NaN</td>\n",
              "      <td>NaN</td>\n",
              "      <td>0</td>\n",
              "      <td>3</td>\n",
              "      <td>2009</td>\n",
              "      <td>WD</td>\n",
              "      <td>Normal</td>\n",
              "      <td>227000</td>\n",
              "    </tr>\n",
              "    <tr>\n",
              "      <th>...</th>\n",
              "      <td>...</td>\n",
              "      <td>...</td>\n",
              "      <td>...</td>\n",
              "      <td>...</td>\n",
              "      <td>...</td>\n",
              "      <td>...</td>\n",
              "      <td>...</td>\n",
              "      <td>...</td>\n",
              "      <td>...</td>\n",
              "      <td>...</td>\n",
              "      <td>...</td>\n",
              "      <td>...</td>\n",
              "      <td>...</td>\n",
              "      <td>...</td>\n",
              "      <td>...</td>\n",
              "      <td>...</td>\n",
              "      <td>...</td>\n",
              "      <td>...</td>\n",
              "      <td>...</td>\n",
              "      <td>...</td>\n",
              "      <td>...</td>\n",
              "    </tr>\n",
              "    <tr>\n",
              "      <th>2170</th>\n",
              "      <td>2171</td>\n",
              "      <td>908127040</td>\n",
              "      <td>20</td>\n",
              "      <td>RL</td>\n",
              "      <td>73.0</td>\n",
              "      <td>10921</td>\n",
              "      <td>Pave</td>\n",
              "      <td>NaN</td>\n",
              "      <td>Reg</td>\n",
              "      <td>HLS</td>\n",
              "      <td>...</td>\n",
              "      <td>0</td>\n",
              "      <td>NaN</td>\n",
              "      <td>NaN</td>\n",
              "      <td>NaN</td>\n",
              "      <td>0</td>\n",
              "      <td>5</td>\n",
              "      <td>2007</td>\n",
              "      <td>WD</td>\n",
              "      <td>Normal</td>\n",
              "      <td>94750</td>\n",
              "    </tr>\n",
              "    <tr>\n",
              "      <th>2262</th>\n",
              "      <td>2263</td>\n",
              "      <td>916384150</td>\n",
              "      <td>20</td>\n",
              "      <td>RL</td>\n",
              "      <td>89.0</td>\n",
              "      <td>10991</td>\n",
              "      <td>Pave</td>\n",
              "      <td>NaN</td>\n",
              "      <td>IR1</td>\n",
              "      <td>HLS</td>\n",
              "      <td>...</td>\n",
              "      <td>0</td>\n",
              "      <td>NaN</td>\n",
              "      <td>NaN</td>\n",
              "      <td>NaN</td>\n",
              "      <td>0</td>\n",
              "      <td>12</td>\n",
              "      <td>2007</td>\n",
              "      <td>New</td>\n",
              "      <td>Partial</td>\n",
              "      <td>239000</td>\n",
              "    </tr>\n",
              "  </tbody>\n",
              "</table>\n",
              "<p>1465 rows × 82 columns</p>\n",
              "</div>\n",
              "      <button class=\"colab-df-convert\" onclick=\"convertToInteractive('df-52923be0-5362-40fb-84f9-18964cb756ff')\"\n",
              "              title=\"Convert this dataframe to an interactive table.\"\n",
              "              style=\"display:none;\">\n",
              "        \n",
              "  <svg xmlns=\"http://www.w3.org/2000/svg\" height=\"24px\"viewBox=\"0 0 24 24\"\n",
              "       width=\"24px\">\n",
              "    <path d=\"M0 0h24v24H0V0z\" fill=\"none\"/>\n",
              "    <path d=\"M18.56 5.44l.94 2.06.94-2.06 2.06-.94-2.06-.94-.94-2.06-.94 2.06-2.06.94zm-11 1L8.5 8.5l.94-2.06 2.06-.94-2.06-.94L8.5 2.5l-.94 2.06-2.06.94zm10 10l.94 2.06.94-2.06 2.06-.94-2.06-.94-.94-2.06-.94 2.06-2.06.94z\"/><path d=\"M17.41 7.96l-1.37-1.37c-.4-.4-.92-.59-1.43-.59-.52 0-1.04.2-1.43.59L10.3 9.45l-7.72 7.72c-.78.78-.78 2.05 0 2.83L4 21.41c.39.39.9.59 1.41.59.51 0 1.02-.2 1.41-.59l7.78-7.78 2.81-2.81c.8-.78.8-2.07 0-2.86zM5.41 20L4 18.59l7.72-7.72 1.47 1.35L5.41 20z\"/>\n",
              "  </svg>\n",
              "      </button>\n",
              "      \n",
              "  <style>\n",
              "    .colab-df-container {\n",
              "      display:flex;\n",
              "      flex-wrap:wrap;\n",
              "      gap: 12px;\n",
              "    }\n",
              "\n",
              "    .colab-df-convert {\n",
              "      background-color: #E8F0FE;\n",
              "      border: none;\n",
              "      border-radius: 50%;\n",
              "      cursor: pointer;\n",
              "      display: none;\n",
              "      fill: #1967D2;\n",
              "      height: 32px;\n",
              "      padding: 0 0 0 0;\n",
              "      width: 32px;\n",
              "    }\n",
              "\n",
              "    .colab-df-convert:hover {\n",
              "      background-color: #E2EBFA;\n",
              "      box-shadow: 0px 1px 2px rgba(60, 64, 67, 0.3), 0px 1px 3px 1px rgba(60, 64, 67, 0.15);\n",
              "      fill: #174EA6;\n",
              "    }\n",
              "\n",
              "    [theme=dark] .colab-df-convert {\n",
              "      background-color: #3B4455;\n",
              "      fill: #D2E3FC;\n",
              "    }\n",
              "\n",
              "    [theme=dark] .colab-df-convert:hover {\n",
              "      background-color: #434B5C;\n",
              "      box-shadow: 0px 1px 3px 1px rgba(0, 0, 0, 0.15);\n",
              "      filter: drop-shadow(0px 1px 2px rgba(0, 0, 0, 0.3));\n",
              "      fill: #FFFFFF;\n",
              "    }\n",
              "  </style>\n",
              "\n",
              "      <script>\n",
              "        const buttonEl =\n",
              "          document.querySelector('#df-52923be0-5362-40fb-84f9-18964cb756ff button.colab-df-convert');\n",
              "        buttonEl.style.display =\n",
              "          google.colab.kernel.accessAllowed ? 'block' : 'none';\n",
              "\n",
              "        async function convertToInteractive(key) {\n",
              "          const element = document.querySelector('#df-52923be0-5362-40fb-84f9-18964cb756ff');\n",
              "          const dataTable =\n",
              "            await google.colab.kernel.invokeFunction('convertToInteractive',\n",
              "                                                     [key], {});\n",
              "          if (!dataTable) return;\n",
              "\n",
              "          const docLinkHtml = 'Like what you see? Visit the ' +\n",
              "            '<a target=\"_blank\" href=https://colab.research.google.com/notebooks/data_table.ipynb>data table notebook</a>'\n",
              "            + ' to learn more about interactive tables.';\n",
              "          element.innerHTML = '';\n",
              "          dataTable['output_type'] = 'display_data';\n",
              "          await google.colab.output.renderOutput(dataTable, element);\n",
              "          const docLink = document.createElement('div');\n",
              "          docLink.innerHTML = docLinkHtml;\n",
              "          element.appendChild(docLink);\n",
              "        }\n",
              "      </script>\n",
              "    </div>\n",
              "  </div>\n",
              "  "
            ]
          },
          "metadata": {},
          "execution_count": 13
        }
      ],
      "source": [
        "train = housing.sample(frac=.5)\n",
        "val = housing.drop(train.index)\n",
        "\n",
        "train"
      ]
    },
    {
      "cell_type": "markdown",
      "metadata": {
        "id": "ePjmdY4p6Kvg"
      },
      "source": [
        "Now let's use this training/validation split to approximate the test error of a 10-nearest neighbors model.\n",
        "\n",
        "First, we extract the variables we need."
      ]
    },
    {
      "cell_type": "code",
      "execution_count": 14,
      "metadata": {
        "id": "hBmjZ-LN6Kvg"
      },
      "outputs": [],
      "source": [
        "# Features in our model. All quantitative, except Neighborhood.\n",
        "features = [\"Lot Area\", \"Gr Liv Area\",\n",
        "            \"Full Bath\", \"Half Bath\",\n",
        "            \"Bedroom AbvGr\", \n",
        "            \"Year Built\", \"Yr Sold\",\n",
        "            \"Neighborhood\"]\n",
        "\n",
        "X_train_dict = train[features].to_dict(orient=\"records\")\n",
        "X_val_dict = val[features].to_dict(orient=\"records\")\n",
        "\n",
        "y_train = train[\"SalePrice\"]\n",
        "y_val = val[\"SalePrice\"]"
      ]
    },
    {
      "cell_type": "markdown",
      "metadata": {
        "id": "UZbLzO1W6Kvg"
      },
      "source": [
        "Next, we use Scikit-Learn to preprocess the training and the validation data. Note that the vectorizer and the scaler are both fit to the training data, so we learn the categories, the mean, and standard deviation from the training set---and use these to transform both the training and validation sets."
      ]
    },
    {
      "cell_type": "code",
      "execution_count": 15,
      "metadata": {
        "id": "CNuXU8BQ6Kvg"
      },
      "outputs": [],
      "source": [
        "from sklearn.feature_extraction import DictVectorizer\n",
        "from sklearn.preprocessing import StandardScaler\n",
        "\n",
        "# convert categorical variables to dummy variables\n",
        "vec = DictVectorizer(sparse=False)\n",
        "vec.fit(X_train_dict)\n",
        "X_train = vec.transform(X_train_dict)\n",
        "X_val = vec.transform(X_val_dict)\n",
        "\n",
        "# standardize the data\n",
        "scaler = StandardScaler()\n",
        "scaler.fit(X_train)\n",
        "X_train_sc = scaler.transform(X_train)\n",
        "X_val_sc = scaler.transform(X_val)"
      ]
    },
    {
      "cell_type": "markdown",
      "metadata": {
        "id": "sMtSEVhD6Kvg"
      },
      "source": [
        "We are now ready to fit a $k$-nearest neighbors model to the training data."
      ]
    },
    {
      "cell_type": "code",
      "execution_count": 16,
      "metadata": {
        "id": "M0V4P5vV6Kvg",
        "outputId": "3363d9bf-2f75-4b03-fac9-c418eacc2b2b",
        "colab": {
          "base_uri": "https://localhost:8080/"
        }
      },
      "outputs": [
        {
          "output_type": "execute_result",
          "data": {
            "text/plain": [
              "KNeighborsRegressor(n_neighbors=10)"
            ]
          },
          "metadata": {},
          "execution_count": 16
        }
      ],
      "source": [
        "from sklearn.neighbors import KNeighborsRegressor\n",
        "\n",
        "# Fit a 10-nearest neighbors model.\n",
        "model = KNeighborsRegressor(n_neighbors=10)\n",
        "model.fit(X_train_sc, y_train)"
      ]
    },
    {
      "cell_type": "markdown",
      "metadata": {
        "id": "-ibOAf1q6Kvh"
      },
      "source": [
        "We make predictions on the validation set and calculate the validation RMSE:"
      ]
    },
    {
      "cell_type": "code",
      "execution_count": 17,
      "metadata": {
        "id": "pfXF0wGB6Kvh",
        "outputId": "cb8cd396-213f-4be7-c1f2-e3a7a5d1e7f5",
        "colab": {
          "base_uri": "https://localhost:8080/"
        }
      },
      "outputs": [
        {
          "output_type": "execute_result",
          "data": {
            "text/plain": [
              "42509.62507015439"
            ]
          },
          "metadata": {},
          "execution_count": 17
        }
      ],
      "source": [
        "y_val_pred = model.predict(X_val_sc)\n",
        "rmse = np.sqrt(((y_val - y_val_pred) ** 2).mean())\n",
        "rmse"
      ]
    },
    {
      "cell_type": "markdown",
      "metadata": {
        "id": "zE_wxsr36Kvh"
      },
      "source": [
        "Notice that the test error is higher than the training error that we calculated in the previous section. In general, this will be true. It is harder for a model to predict for new observations it has not seen, than for observations it has seen!"
      ]
    },
    {
      "cell_type": "markdown",
      "metadata": {
        "id": "8zmty4GU6Kvh"
      },
      "source": [
        "### Cross Validation\n",
        "\n",
        "One downside of the validation error above is that it was calculated using only 50% of the data. As a result, the estimate is noisy.\n",
        "\n",
        "There is a cheap way to obtain a second opinion of how well our model will do on future data. Previously, we split our data at random into two halves, training the model on the first half and evaluating it using the second half. Because the model has not already seen the second half of the data, this approximates how well the model would perform on future data. \n",
        "\n",
        "But the way we split our data was arbitrary. We might as well swap the roles of the two halves, training the model on the _second_ half and evaluating it using the _first_ half. As long as the model is always evaluated on data that is different from the data that was used to train it, we have a valid measure of how well our model would perform on future data. A schematic of this approach, known as **cross-validation**, is shown below.\n",
        "\n",
        "<img src=\"https://github.com/nmattei/cmps3160/blob/master/_labs/images/cross-validation.png?raw=1\" />\n",
        "\n",
        "Because we will be doing all computations twice, just with different data, let's wrap the $k$-nearest neighbors algorithm above into a function called `get_val_error()`, that computes the validation error given training and validation data."
      ]
    },
    {
      "cell_type": "code",
      "execution_count": 18,
      "metadata": {
        "id": "TKKnh_qY6Kvh"
      },
      "outputs": [],
      "source": [
        "def get_val_error(X_train, y_train, X_val, y_val):\n",
        "    \n",
        "    # convert categorical variables to dummy variables\n",
        "    vec = DictVectorizer(sparse=False)\n",
        "    vec.fit(X_train_dict)\n",
        "    X_train = vec.transform(X_train_dict)\n",
        "    X_val = vec.transform(X_val_dict)\n",
        "\n",
        "    # standardize the data\n",
        "    scaler = StandardScaler()\n",
        "    scaler.fit(X_train)\n",
        "    X_train_sc = scaler.transform(X_train)\n",
        "    X_val_sc = scaler.transform(X_val)\n",
        "    \n",
        "    # Fit a 10-nearest neighbors model.\n",
        "    model = KNeighborsRegressor(n_neighbors=10)\n",
        "    model.fit(X_train_sc, y_train)\n",
        "    \n",
        "    # Make predictions on the validation set.\n",
        "    y_val_pred = model.predict(X_val_sc)\n",
        "    rmse = np.sqrt(((y_val - y_val_pred) ** 2).mean())\n",
        "    \n",
        "    return rmse"
      ]
    },
    {
      "cell_type": "markdown",
      "metadata": {
        "id": "WBbSOhZU6Kvh"
      },
      "source": [
        "If we apply this function to the training and test sets from earlier, we get the same estimate of the test error."
      ]
    },
    {
      "cell_type": "code",
      "execution_count": 19,
      "metadata": {
        "id": "4KOaW9lm6Kvh",
        "outputId": "7896f59a-8382-4aed-b9af-3cc9b37a7256",
        "colab": {
          "base_uri": "https://localhost:8080/"
        }
      },
      "outputs": [
        {
          "output_type": "execute_result",
          "data": {
            "text/plain": [
              "42509.62507015439"
            ]
          },
          "metadata": {},
          "execution_count": 19
        }
      ],
      "source": [
        "get_val_error(X_train, y_train, X_val, y_val)"
      ]
    },
    {
      "cell_type": "markdown",
      "metadata": {
        "id": "RYxV4ZfW6Kvh"
      },
      "source": [
        "But if we reverse the roles of the training and test sets, we get another estimate of the test error."
      ]
    },
    {
      "cell_type": "code",
      "execution_count": 20,
      "metadata": {
        "id": "ASnh3iQA6Kvi",
        "outputId": "c24f7d29-6b3b-4409-fcf4-42da53836bc7",
        "colab": {
          "base_uri": "https://localhost:8080/"
        }
      },
      "outputs": [
        {
          "output_type": "execute_result",
          "data": {
            "text/plain": [
              "81458.1462016037"
            ]
          },
          "metadata": {},
          "execution_count": 20
        }
      ],
      "source": [
        "get_val_error(X_val, y_val, X_train, y_train)"
      ]
    },
    {
      "cell_type": "markdown",
      "metadata": {
        "id": "9gPS9CHp6Kvi"
      },
      "source": [
        "Now we have two, somewhat independent estimates of the test error. It is common to average the two to obtain an overall estimate of the test error, called the **cross-validation error**. Notice that the cross-validation error uses each observation in the data exactly once. We make a prediction for each observation, but always using a model that was trained on data that does not include that observation."
      ]
    },
    {
      "cell_type": "markdown",
      "metadata": {
        "id": "AqmAxI-Z6Kvi"
      },
      "source": [
        "### Part 2: Exercises"
      ]
    },
    {
      "cell_type": "markdown",
      "metadata": {
        "id": "kGjkWACz6Kvi"
      },
      "source": [
        "#### Exercise 2\n",
        "\n",
        "Use cross-validation to estimate the test error of a 1-nearest neighbor classifier on the Ames housing price data. How does a 1-nearest neighbor classifier compare to a 10-nearest neighbor classifier in terms of its ability to predict on _future_ data?"
      ]
    },
    {
      "cell_type": "code",
      "execution_count": 21,
      "metadata": {
        "id": "lbte_HN36Kvi",
        "colab": {
          "base_uri": "https://localhost:8080/"
        },
        "outputId": "03dedf15-9a73-4ff5-f83c-879344e714d9"
      },
      "outputs": [
        {
          "output_type": "stream",
          "name": "stdout",
          "text": [
            "{'fit_time': array([0.00732732, 0.01249456]), 'score_time': array([0.04295635, 0.05505586]), 'test_score': array([-44449.82396063, -47056.22528941])}\n",
            "{'fit_time': array([0.01070499, 0.01049781]), 'score_time': array([0.06017256, 0.06464696]), 'test_score': array([-43747.34203993, -47980.87905043])}\n",
            "\n",
            "1 Neighbor RMSE: 45753.0246 error\n",
            "10 Neighbor RMSE: 45864.1105 error\n"
          ]
        }
      ],
      "source": [
        "housing = pd.read_csv(\"../data/ames.tsv\", sep=\"\\t\")\n",
        "\n",
        "from sklearn.model_selection import train_test_split\n",
        "from sklearn.pipeline import Pipeline\n",
        "from sklearn.model_selection import cross_validate\n",
        "from sklearn.metrics import mean_squared_error\n",
        "features = [\"Lot Area\", \"Gr Liv Area\",\n",
        "            \"Full Bath\", \"Half Bath\",\n",
        "            \"Bedroom AbvGr\", \n",
        "            \"Year Built\", \"Yr Sold\",\n",
        "            \"Neighborhood\"]\n",
        "\n",
        "# Get dummies for X, split off sale-price for label parameter\n",
        "X = pd.get_dummies(housing[features])\n",
        "y = housing[\"SalePrice\"]\n",
        "\n",
        "# Split data in half\n",
        "X_train, X_test, y_train, y_test = train_test_split(X, y, test_size = 0.5)\n",
        "\n",
        "# KNN Regressors for n = 1, 10\n",
        "KNN1 = KNeighborsRegressor(n_neighbors = 1)\n",
        "KNN10 = KNeighborsRegressor(n_neighbors = 10)\n",
        "\n",
        "# Scale then fit models\n",
        "knn1pipe = Pipeline([('scaler', StandardScaler()), ('knn1', KNN1)])\n",
        "knn1pipe.fit(X_train, y_train)\n",
        "\n",
        "knn10pipe = Pipeline([('scaler', StandardScaler()), ('knn10', KNN10)])\n",
        "knn10pipe.fit(X_train, y_train)\n",
        "\n",
        "# Cross validate on one 'fold' - returns \"score\", not \"error\"\n",
        "knn1_cv_results = cross_validate(knn1pipe, X, y, cv = 2, scoring = \"neg_root_mean_squared_error\")\n",
        "print(knn1_cv_results)\n",
        "knn10_cv_results = cross_validate(knn10pipe, X, y, cv = 2, scoring = \"neg_root_mean_squared_error\")\n",
        "print(knn10_cv_results)\n",
        "print()\n",
        "\n",
        "\n",
        "# Output mean of CV scores for each model\n",
        "print(\"1 Neighbor RMSE: %.4f error\" %(-knn1_cv_results[\"test_score\"].mean()))\n",
        "print(\"10 Neighbor RMSE: %.4f error\"%(-knn10_cv_results[\"test_score\"].mean()))\n",
        "\n",
        "\n",
        "\n"
      ]
    },
    {
      "cell_type": "code",
      "source": [
        "from sklearn.model_selection import train_test_split\n",
        "from sklearn.pipeline import Pipeline\n",
        "from sklearn.model_selection import cross_validate\n",
        "from sklearn.metrics import mean_squared_error\n",
        "\n",
        "housing = pd.read_csv(\"../data/ames.tsv\", sep=\"\\t\")\n",
        "features = [\"Lot Area\", \"Gr Liv Area\",\n",
        "            \"Full Bath\", \"Half Bath\",\n",
        "            \"Bedroom AbvGr\", \n",
        "            \"Year Built\", \"Yr Sold\",\n",
        "            \"Neighborhood\"]\n",
        "\n",
        "X_dict = housing[features].to_dict(orient=\"records\")\n",
        "y = housing[\"SalePrice\"]\n",
        "\n",
        "testMAE = []\n",
        "\n",
        "for i,k in enumerate([1,10]):\n",
        "  # Create KNN Model\n",
        "  knn_model = KNeighborsRegressor(n_neighbors = k)\n",
        "  # Create pipeline with KNN, scaler, vectorizer\n",
        "  pipeline = Pipeline([(\"vectorizer\", vec), (\"scaler\", scaler), (\"fit\", knn_model)])\n",
        "  # Get cross-val scores (accuracy) for pipeline  cv = 2\n",
        "  mae = cross_validate(pipeline, X_dict, y, cv = 2, scoring = \"neg_mean_absolute_error\", return_train_score = False)\n",
        "  # Extract error (1 - (-MAE_score))\n",
        "  test_mae = np.mean(mae[\"test_score\"])\n",
        "  # Append data to array\n",
        "  testMAE.append([k,test_mae])\n",
        "\n",
        "testMAE_df = pd.DataFrame(testMAE, columns = [\"K\", \"Test MAE\"])\n",
        "testMAE_df.set_index([\"K\"], inplace = True)\n",
        "testMAE_df.head()\n",
        "\n",
        "\n"
      ],
      "metadata": {
        "colab": {
          "base_uri": "https://localhost:8080/",
          "height": 143
        },
        "id": "UWZ8FOc9QcLv",
        "outputId": "91d4f2f7-467a-42a1-9001-6c81ed14999a"
      },
      "execution_count": 72,
      "outputs": [
        {
          "output_type": "execute_result",
          "data": {
            "text/plain": [
              "        Test MAE\n",
              "K               \n",
              "1  -30162.499317\n",
              "10 -30052.833447"
            ],
            "text/html": [
              "\n",
              "  <div id=\"df-b85ff631-eef4-4432-b2fc-7d85b36f996d\">\n",
              "    <div class=\"colab-df-container\">\n",
              "      <div>\n",
              "<style scoped>\n",
              "    .dataframe tbody tr th:only-of-type {\n",
              "        vertical-align: middle;\n",
              "    }\n",
              "\n",
              "    .dataframe tbody tr th {\n",
              "        vertical-align: top;\n",
              "    }\n",
              "\n",
              "    .dataframe thead th {\n",
              "        text-align: right;\n",
              "    }\n",
              "</style>\n",
              "<table border=\"1\" class=\"dataframe\">\n",
              "  <thead>\n",
              "    <tr style=\"text-align: right;\">\n",
              "      <th></th>\n",
              "      <th>Test MAE</th>\n",
              "    </tr>\n",
              "    <tr>\n",
              "      <th>K</th>\n",
              "      <th></th>\n",
              "    </tr>\n",
              "  </thead>\n",
              "  <tbody>\n",
              "    <tr>\n",
              "      <th>1</th>\n",
              "      <td>-30162.499317</td>\n",
              "    </tr>\n",
              "    <tr>\n",
              "      <th>10</th>\n",
              "      <td>-30052.833447</td>\n",
              "    </tr>\n",
              "  </tbody>\n",
              "</table>\n",
              "</div>\n",
              "      <button class=\"colab-df-convert\" onclick=\"convertToInteractive('df-b85ff631-eef4-4432-b2fc-7d85b36f996d')\"\n",
              "              title=\"Convert this dataframe to an interactive table.\"\n",
              "              style=\"display:none;\">\n",
              "        \n",
              "  <svg xmlns=\"http://www.w3.org/2000/svg\" height=\"24px\"viewBox=\"0 0 24 24\"\n",
              "       width=\"24px\">\n",
              "    <path d=\"M0 0h24v24H0V0z\" fill=\"none\"/>\n",
              "    <path d=\"M18.56 5.44l.94 2.06.94-2.06 2.06-.94-2.06-.94-.94-2.06-.94 2.06-2.06.94zm-11 1L8.5 8.5l.94-2.06 2.06-.94-2.06-.94L8.5 2.5l-.94 2.06-2.06.94zm10 10l.94 2.06.94-2.06 2.06-.94-2.06-.94-.94-2.06-.94 2.06-2.06.94z\"/><path d=\"M17.41 7.96l-1.37-1.37c-.4-.4-.92-.59-1.43-.59-.52 0-1.04.2-1.43.59L10.3 9.45l-7.72 7.72c-.78.78-.78 2.05 0 2.83L4 21.41c.39.39.9.59 1.41.59.51 0 1.02-.2 1.41-.59l7.78-7.78 2.81-2.81c.8-.78.8-2.07 0-2.86zM5.41 20L4 18.59l7.72-7.72 1.47 1.35L5.41 20z\"/>\n",
              "  </svg>\n",
              "      </button>\n",
              "      \n",
              "  <style>\n",
              "    .colab-df-container {\n",
              "      display:flex;\n",
              "      flex-wrap:wrap;\n",
              "      gap: 12px;\n",
              "    }\n",
              "\n",
              "    .colab-df-convert {\n",
              "      background-color: #E8F0FE;\n",
              "      border: none;\n",
              "      border-radius: 50%;\n",
              "      cursor: pointer;\n",
              "      display: none;\n",
              "      fill: #1967D2;\n",
              "      height: 32px;\n",
              "      padding: 0 0 0 0;\n",
              "      width: 32px;\n",
              "    }\n",
              "\n",
              "    .colab-df-convert:hover {\n",
              "      background-color: #E2EBFA;\n",
              "      box-shadow: 0px 1px 2px rgba(60, 64, 67, 0.3), 0px 1px 3px 1px rgba(60, 64, 67, 0.15);\n",
              "      fill: #174EA6;\n",
              "    }\n",
              "\n",
              "    [theme=dark] .colab-df-convert {\n",
              "      background-color: #3B4455;\n",
              "      fill: #D2E3FC;\n",
              "    }\n",
              "\n",
              "    [theme=dark] .colab-df-convert:hover {\n",
              "      background-color: #434B5C;\n",
              "      box-shadow: 0px 1px 3px 1px rgba(0, 0, 0, 0.15);\n",
              "      filter: drop-shadow(0px 1px 2px rgba(0, 0, 0, 0.3));\n",
              "      fill: #FFFFFF;\n",
              "    }\n",
              "  </style>\n",
              "\n",
              "      <script>\n",
              "        const buttonEl =\n",
              "          document.querySelector('#df-b85ff631-eef4-4432-b2fc-7d85b36f996d button.colab-df-convert');\n",
              "        buttonEl.style.display =\n",
              "          google.colab.kernel.accessAllowed ? 'block' : 'none';\n",
              "\n",
              "        async function convertToInteractive(key) {\n",
              "          const element = document.querySelector('#df-b85ff631-eef4-4432-b2fc-7d85b36f996d');\n",
              "          const dataTable =\n",
              "            await google.colab.kernel.invokeFunction('convertToInteractive',\n",
              "                                                     [key], {});\n",
              "          if (!dataTable) return;\n",
              "\n",
              "          const docLinkHtml = 'Like what you see? Visit the ' +\n",
              "            '<a target=\"_blank\" href=https://colab.research.google.com/notebooks/data_table.ipynb>data table notebook</a>'\n",
              "            + ' to learn more about interactive tables.';\n",
              "          element.innerHTML = '';\n",
              "          dataTable['output_type'] = 'display_data';\n",
              "          await google.colab.output.renderOutput(dataTable, element);\n",
              "          const docLink = document.createElement('div');\n",
              "          docLink.innerHTML = docLinkHtml;\n",
              "          element.appendChild(docLink);\n",
              "        }\n",
              "      </script>\n",
              "    </div>\n",
              "  </div>\n",
              "  "
            ]
          },
          "metadata": {},
          "execution_count": 72
        }
      ]
    },
    {
      "cell_type": "markdown",
      "metadata": {
        "id": "fXpUL2tA6Kvi"
      },
      "source": [
        "*The 10-neighbor model is slightly worse at predicting future data than the 1-neighbor model, which implies that it is slightly overfit*"
      ]
    },
    {
      "cell_type": "markdown",
      "metadata": {
        "id": "yZQYTlk66Kvi"
      },
      "source": [
        "#### Exercise 3\n",
        "\n",
        "Using the Tips data set (`../data/tips.csv`), train $k$-nearest neighbors regression models to predict the tip for different values of $k$. Calculate the training and validation MAE of each model, and make a plot showing these errors as a function of $k$."
      ]
    },
    {
      "cell_type": "code",
      "execution_count": 83,
      "metadata": {
        "id": "FHPHY8I76Kvi",
        "colab": {
          "base_uri": "https://localhost:8080/",
          "height": 297
        },
        "outputId": "0f71b598-06fa-42ba-850f-5146186ff921"
      },
      "outputs": [
        {
          "output_type": "execute_result",
          "data": {
            "text/plain": [
              "<matplotlib.axes._subplots.AxesSubplot at 0x7f5c52791750>"
            ]
          },
          "metadata": {},
          "execution_count": 83
        },
        {
          "output_type": "display_data",
          "data": {
            "text/plain": [
              "<Figure size 432x288 with 1 Axes>"
            ],
            "image/png": "[encoded data removed]"
          },
          "metadata": {
            "needs_background": "light"
          }
        }
      ],
      "source": [
        "import matplotlib as plt\n",
        "\n",
        "# Load data, separate features\n",
        "tips = pd.read_csv(\"../data/tips.csv\")\n",
        "features = [\"total_bill\", \"sex\", \"smoker\", \"day\", \"time\", \"size\"]\n",
        "X_dict = tips[features].to_dict(orient=\"records\")\n",
        "y = tips[\"tip\"]\n",
        "\n",
        "# Load vectorizer, scaler\n",
        "vec = DictVectorizer(sparse=False)\n",
        "scaler = StandardScaler()\n",
        "\n",
        "# Array for error data\n",
        "error1data = []\n",
        "\n",
        "# For k in between 2 and 100\n",
        "for i, k in enumerate(range(2,100)):\n",
        "  # Create KNN Model\n",
        "  knn_model = KNeighborsRegressor(n_neighbors = k)\n",
        "  # Create pipeline with KNN, scaler, vectorizer\n",
        "  pipeline = Pipeline([(\"vectorizer\", vec), (\"scaler\", scaler), (\"fit\", knn_model)])\n",
        "  # Get cross-val scores (accuracy) for pipeline and return training score as well, cv = 2 (1 fold)\n",
        "  mae = cross_validate(\n",
        "        pipeline, X_dict, y, \n",
        "        cv=2, scoring=\"neg_mean_absolute_error\", return_train_score = True)\n",
        "  # Extract error values\n",
        "  test_mae = np.mean(-mae[\"test_score\"])\n",
        "  train_mae = np.mean(-mae[\"train_score\"])\n",
        "  # Append data to array\n",
        "  error1data.append([k, test_mae, train_mae])\n",
        "\n",
        "# Plot data\n",
        "error1_df = pd.DataFrame(error1data, columns = [\"K\", \"Test MAE\", \"Train MAE\"])\n",
        "error1_df.set_index([\"K\"], inplace = True)\n",
        "error1_df.plot()\n",
        "\n",
        "\n",
        "  "
      ]
    },
    {
      "cell_type": "markdown",
      "metadata": {
        "id": "PTFxQTAl6Kvi"
      },
      "source": [
        "**Written Answer:**\n",
        "*Just the plot?*"
      ]
    },
    {
      "cell_type": "markdown",
      "metadata": {
        "id": "PoIlKVrM6Kvi"
      },
      "source": [
        "## Part 3: Bringing It All Together: Model Selection and Hyperparameter Tuning\n",
        "\n",
        "This section will use the tools developed in the previous section to answer two important questions:\n",
        "\n",
        "- Model Selection: How do we determine which model is best?\n",
        "- Hyperparameter Tuning: How do we choose hyperparameters, such as $k$ in $k$-nearest neighbors?\n",
        "\n",
        "In the previous section, we saw how to use training and validation sets to estimate how well the model will perform on future data. A natural way to decide between competing models (or hyperparameters) is to choose the one that minimizes the validation error."
      ]
    },
    {
      "cell_type": "code",
      "execution_count": 23,
      "metadata": {
        "id": "6HxVHk2P6Kvj",
        "outputId": "a3f15758-7a1b-4e58-c908-252d09fc8c88",
        "colab": {
          "base_uri": "https://localhost:8080/",
          "height": 317
        }
      },
      "outputs": [
        {
          "output_type": "execute_result",
          "data": {
            "text/plain": [
              "      Order        PID  MS SubClass MS Zoning  Lot Frontage  Lot Area Street  \\\n",
              "0         1  526301100           20        RL         141.0     31770   Pave   \n",
              "1         2  526350040           20        RH          80.0     11622   Pave   \n",
              "...     ...        ...          ...       ...           ...       ...    ...   \n",
              "2928   2929  924100070           20        RL          77.0     10010   Pave   \n",
              "2929   2930  924151050           60        RL          74.0      9627   Pave   \n",
              "\n",
              "     Alley Lot Shape Land Contour  ... Pool Area Pool QC  Fence Misc Feature  \\\n",
              "0      NaN       IR1          Lvl  ...         0     NaN    NaN          NaN   \n",
              "1      NaN       Reg          Lvl  ...         0     NaN  MnPrv          NaN   \n",
              "...    ...       ...          ...  ...       ...     ...    ...          ...   \n",
              "2928   NaN       Reg          Lvl  ...         0     NaN    NaN          NaN   \n",
              "2929   NaN       Reg          Lvl  ...         0     NaN    NaN          NaN   \n",
              "\n",
              "     Misc Val Mo Sold Yr Sold Sale Type  Sale Condition  SalePrice  \n",
              "0           0       5    2010       WD           Normal     215000  \n",
              "1           0       6    2010       WD           Normal     105000  \n",
              "...       ...     ...     ...       ...             ...        ...  \n",
              "2928        0       4    2006       WD           Normal     170000  \n",
              "2929        0      11    2006       WD           Normal     188000  \n",
              "\n",
              "[2930 rows x 82 columns]"
            ],
            "text/html": [
              "\n",
              "  <div id=\"df-a41ff8ea-ea89-460e-8558-1a4163931aa1\">\n",
              "    <div class=\"colab-df-container\">\n",
              "      <div>\n",
              "<style scoped>\n",
              "    .dataframe tbody tr th:only-of-type {\n",
              "        vertical-align: middle;\n",
              "    }\n",
              "\n",
              "    .dataframe tbody tr th {\n",
              "        vertical-align: top;\n",
              "    }\n",
              "\n",
              "    .dataframe thead th {\n",
              "        text-align: right;\n",
              "    }\n",
              "</style>\n",
              "<table border=\"1\" class=\"dataframe\">\n",
              "  <thead>\n",
              "    <tr style=\"text-align: right;\">\n",
              "      <th></th>\n",
              "      <th>Order</th>\n",
              "      <th>PID</th>\n",
              "      <th>MS SubClass</th>\n",
              "      <th>MS Zoning</th>\n",
              "      <th>Lot Frontage</th>\n",
              "      <th>Lot Area</th>\n",
              "      <th>Street</th>\n",
              "      <th>Alley</th>\n",
              "      <th>Lot Shape</th>\n",
              "      <th>Land Contour</th>\n",
              "      <th>...</th>\n",
              "      <th>Pool Area</th>\n",
              "      <th>Pool QC</th>\n",
              "      <th>Fence</th>\n",
              "      <th>Misc Feature</th>\n",
              "      <th>Misc Val</th>\n",
              "      <th>Mo Sold</th>\n",
              "      <th>Yr Sold</th>\n",
              "      <th>Sale Type</th>\n",
              "      <th>Sale Condition</th>\n",
              "      <th>SalePrice</th>\n",
              "    </tr>\n",
              "  </thead>\n",
              "  <tbody>\n",
              "    <tr>\n",
              "      <th>0</th>\n",
              "      <td>1</td>\n",
              "      <td>526301100</td>\n",
              "      <td>20</td>\n",
              "      <td>RL</td>\n",
              "      <td>141.0</td>\n",
              "      <td>31770</td>\n",
              "      <td>Pave</td>\n",
              "      <td>NaN</td>\n",
              "      <td>IR1</td>\n",
              "      <td>Lvl</td>\n",
              "      <td>...</td>\n",
              "      <td>0</td>\n",
              "      <td>NaN</td>\n",
              "      <td>NaN</td>\n",
              "      <td>NaN</td>\n",
              "      <td>0</td>\n",
              "      <td>5</td>\n",
              "      <td>2010</td>\n",
              "      <td>WD</td>\n",
              "      <td>Normal</td>\n",
              "      <td>215000</td>\n",
              "    </tr>\n",
              "    <tr>\n",
              "      <th>1</th>\n",
              "      <td>2</td>\n",
              "      <td>526350040</td>\n",
              "      <td>20</td>\n",
              "      <td>RH</td>\n",
              "      <td>80.0</td>\n",
              "      <td>11622</td>\n",
              "      <td>Pave</td>\n",
              "      <td>NaN</td>\n",
              "      <td>Reg</td>\n",
              "      <td>Lvl</td>\n",
              "      <td>...</td>\n",
              "      <td>0</td>\n",
              "      <td>NaN</td>\n",
              "      <td>MnPrv</td>\n",
              "      <td>NaN</td>\n",
              "      <td>0</td>\n",
              "      <td>6</td>\n",
              "      <td>2010</td>\n",
              "      <td>WD</td>\n",
              "      <td>Normal</td>\n",
              "      <td>105000</td>\n",
              "    </tr>\n",
              "    <tr>\n",
              "      <th>...</th>\n",
              "      <td>...</td>\n",
              "      <td>...</td>\n",
              "      <td>...</td>\n",
              "      <td>...</td>\n",
              "      <td>...</td>\n",
              "      <td>...</td>\n",
              "      <td>...</td>\n",
              "      <td>...</td>\n",
              "      <td>...</td>\n",
              "      <td>...</td>\n",
              "      <td>...</td>\n",
              "      <td>...</td>\n",
              "      <td>...</td>\n",
              "      <td>...</td>\n",
              "      <td>...</td>\n",
              "      <td>...</td>\n",
              "      <td>...</td>\n",
              "      <td>...</td>\n",
              "      <td>...</td>\n",
              "      <td>...</td>\n",
              "      <td>...</td>\n",
              "    </tr>\n",
              "    <tr>\n",
              "      <th>2928</th>\n",
              "      <td>2929</td>\n",
              "      <td>924100070</td>\n",
              "      <td>20</td>\n",
              "      <td>RL</td>\n",
              "      <td>77.0</td>\n",
              "      <td>10010</td>\n",
              "      <td>Pave</td>\n",
              "      <td>NaN</td>\n",
              "      <td>Reg</td>\n",
              "      <td>Lvl</td>\n",
              "      <td>...</td>\n",
              "      <td>0</td>\n",
              "      <td>NaN</td>\n",
              "      <td>NaN</td>\n",
              "      <td>NaN</td>\n",
              "      <td>0</td>\n",
              "      <td>4</td>\n",
              "      <td>2006</td>\n",
              "      <td>WD</td>\n",
              "      <td>Normal</td>\n",
              "      <td>170000</td>\n",
              "    </tr>\n",
              "    <tr>\n",
              "      <th>2929</th>\n",
              "      <td>2930</td>\n",
              "      <td>924151050</td>\n",
              "      <td>60</td>\n",
              "      <td>RL</td>\n",
              "      <td>74.0</td>\n",
              "      <td>9627</td>\n",
              "      <td>Pave</td>\n",
              "      <td>NaN</td>\n",
              "      <td>Reg</td>\n",
              "      <td>Lvl</td>\n",
              "      <td>...</td>\n",
              "      <td>0</td>\n",
              "      <td>NaN</td>\n",
              "      <td>NaN</td>\n",
              "      <td>NaN</td>\n",
              "      <td>0</td>\n",
              "      <td>11</td>\n",
              "      <td>2006</td>\n",
              "      <td>WD</td>\n",
              "      <td>Normal</td>\n",
              "      <td>188000</td>\n",
              "    </tr>\n",
              "  </tbody>\n",
              "</table>\n",
              "<p>2930 rows × 82 columns</p>\n",
              "</div>\n",
              "      <button class=\"colab-df-convert\" onclick=\"convertToInteractive('df-a41ff8ea-ea89-460e-8558-1a4163931aa1')\"\n",
              "              title=\"Convert this dataframe to an interactive table.\"\n",
              "              style=\"display:none;\">\n",
              "        \n",
              "  <svg xmlns=\"http://www.w3.org/2000/svg\" height=\"24px\"viewBox=\"0 0 24 24\"\n",
              "       width=\"24px\">\n",
              "    <path d=\"M0 0h24v24H0V0z\" fill=\"none\"/>\n",
              "    <path d=\"M18.56 5.44l.94 2.06.94-2.06 2.06-.94-2.06-.94-.94-2.06-.94 2.06-2.06.94zm-11 1L8.5 8.5l.94-2.06 2.06-.94-2.06-.94L8.5 2.5l-.94 2.06-2.06.94zm10 10l.94 2.06.94-2.06 2.06-.94-2.06-.94-.94-2.06-.94 2.06-2.06.94z\"/><path d=\"M17.41 7.96l-1.37-1.37c-.4-.4-.92-.59-1.43-.59-.52 0-1.04.2-1.43.59L10.3 9.45l-7.72 7.72c-.78.78-.78 2.05 0 2.83L4 21.41c.39.39.9.59 1.41.59.51 0 1.02-.2 1.41-.59l7.78-7.78 2.81-2.81c.8-.78.8-2.07 0-2.86zM5.41 20L4 18.59l7.72-7.72 1.47 1.35L5.41 20z\"/>\n",
              "  </svg>\n",
              "      </button>\n",
              "      \n",
              "  <style>\n",
              "    .colab-df-container {\n",
              "      display:flex;\n",
              "      flex-wrap:wrap;\n",
              "      gap: 12px;\n",
              "    }\n",
              "\n",
              "    .colab-df-convert {\n",
              "      background-color: #E8F0FE;\n",
              "      border: none;\n",
              "      border-radius: 50%;\n",
              "      cursor: pointer;\n",
              "      display: none;\n",
              "      fill: #1967D2;\n",
              "      height: 32px;\n",
              "      padding: 0 0 0 0;\n",
              "      width: 32px;\n",
              "    }\n",
              "\n",
              "    .colab-df-convert:hover {\n",
              "      background-color: #E2EBFA;\n",
              "      box-shadow: 0px 1px 2px rgba(60, 64, 67, 0.3), 0px 1px 3px 1px rgba(60, 64, 67, 0.15);\n",
              "      fill: #174EA6;\n",
              "    }\n",
              "\n",
              "    [theme=dark] .colab-df-convert {\n",
              "      background-color: #3B4455;\n",
              "      fill: #D2E3FC;\n",
              "    }\n",
              "\n",
              "    [theme=dark] .colab-df-convert:hover {\n",
              "      background-color: #434B5C;\n",
              "      box-shadow: 0px 1px 3px 1px rgba(0, 0, 0, 0.15);\n",
              "      filter: drop-shadow(0px 1px 2px rgba(0, 0, 0, 0.3));\n",
              "      fill: #FFFFFF;\n",
              "    }\n",
              "  </style>\n",
              "\n",
              "      <script>\n",
              "        const buttonEl =\n",
              "          document.querySelector('#df-a41ff8ea-ea89-460e-8558-1a4163931aa1 button.colab-df-convert');\n",
              "        buttonEl.style.display =\n",
              "          google.colab.kernel.accessAllowed ? 'block' : 'none';\n",
              "\n",
              "        async function convertToInteractive(key) {\n",
              "          const element = document.querySelector('#df-a41ff8ea-ea89-460e-8558-1a4163931aa1');\n",
              "          const dataTable =\n",
              "            await google.colab.kernel.invokeFunction('convertToInteractive',\n",
              "                                                     [key], {});\n",
              "          if (!dataTable) return;\n",
              "\n",
              "          const docLinkHtml = 'Like what you see? Visit the ' +\n",
              "            '<a target=\"_blank\" href=https://colab.research.google.com/notebooks/data_table.ipynb>data table notebook</a>'\n",
              "            + ' to learn more about interactive tables.';\n",
              "          element.innerHTML = '';\n",
              "          dataTable['output_type'] = 'display_data';\n",
              "          await google.colab.output.renderOutput(dataTable, element);\n",
              "          const docLink = document.createElement('div');\n",
              "          docLink.innerHTML = docLinkHtml;\n",
              "          element.appendChild(docLink);\n",
              "        }\n",
              "      </script>\n",
              "    </div>\n",
              "  </div>\n",
              "  "
            ]
          },
          "metadata": {},
          "execution_count": 23
        }
      ],
      "source": [
        "import numpy as np\n",
        "import pandas as pd\n",
        "pd.options.display.max_rows = 5\n",
        "\n",
        "housing = pd.read_csv(\"../data/ames.tsv\", sep=\"\\t\")\n",
        "housing"
      ]
    },
    {
      "cell_type": "markdown",
      "metadata": {
        "id": "SvHaSf9T6Kvj"
      },
      "source": [
        "### $K$-Fold Cross Validation\n",
        "\n",
        "Previously, we carried out cross validation by splitting the data into 2 halves, alternately using one half to train the model and the other to evaluate the model. In general, we can split the data into $k$ subsamples, alternately training the data on $k-1$ subsamples and evaluating the model on the $1$ remaining subsample, i.e., the validation set. This produces $k$ somewhat independent estimates of the test error. This procedure is known as **$k$-fold cross validation**. (Be careful not to confuse the $k$ in $k$-fold cross validation with the $k$ in $k$-nearest neighbors.) Therefore, the specific version of cross validation that we saw earlier is $2$-fold cross validation.\n",
        "\n",
        "A schematic of $4$-fold cross validation is shown below.\n",
        "\n",
        "![](https://github.com/nmattei/cmps3160/blob/master/_labs/images/k-folds.png?raw=1)\n",
        "\n",
        "Implementing $k$-fold cross validation from scratch for $k > 2$ is straightforward but messy, so we will usually let Scikit-Learn do it for us."
      ]
    },
    {
      "cell_type": "markdown",
      "metadata": {
        "id": "hzb6geG66Kvj"
      },
      "source": [
        "### Cross Validation in Scikit-Learn\n",
        "\n",
        "Scikit-Learn provides a function, `cross_val_score`, that will carry out all aspects of $k$-fold cross validation: \n",
        "\n",
        "1. split the data into $k$ subsamples\n",
        "2. combine the first $k-1$ subsamples into a training set and train the model\n",
        "3. evaluate the model predictions on the last ($k$th) held-out subsample\n",
        "4. repeat steps 2-3 $k$ times (i.e. $k$ \"folds\"), each time holding out a different one of the $k$ subsamples\n",
        "4. calculate $k$ \"scores\", one from each validation set\n",
        "\n",
        "There is one subtlety to keep in mind. Training a $k$-nearest neighbors model is not just about fitting the model; it also involves dummifying the categorical variables and scaling the variables. These preprocessing steps should be included in the cross-validation process. They cannot be done ahead of time.\n",
        "\n",
        "For example, suppose we run $5$-fold cross validation. Then:\n",
        "\n",
        "- When subsamples 1-4 are used for training and subsample 5 for validation, the observations have to be standardized with respect to the mean and SD of subsamples 1-4.\n",
        "- When subsamples 2-5 are used for training and subsample 1 for validation, the observations have to be standardized with respect to the mean and SD of subsamples 2-5.\n",
        "- And so on.\n",
        "\n",
        "We cannot simply standardize all of the data once at the beginning and run cross validation on the standardized data. To do so would be allowing the model to peek at the validation set during training. That's because each training set would be standardized with respect to a mean and SD that is calculated from all data, including the validation set. To be completely above board, we should standardize each training set with respect to the mean and SD of just that training set.\n",
        "\n",
        "Fortunately, Scikit-Learn provides a `Pipeline` object that allows us to chain these preprocessing steps together with the model we want to fit."
      ]
    },
    {
      "cell_type": "code",
      "execution_count": 24,
      "metadata": {
        "id": "wLJyuXp-6Kvj"
      },
      "outputs": [],
      "source": [
        "from sklearn.feature_extraction import DictVectorizer\n",
        "from sklearn.preprocessing import StandardScaler\n",
        "from sklearn.neighbors import KNeighborsRegressor\n",
        "from sklearn.pipeline import Pipeline\n",
        "\n",
        "# get the features (in dict format) and the labels\n",
        "# (do not split into training and validation sets)\n",
        "features = [\"Lot Area\", \"Gr Liv Area\",\n",
        "            \"Full Bath\", \"Half Bath\",\n",
        "            \"Bedroom AbvGr\", \n",
        "            \"Year Built\", \"Yr Sold\",\n",
        "            \"Neighborhood\"]\n",
        "X_dict = housing[features].to_dict(orient=\"records\")\n",
        "y = housing[\"SalePrice\"]\n",
        "\n",
        "# specify the pipeline\n",
        "vec = DictVectorizer(sparse=False)\n",
        "scaler = StandardScaler()\n",
        "model = KNeighborsRegressor(n_neighbors=10)\n",
        "pipeline = Pipeline([(\"vectorizer\", vec), (\"scaler\", scaler), (\"fit\", model)])"
      ]
    },
    {
      "cell_type": "markdown",
      "metadata": {
        "id": "2diIGKws6Kvj"
      },
      "source": [
        "This entire `Pipeline` can be passed to `cross_val_score`, along with the data, the number of folds $k$ (`cv`), and the type of score (`scoring`). So $5$-fold cross validation in Scikit-Learn would look as follows:"
      ]
    },
    {
      "cell_type": "code",
      "execution_count": 25,
      "metadata": {
        "id": "41axpvxr6Kvk",
        "outputId": "2616986f-b1fc-4817-ca9a-ff2f4b8083a9",
        "colab": {
          "base_uri": "https://localhost:8080/"
        }
      },
      "outputs": [
        {
          "output_type": "execute_result",
          "data": {
            "text/plain": [
              "array([-1.98025092e+09, -1.47911560e+09, -1.54635484e+09, -1.87653695e+09,\n",
              "       -1.42161575e+09])"
            ]
          },
          "metadata": {},
          "execution_count": 25
        }
      ],
      "source": [
        "from sklearn.model_selection import cross_val_score\n",
        "\n",
        "scores = cross_val_score(pipeline, X_dict, y, \n",
        "                         cv=5, scoring=\"neg_mean_squared_error\")\n",
        "scores"
      ]
    },
    {
      "cell_type": "markdown",
      "metadata": {
        "id": "J9NmBgCm6Kvk"
      },
      "source": [
        "Notice that we get five (negative) validation MSEs, one from each of the 5 folds. `cross_val_score` returns the _negative_ MSE, instead of the MSE, because by definition, a _higher_ score is better. (Since we want the MSE to be as _low_ as possible, we want the negative MSE to be as _high_ as possible.)\n",
        "\n",
        "To come up with a single overall estimate of the test MSE, we flip the signs and average the MSEs:"
      ]
    },
    {
      "cell_type": "code",
      "execution_count": 26,
      "metadata": {
        "id": "8vtzB31I6Kvk",
        "outputId": "d80bf31d-814c-4ec6-e507-4bed43cf57a6",
        "colab": {
          "base_uri": "https://localhost:8080/"
        }
      },
      "outputs": [
        {
          "output_type": "execute_result",
          "data": {
            "text/plain": [
              "1660774812.550652"
            ]
          },
          "metadata": {},
          "execution_count": 26
        }
      ],
      "source": [
        "np.mean(-scores)"
      ]
    },
    {
      "cell_type": "markdown",
      "metadata": {
        "id": "sShmMfmN6Kvk"
      },
      "source": [
        "The RMSE is the square root of the MSE:"
      ]
    },
    {
      "cell_type": "code",
      "execution_count": 27,
      "metadata": {
        "id": "PTE4ev0a6Kvk",
        "outputId": "c3d01714-1866-46a9-d43b-b65d00bbf6dd",
        "colab": {
          "base_uri": "https://localhost:8080/"
        }
      },
      "outputs": [
        {
          "output_type": "execute_result",
          "data": {
            "text/plain": [
              "40752.60497870844"
            ]
          },
          "metadata": {},
          "execution_count": 27
        }
      ],
      "source": [
        "np.sqrt(np.mean(-scores))"
      ]
    },
    {
      "cell_type": "markdown",
      "metadata": {
        "id": "s_1U16UP6Kvk"
      },
      "source": [
        "### Hyperparameter Tuning\n",
        "\n",
        "How do we choose $k$? We can simply try all values of $k$ and pick the one with the smallest (test) MSE.\n",
        "\n",
        "**Note:** Depending on your machine this may take a min to run.."
      ]
    },
    {
      "cell_type": "code",
      "execution_count": 28,
      "metadata": {
        "id": "6SLyZ3ga6Kvk",
        "outputId": "6bb963cc-fd5c-49e9-f154-8fbb61cd98a1",
        "colab": {
          "base_uri": "https://localhost:8080/",
          "height": 386
        }
      },
      "outputs": [
        {
          "output_type": "execute_result",
          "data": {
            "text/plain": [
              "4     1.390838e+09\n",
              "3     1.405816e+09\n",
              "          ...     \n",
              "49    2.208812e+09\n",
              "50    2.216512e+09\n",
              "Length: 50, dtype: float64"
            ]
          },
          "metadata": {},
          "execution_count": 28
        },
        {
          "output_type": "display_data",
          "data": {
            "text/plain": [
              "<Figure size 432x288 with 1 Axes>"
            ],
            "image/png": "[encoded data removed]"
          },
          "metadata": {
            "needs_background": "light"
          }
        }
      ],
      "source": [
        "vec = DictVectorizer(sparse=False)\n",
        "scaler = StandardScaler()\n",
        "\n",
        "# calculates estimate of test error based on 10-fold cross validation\n",
        "def get_cv_error(k):\n",
        "    model = KNeighborsRegressor(n_neighbors=k)\n",
        "    pipeline = Pipeline([(\"vectorizer\", vec), (\"scaler\", scaler), (\"fit\", model)])\n",
        "    mse = np.mean(-cross_val_score(\n",
        "        pipeline, X_dict, y, \n",
        "        cv=10, scoring=\"neg_mean_squared_error\"\n",
        "    ))\n",
        "    return mse\n",
        "    \n",
        "ks = pd.Series(range(1, 51))\n",
        "ks.index = range(1, 51)\n",
        "test_errs = ks.apply(get_cv_error)\n",
        "\n",
        "test_errs.plot.line()\n",
        "test_errs.sort_values()"
      ]
    },
    {
      "cell_type": "markdown",
      "metadata": {
        "id": "TZPPSpoS6Kvl"
      },
      "source": [
        "The MSE is minimized near $k = 4$, which suggests that a $4$-nearest neighbors model is optimal for prediction."
      ]
    },
    {
      "cell_type": "markdown",
      "metadata": {
        "id": "WZQFpQB96Kvl"
      },
      "source": [
        "### Model Selection\n",
        "\n",
        "Suppose we are not sure whether `Yr Sold` should be included in the $4$-nearest neighbors model or not. To determine whether or not it should be included, we can fit a model with `Yr Sold` included and another model with it excluded, and see which model has the better (test) MSE."
      ]
    },
    {
      "cell_type": "code",
      "execution_count": 29,
      "metadata": {
        "id": "jk-Wqi-i6Kvl"
      },
      "outputs": [],
      "source": [
        "vec = DictVectorizer(sparse=False)\n",
        "scaler = StandardScaler()\n",
        "model = KNeighborsRegressor(n_neighbors=4)\n",
        "pipeline = Pipeline([(\"vectorizer\", vec), (\"scaler\", scaler), (\"fit\", model)])"
      ]
    },
    {
      "cell_type": "code",
      "execution_count": 30,
      "metadata": {
        "id": "d0YgiO-16Kvl",
        "outputId": "cdd3dee0-6b34-4aee-ca4b-e4122775b56d",
        "colab": {
          "base_uri": "https://localhost:8080/"
        }
      },
      "outputs": [
        {
          "output_type": "execute_result",
          "data": {
            "text/plain": [
              "1390838306.03189"
            ]
          },
          "metadata": {},
          "execution_count": 30
        }
      ],
      "source": [
        "features = [\"Lot Area\", \"Gr Liv Area\",\n",
        "            \"Full Bath\", \"Half Bath\",\n",
        "            \"Bedroom AbvGr\", \n",
        "            \"Year Built\", \"Yr Sold\",\n",
        "            \"Neighborhood\"]\n",
        "X_dict = housing[features].to_dict(orient=\"records\")\n",
        "np.mean(\n",
        "    -cross_val_score(pipeline, X_dict, y, cv=10, scoring=\"neg_mean_squared_error\")\n",
        ")"
      ]
    },
    {
      "cell_type": "code",
      "execution_count": 31,
      "metadata": {
        "id": "gb1PJ2pv6Kvl",
        "outputId": "a0357027-2388-4a46-da9e-1897a722d2ac",
        "colab": {
          "base_uri": "https://localhost:8080/"
        }
      },
      "outputs": [
        {
          "output_type": "execute_result",
          "data": {
            "text/plain": [
              "1315298843.187244"
            ]
          },
          "metadata": {},
          "execution_count": 31
        }
      ],
      "source": [
        "features = [\"Lot Area\", \"Gr Liv Area\",\n",
        "            \"Full Bath\", \"Half Bath\",\n",
        "            \"Bedroom AbvGr\", \n",
        "            \"Year Built\",\n",
        "            \"Neighborhood\"]\n",
        "X_dict = housing[features].to_dict(orient=\"records\")\n",
        "-cross_val_score(pipeline, X_dict, y, cv=10, scoring=\"neg_mean_squared_error\").mean()"
      ]
    },
    {
      "cell_type": "markdown",
      "metadata": {
        "id": "S2PccxxU6Kvl"
      },
      "source": [
        "The MSE actually goes down when we remove `Yr Sold`, so it seems that the model is better off without this variable."
      ]
    },
    {
      "cell_type": "markdown",
      "metadata": {
        "id": "vzxN_Sx66Kvl"
      },
      "source": [
        "### Part 3: Exercises"
      ]
    },
    {
      "cell_type": "markdown",
      "metadata": {
        "id": "o5JQoDQr6Kvl"
      },
      "source": [
        "#### Exercise 4\n",
        "\n",
        "Using the Tips data set (`../data/tips.csv`), train $k$-nearest neighbors regression models to predict the tip for different values of $k$ and validate your model using 5 fold cross validation. Calculate the training and validation MAE of each model, and make a plot showing these errors as a function of $k$."
      ]
    },
    {
      "cell_type": "code",
      "execution_count": 84,
      "metadata": {
        "id": "JzHQN4q36Kvm",
        "colab": {
          "base_uri": "https://localhost:8080/",
          "height": 297
        },
        "outputId": "0580ea69-4782-4632-b3fb-0c5c810ed43b"
      },
      "outputs": [
        {
          "output_type": "execute_result",
          "data": {
            "text/plain": [
              "<matplotlib.axes._subplots.AxesSubplot at 0x7f5c51d05550>"
            ]
          },
          "metadata": {},
          "execution_count": 84
        },
        {
          "output_type": "display_data",
          "data": {
            "text/plain": [
              "<Figure size 432x288 with 1 Axes>"
            ],
            "image/png": "[encoded data removed]"
          },
          "metadata": {
            "needs_background": "light"
          }
        }
      ],
      "source": [
        "# Load data, separate features\n",
        "tips = pd.read_csv(\"../data/tips.csv\")\n",
        "features = [\"total_bill\", \"sex\", \"smoker\", \"day\", \"time\", \"size\"]\n",
        "X_dict = tips[features].to_dict(orient=\"records\")\n",
        "y = tips[\"tip\"]\n",
        "\n",
        "# Load vectorizer, scaler\n",
        "vec = DictVectorizer(sparse=False)\n",
        "scaler = StandardScaler()\n",
        "\n",
        "# Array for error data\n",
        "error1data = []\n",
        "\n",
        "# For k in between 2 and 100\n",
        "for i, k in enumerate(range(2,100)):\n",
        "  # Create KNN Model\n",
        "  knn_model = KNeighborsRegressor(n_neighbors = k)\n",
        "  # Create pipeline with KNN, scaler, vectorizer\n",
        "  pipeline = Pipeline([(\"vectorizer\", vec), (\"scaler\", scaler), (\"fit\", knn_model)])\n",
        "  # Get cross-val scores (accuracy) for pipeline and return training score as well, cv = 5\n",
        "  mae = cross_validate(\n",
        "        pipeline, X_dict, y, \n",
        "        cv=5, scoring=\"neg_mean_absolute_error\", return_train_score = True)\n",
        "  # Extract error (1 - (- MAE_score))\n",
        "  test_mae = np.mean(-mae[\"test_score\"])\n",
        "  train_mae = np.mean(-mae[\"train_score\"])\n",
        "  # Append data to array\n",
        "  error1data.append([k, test_mae, train_mae])\n",
        "\n",
        "# Plot data\n",
        "error1_df = pd.DataFrame(error1data, columns = [\"K\", \"Test MAE\", \"Train MAE\"])\n",
        "error1_df.set_index([\"K\"], inplace = True)\n",
        "error1_df.plot()"
      ]
    },
    {
      "cell_type": "code",
      "source": [
        "print(error1_df.loc[error1_df[\"Test MAE\"] == error1_df[\"Test MAE\"].min()])"
      ],
      "metadata": {
        "colab": {
          "base_uri": "https://localhost:8080/"
        },
        "id": "tmhbyMT_UBrN",
        "outputId": "0c96a6f2-c511-4cdb-f6ab-bcd69646b118"
      },
      "execution_count": 85,
      "outputs": [
        {
          "output_type": "stream",
          "name": "stdout",
          "text": [
            "   Test MAE  Train MAE\n",
            "K                     \n",
            "6  0.883736   0.696664\n"
          ]
        }
      ]
    },
    {
      "cell_type": "markdown",
      "metadata": {
        "id": "OnGHFeFl6Kvm"
      },
      "source": [
        "**Written Question:** The best value for K is 6, with a training MAE of 0.70, and a test MAE of 0.88"
      ]
    },
    {
      "cell_type": "markdown",
      "metadata": {
        "id": "dyQnUBmz6Kvm"
      },
      "source": [
        "#### BONUS (2 Points)\n",
        "\n",
        "Use what we've learned about model selection to determine whether or not including the day of the week is a good feature for a model to predict tips."
      ]
    },
    {
      "cell_type": "code",
      "execution_count": 86,
      "metadata": {
        "id": "SQfWoIwt6Kvm",
        "colab": {
          "base_uri": "https://localhost:8080/",
          "height": 297
        },
        "outputId": "cbe3b1ff-77ce-4cf4-c3c0-32d5b1bbb011"
      },
      "outputs": [
        {
          "output_type": "execute_result",
          "data": {
            "text/plain": [
              "<matplotlib.axes._subplots.AxesSubplot at 0x7f5c51c007d0>"
            ]
          },
          "metadata": {},
          "execution_count": 86
        },
        {
          "output_type": "display_data",
          "data": {
            "text/plain": [
              "<Figure size 432x288 with 1 Axes>"
            ],
            "image/png": "[encoded data removed]"
          },
          "metadata": {
            "needs_background": "light"
          }
        }
      ],
      "source": [
        "# Load features - do not include day and separate\n",
        "features2 = [\"total_bill\", \"sex\", \"smoker\", \"time\", \"size\"]\n",
        "X_dict = tips[features2].to_dict(orient=\"records\")\n",
        "y = tips[\"tip\"]\n",
        "\n",
        "# Load vectorizer, scaler\n",
        "vec = DictVectorizer(sparse=False)\n",
        "scaler = StandardScaler()\n",
        "\n",
        "# Array for error data\n",
        "error2data = []\n",
        "\n",
        "# For k between 2 and 100\n",
        "for i, k in enumerate(range(2,100)):\n",
        "  # Create knn model\n",
        "  knn_model = KNeighborsRegressor(n_neighbors = k)\n",
        "  # Create pipeline with vectorizer, scaler, knn\n",
        "  pipeline = Pipeline([(\"vectorizer\", vec), (\"scaler\", scaler), (\"fit\", knn_model)])\n",
        "  # Get cross-val scores (accuracy) for pipeline and return training score as well, cv = 5\n",
        "  mae = cross_validate(\n",
        "        pipeline, X_dict, y, \n",
        "        cv=5, scoring=\"neg_mean_absolute_error\", return_train_score = True)\n",
        "  # Extract error \n",
        "  test_mae = np.mean(-mae[\"test_score\"])\n",
        "  train_mae = np.mean(-mae[\"train_score\"])\n",
        "  # Append data to array\n",
        "  error2data.append([k, test_mae, train_mae])\n",
        "\n",
        "\n",
        "# Create frame of error\n",
        "error2_df = pd.DataFrame(error2data, columns = [\"K\", \"Test MAE\", \"Train MAE\"])\n",
        "error2_df.set_index([\"K\"], inplace = True)\n",
        "\n",
        "# Plot both sets of error, compare\n",
        "combined_error = error2_df.join(error1_df, how = \"inner\", on = [\"K\"], lsuffix = \"_noday\", rsuffix = \"_wday\")\n",
        "combined_error.columns = [\"Test_MAE_no_day\", \"Train_MAE_no_day\", \"Test_MAE_day\", \"Train_MAE_day\"]\n",
        "combined_error.plot()\n"
      ]
    },
    {
      "cell_type": "code",
      "source": [
        "# Plot just Test MAE\n",
        "combined_error_test = combined_error[[\"Test_MAE_no_day\", \"Test_MAE_day\"]]\n",
        "combined_error_test.plot()"
      ],
      "metadata": {
        "colab": {
          "base_uri": "https://localhost:8080/",
          "height": 297
        },
        "id": "4XLspsNAEOO9",
        "outputId": "e5c5ec9f-13bf-4b6e-ef72-71f54fa09e27"
      },
      "execution_count": 87,
      "outputs": [
        {
          "output_type": "execute_result",
          "data": {
            "text/plain": [
              "<matplotlib.axes._subplots.AxesSubplot at 0x7f5c51b5f390>"
            ]
          },
          "metadata": {},
          "execution_count": 87
        },
        {
          "output_type": "display_data",
          "data": {
            "text/plain": [
              "<Figure size 432x288 with 1 Axes>"
            ],
            "image/png": "[encoded data removed]"
          },
          "metadata": {
            "needs_background": "light"
          }
        }
      ]
    },
    {
      "cell_type": "markdown",
      "metadata": {
        "id": "6mNEl9l36Kvm"
      },
      "source": [
        "**Written Question:** Should we include day of the week?  Show a graph and values to show why or why not.\n",
        "\n",
        "\n",
        "*'day' should not be included, since in the best case scenario, the test and training MAE are both lower, so removing it results in a more accurate model. See below - the only value for K where not including the day results in a higher MAE is when k = 2 - despite being only a marginal difference, the training error when k = 2 is still massive. For all other instances, removing the day results in a lower test MAE*\n",
        "\n",
        "\n"
      ]
    },
    {
      "cell_type": "code",
      "source": [
        "# Print metrics\n",
        "print(\"K such that not including day results in a worse error:\")\n",
        "print(combined_error_test.loc[combined_error_test[\"Test_MAE_no_day\"] > combined_error_test[\"Test_MAE_day\"]])\n",
        "print()\n",
        "print(\"Lowest MAE with no day value:\")\n",
        "print(combined_error_test.loc[combined_error_test[\"Test_MAE_no_day\"] == combined_error_test[\"Test_MAE_no_day\"].min()])\n",
        "print()\n",
        "print(\"Lowest MAE with day value:\")\n",
        "print(combined_error_test.loc[combined_error_test[\"Test_MAE_day\"] == combined_error_test[\"Test_MAE_day\"].min()])"
      ],
      "metadata": {
        "colab": {
          "base_uri": "https://localhost:8080/"
        },
        "id": "9YYNnZpKtxos",
        "outputId": "4e6e9994-ce37-476f-b7f6-320054f7bfd0"
      },
      "execution_count": 90,
      "outputs": [
        {
          "output_type": "stream",
          "name": "stdout",
          "text": [
            "K such that not including day results in a worse error:\n",
            "   Test_MAE_no_day  Test_MAE_day\n",
            "K                               \n",
            "2         0.919601      0.915341\n",
            "\n",
            "Lowest MAE with no day value:\n",
            "   Test_MAE_no_day  Test_MAE_day\n",
            "K                               \n",
            "4         0.836417      0.900274\n",
            "\n",
            "Lowest MAE with day value:\n",
            "   Test_MAE_no_day  Test_MAE_day\n",
            "K                               \n",
            "6         0.846452      0.883736\n"
          ]
        }
      ]
    },
    {
      "cell_type": "markdown",
      "metadata": {
        "id": "CGytRjbj6Kvm"
      },
      "source": [
        "### When you have filled out all the questions, submit via [Tulane Canvas](https://tulane.instructure.com/)"
      ]
    }
  ],
  "metadata": {
    "kernelspec": {
      "display_name": "Python 3",
      "language": "python",
      "name": "python3"
    },
    "language_info": {
      "codemirror_mode": {
        "name": "ipython",
        "version": 3
      },
      "file_extension": ".py",
      "mimetype": "text/x-python",
      "name": "python",
      "nbconvert_exporter": "python",
      "pygments_lexer": "ipython3",
      "version": "3.9.12"
    },
    "toc": {
      "base_numbering": 1,
      "nav_menu": {},
      "number_sections": false,
      "sideBar": true,
      "skip_h1_title": true,
      "title_cell": "Table of Contents",
      "title_sidebar": "Contents",
      "toc_cell": true,
      "toc_position": {},
      "toc_section_display": true,
      "toc_window_display": false
    },
    "colab": {
      "provenance": [],
      "collapsed_sections": [
        "DGw_XnP66Kvf",
        "SvHaSf9T6Kvj",
        "CGytRjbj6Kvm"
      ]
    }
  },
  "nbformat": 4,
  "nbformat_minor": 0
}