{
  "cells": [
    {
      "cell_type": "markdown",
      "metadata": {
        "id": "DZAMesDi782f"
      },
      "source": [
        "# Lab 10: Classification\n",
        "\n",
        "This lab is presented with some revisions from [Dennis Sun at Cal Poly](https://web.calpoly.edu/~dsun09/index.html) and his [Data301 Course](http://users.csc.calpoly.edu/~dsun09/data301/lectures.html)\n",
        "\n",
        "### When you have filled out all the questions, submit via [Tulane Canvas](https://tulane.instructure.com/)"
      ]
    },
    {
      "cell_type": "code",
      "execution_count": 1,
      "metadata": {
        "id": "_pkSKmJJ782j",
        "colab": {
          "base_uri": "https://localhost:8080/"
        },
        "outputId": "c2cf02a4-8f6e-4ff3-c806-71131354618c"
      },
      "outputs": [
        {
          "output_type": "stream",
          "name": "stdout",
          "text": [
            "Mounted at /content/drive\n",
            "/content/drive/My Drive/cmps3160\n",
            "/content/drive/My Drive/cmps3160/_labs/Lab09\n"
          ]
        }
      ],
      "source": [
        "# first, mount your google drive, change to the course folder, pull latest changes, and change to the lab folder.\n",
        "from google.colab import drive\n",
        "drive.mount('/content/drive')\n",
        "%cd /content/drive/My Drive/cmps3160\n",
        "# !git pull\n",
        "%cd _labs/Lab09"
      ]
    },
    {
      "cell_type": "markdown",
      "metadata": {
        "id": "VYVWt6dE782l"
      },
      "source": [
        "_Classification models_ are used when the label we want to predict is categorical. In this section, we will train a classification model to predict the color of a wine (red or white) from its chemical properties. \n",
        "\n",
        "The training data for the red and white wines are stored in separate files on Github (`../data/reds.csv` and `../data/whites.csv`). Let's read in the two datasets, add a column for the color (\"red\" or \"white\"), and combine them into one `DataFrame`."
      ]
    },
    {
      "cell_type": "code",
      "execution_count": 2,
      "metadata": {
        "id": "1EOfv9Ts782m",
        "colab": {
          "base_uri": "https://localhost:8080/",
          "height": 334
        },
        "outputId": "100aac0f-e710-4ff3-9f50-39187e96fdcf"
      },
      "outputs": [
        {
          "output_type": "execute_result",
          "data": {
            "text/plain": [
              "      fixed acidity  volatile acidity  citric acid  residual sugar  chlorides  \\\n",
              "0               7.4              0.70         0.00             1.9      0.076   \n",
              "1               7.8              0.88         0.00             2.6      0.098   \n",
              "...             ...               ...          ...             ...        ...   \n",
              "6495            5.5              0.29         0.30             1.1      0.022   \n",
              "6496            6.0              0.21         0.38             0.8      0.020   \n",
              "\n",
              "      free sulfur dioxide  total sulfur dioxide  density    pH  sulphates  \\\n",
              "0                    11.0                  34.0  0.99780  3.51       0.56   \n",
              "1                    25.0                  67.0  0.99680  3.20       0.68   \n",
              "...                   ...                   ...      ...   ...        ...   \n",
              "6495                 20.0                 110.0  0.98869  3.34       0.38   \n",
              "6496                 22.0                  98.0  0.98941  3.26       0.32   \n",
              "\n",
              "      alcohol  quality  color  \n",
              "0         9.4        5    red  \n",
              "1         9.8        5    red  \n",
              "...       ...      ...    ...  \n",
              "6495     12.8        7  white  \n",
              "6496     11.8        6  white  \n",
              "\n",
              "[6497 rows x 13 columns]"
            ],
            "text/html": [
              "\n",
              "  <div id=\"df-256e9bcd-90a0-4024-9956-0d2d0f4a2dd9\">\n",
              "    <div class=\"colab-df-container\">\n",
              "      <div>\n",
              "<style scoped>\n",
              "    .dataframe tbody tr th:only-of-type {\n",
              "        vertical-align: middle;\n",
              "    }\n",
              "\n",
              "    .dataframe tbody tr th {\n",
              "        vertical-align: top;\n",
              "    }\n",
              "\n",
              "    .dataframe thead th {\n",
              "        text-align: right;\n",
              "    }\n",
              "</style>\n",
              "<table border=\"1\" class=\"dataframe\">\n",
              "  <thead>\n",
              "    <tr style=\"text-align: right;\">\n",
              "      <th></th>\n",
              "      <th>fixed acidity</th>\n",
              "      <th>volatile acidity</th>\n",
              "      <th>citric acid</th>\n",
              "      <th>residual sugar</th>\n",
              "      <th>chlorides</th>\n",
              "      <th>free sulfur dioxide</th>\n",
              "      <th>total sulfur dioxide</th>\n",
              "      <th>density</th>\n",
              "      <th>pH</th>\n",
              "      <th>sulphates</th>\n",
              "      <th>alcohol</th>\n",
              "      <th>quality</th>\n",
              "      <th>color</th>\n",
              "    </tr>\n",
              "  </thead>\n",
              "  <tbody>\n",
              "    <tr>\n",
              "      <th>0</th>\n",
              "      <td>7.4</td>\n",
              "      <td>0.70</td>\n",
              "      <td>0.00</td>\n",
              "      <td>1.9</td>\n",
              "      <td>0.076</td>\n",
              "      <td>11.0</td>\n",
              "      <td>34.0</td>\n",
              "      <td>0.99780</td>\n",
              "      <td>3.51</td>\n",
              "      <td>0.56</td>\n",
              "      <td>9.4</td>\n",
              "      <td>5</td>\n",
              "      <td>red</td>\n",
              "    </tr>\n",
              "    <tr>\n",
              "      <th>1</th>\n",
              "      <td>7.8</td>\n",
              "      <td>0.88</td>\n",
              "      <td>0.00</td>\n",
              "      <td>2.6</td>\n",
              "      <td>0.098</td>\n",
              "      <td>25.0</td>\n",
              "      <td>67.0</td>\n",
              "      <td>0.99680</td>\n",
              "      <td>3.20</td>\n",
              "      <td>0.68</td>\n",
              "      <td>9.8</td>\n",
              "      <td>5</td>\n",
              "      <td>red</td>\n",
              "    </tr>\n",
              "    <tr>\n",
              "      <th>...</th>\n",
              "      <td>...</td>\n",
              "      <td>...</td>\n",
              "      <td>...</td>\n",
              "      <td>...</td>\n",
              "      <td>...</td>\n",
              "      <td>...</td>\n",
              "      <td>...</td>\n",
              "      <td>...</td>\n",
              "      <td>...</td>\n",
              "      <td>...</td>\n",
              "      <td>...</td>\n",
              "      <td>...</td>\n",
              "      <td>...</td>\n",
              "    </tr>\n",
              "    <tr>\n",
              "      <th>6495</th>\n",
              "      <td>5.5</td>\n",
              "      <td>0.29</td>\n",
              "      <td>0.30</td>\n",
              "      <td>1.1</td>\n",
              "      <td>0.022</td>\n",
              "      <td>20.0</td>\n",
              "      <td>110.0</td>\n",
              "      <td>0.98869</td>\n",
              "      <td>3.34</td>\n",
              "      <td>0.38</td>\n",
              "      <td>12.8</td>\n",
              "      <td>7</td>\n",
              "      <td>white</td>\n",
              "    </tr>\n",
              "    <tr>\n",
              "      <th>6496</th>\n",
              "      <td>6.0</td>\n",
              "      <td>0.21</td>\n",
              "      <td>0.38</td>\n",
              "      <td>0.8</td>\n",
              "      <td>0.020</td>\n",
              "      <td>22.0</td>\n",
              "      <td>98.0</td>\n",
              "      <td>0.98941</td>\n",
              "      <td>3.26</td>\n",
              "      <td>0.32</td>\n",
              "      <td>11.8</td>\n",
              "      <td>6</td>\n",
              "      <td>white</td>\n",
              "    </tr>\n",
              "  </tbody>\n",
              "</table>\n",
              "<p>6497 rows × 13 columns</p>\n",
              "</div>\n",
              "      <button class=\"colab-df-convert\" onclick=\"convertToInteractive('df-256e9bcd-90a0-4024-9956-0d2d0f4a2dd9')\"\n",
              "              title=\"Convert this dataframe to an interactive table.\"\n",
              "              style=\"display:none;\">\n",
              "        \n",
              "  <svg xmlns=\"http://www.w3.org/2000/svg\" height=\"24px\"viewBox=\"0 0 24 24\"\n",
              "       width=\"24px\">\n",
              "    <path d=\"M0 0h24v24H0V0z\" fill=\"none\"/>\n",
              "    <path d=\"M18.56 5.44l.94 2.06.94-2.06 2.06-.94-2.06-.94-.94-2.06-.94 2.06-2.06.94zm-11 1L8.5 8.5l.94-2.06 2.06-.94-2.06-.94L8.5 2.5l-.94 2.06-2.06.94zm10 10l.94 2.06.94-2.06 2.06-.94-2.06-.94-.94-2.06-.94 2.06-2.06.94z\"/><path d=\"M17.41 7.96l-1.37-1.37c-.4-.4-.92-.59-1.43-.59-.52 0-1.04.2-1.43.59L10.3 9.45l-7.72 7.72c-.78.78-.78 2.05 0 2.83L4 21.41c.39.39.9.59 1.41.59.51 0 1.02-.2 1.41-.59l7.78-7.78 2.81-2.81c.8-.78.8-2.07 0-2.86zM5.41 20L4 18.59l7.72-7.72 1.47 1.35L5.41 20z\"/>\n",
              "  </svg>\n",
              "      </button>\n",
              "      \n",
              "  <style>\n",
              "    .colab-df-container {\n",
              "      display:flex;\n",
              "      flex-wrap:wrap;\n",
              "      gap: 12px;\n",
              "    }\n",
              "\n",
              "    .colab-df-convert {\n",
              "      background-color: #E8F0FE;\n",
              "      border: none;\n",
              "      border-radius: 50%;\n",
              "      cursor: pointer;\n",
              "      display: none;\n",
              "      fill: #1967D2;\n",
              "      height: 32px;\n",
              "      padding: 0 0 0 0;\n",
              "      width: 32px;\n",
              "    }\n",
              "\n",
              "    .colab-df-convert:hover {\n",
              "      background-color: #E2EBFA;\n",
              "      box-shadow: 0px 1px 2px rgba(60, 64, 67, 0.3), 0px 1px 3px 1px rgba(60, 64, 67, 0.15);\n",
              "      fill: #174EA6;\n",
              "    }\n",
              "\n",
              "    [theme=dark] .colab-df-convert {\n",
              "      background-color: #3B4455;\n",
              "      fill: #D2E3FC;\n",
              "    }\n",
              "\n",
              "    [theme=dark] .colab-df-convert:hover {\n",
              "      background-color: #434B5C;\n",
              "      box-shadow: 0px 1px 3px 1px rgba(0, 0, 0, 0.15);\n",
              "      filter: drop-shadow(0px 1px 2px rgba(0, 0, 0, 0.3));\n",
              "      fill: #FFFFFF;\n",
              "    }\n",
              "  </style>\n",
              "\n",
              "      <script>\n",
              "        const buttonEl =\n",
              "          document.querySelector('#df-256e9bcd-90a0-4024-9956-0d2d0f4a2dd9 button.colab-df-convert');\n",
              "        buttonEl.style.display =\n",
              "          google.colab.kernel.accessAllowed ? 'block' : 'none';\n",
              "\n",
              "        async function convertToInteractive(key) {\n",
              "          const element = document.querySelector('#df-256e9bcd-90a0-4024-9956-0d2d0f4a2dd9');\n",
              "          const dataTable =\n",
              "            await google.colab.kernel.invokeFunction('convertToInteractive',\n",
              "                                                     [key], {});\n",
              "          if (!dataTable) return;\n",
              "\n",
              "          const docLinkHtml = 'Like what you see? Visit the ' +\n",
              "            '<a target=\"_blank\" href=https://colab.research.google.com/notebooks/data_table.ipynb>data table notebook</a>'\n",
              "            + ' to learn more about interactive tables.';\n",
              "          element.innerHTML = '';\n",
              "          dataTable['output_type'] = 'display_data';\n",
              "          await google.colab.output.renderOutput(dataTable, element);\n",
              "          const docLink = document.createElement('div');\n",
              "          docLink.innerHTML = docLinkHtml;\n",
              "          element.appendChild(docLink);\n",
              "        }\n",
              "      </script>\n",
              "    </div>\n",
              "  </div>\n",
              "  "
            ]
          },
          "metadata": {},
          "execution_count": 2
        }
      ],
      "source": [
        "import numpy as np\n",
        "import pandas as pd\n",
        "pd.options.display.max_rows = 5\n",
        "\n",
        "reds = pd.read_csv(\"../data/reds.csv\", sep=\";\")\n",
        "whites = pd.read_csv(\"../data/whites.csv\", sep=\";\")\n",
        "\n",
        "reds[\"color\"] = \"red\"\n",
        "whites[\"color\"] = \"white\"\n",
        "\n",
        "wines = pd.concat([reds, whites], \n",
        "                  ignore_index=True)\n",
        "wines"
      ]
    },
    {
      "cell_type": "markdown",
      "metadata": {
        "id": "Akqm4E98782m"
      },
      "source": [
        "Let's focus on just two features for now: volatile acidity and total sulfur dioxide. Let's plot the training data, using color to represent the class label."
      ]
    },
    {
      "cell_type": "code",
      "execution_count": 3,
      "metadata": {
        "id": "HX-BxS9f782n",
        "colab": {
          "base_uri": "https://localhost:8080/",
          "height": 283
        },
        "outputId": "bf971063-c88e-42de-b0d8-470161e77676"
      },
      "outputs": [
        {
          "output_type": "display_data",
          "data": {
            "text/plain": [
              "<Figure size 432x288 with 1 Axes>"
            ],
            "image/png": "[encoded data removed]"
          },
          "metadata": {
            "needs_background": "light"
          }
        }
      ],
      "source": [
        "colors = wines[\"color\"].map({\n",
        "    \"red\": \"darkred\",\n",
        "    \"white\": \"gold\"\n",
        "})\n",
        "\n",
        "wines.plot.scatter(\n",
        "    x=\"volatile acidity\", y=\"total sulfur dioxide\", c=colors, \n",
        "    alpha=.3, xlim=(0, 1.6), ylim=(0, 400)\n",
        ");"
      ]
    },
    {
      "cell_type": "markdown",
      "metadata": {
        "id": "9_5woqdL782n"
      },
      "source": [
        "Now suppose that we have a new wine with volatile acidity .85 and total sulfur dioxide 120, represented by a black circle in the plot below. Is this likely a red wine or a white wine?\n",
        "\n",
        "![](https://github.com/nmattei/cmps3160/blob/master/_labs/images/classification.png?raw=1)\n",
        "\n",
        "It is not hard to guess that this wine is probably red, just by looking at the plot. The reasoning goes like this: most of the wines in the training data that were \"close\" to this wine were red, so it makes sense to predict that this wine is also red. This is precisely the idea behind the $k$-nearest neighbors classifier:\n",
        "\n",
        "1. Calculate the distance between the new point and each point in the training data, using some distance metric on the features.\n",
        "2. Determine the $k$ closest points. Of these $k$ closest points, count up how many of each class label there are.\n",
        "3. The predicted class of the new point is whichever class was most common among the $k$ closest points.\n",
        "\n",
        "The only difference between the $k$-nearest neighbors classifier and the $k$-nearest neighbors regressor from the previous chapter is the last step. Instead of averaging the labels of the $k$ neighbors to obtain our prediction, we count up the number of occurrences of each category among the labels and take the most common one. It makes sense that we have to do something different because the label is now categorical instead of quantitative. **This is yet another example of the general principle that was introduced in Chapter 1: the analysis changes depending on the variable type!**"
      ]
    },
    {
      "cell_type": "markdown",
      "metadata": {
        "id": "pr2ArSO6782o"
      },
      "source": [
        "# Implementing the K-Nearest Neighbors Classifier\n",
        "\n",
        "Let's implement $9$-nearest neighbors for the wine above. First, we extract the training data and scale the features:"
      ]
    },
    {
      "cell_type": "code",
      "execution_count": 4,
      "metadata": {
        "id": "W0qFeuO9782p"
      },
      "outputs": [],
      "source": [
        "X_train = wines[[\"volatile acidity\", \"total sulfur dioxide\"]]\n",
        "y_train = wines[\"color\"]\n",
        "\n",
        "X_train_sc = (X_train - X_train.mean()) / X_train.std()"
      ]
    },
    {
      "cell_type": "markdown",
      "metadata": {
        "id": "DntVinlt782q"
      },
      "source": [
        "Then, we create a `Series` for the new wine, being sure to scale it in the exact same way:"
      ]
    },
    {
      "cell_type": "code",
      "execution_count": 5,
      "metadata": {
        "id": "ptzyS9mg782q",
        "colab": {
          "base_uri": "https://localhost:8080/"
        },
        "outputId": "e2a3d06a-25a2-4155-ae3d-39753ff47fe9"
      },
      "outputs": [
        {
          "output_type": "execute_result",
          "data": {
            "text/plain": [
              "volatile acidity        3.099763\n",
              "total sulfur dioxide    0.075288\n",
              "dtype: float64"
            ]
          },
          "metadata": {},
          "execution_count": 5
        }
      ],
      "source": [
        "x_new = pd.Series(dtype=float)\n",
        "x_new[\"volatile acidity\"] = 0.85\n",
        "x_new[\"total sulfur dioxide\"] = 120\n",
        "\n",
        "x_new_sc = (x_new - X_train.mean()) / X_train.std()\n",
        "x_new_sc"
      ]
    },
    {
      "cell_type": "markdown",
      "metadata": {
        "id": "rN2i3Yga782r"
      },
      "source": [
        "Now we calculate the (Euclidean) distance between this new wine and each wine in the training data, and sort the distances from smallest to largest."
      ]
    },
    {
      "cell_type": "code",
      "execution_count": 6,
      "metadata": {
        "id": "xilftyFH782r",
        "colab": {
          "base_uri": "https://localhost:8080/"
        },
        "outputId": "c8a2740f-4dc8-46c3-e375-b26170d52620"
      },
      "outputs": [
        {
          "output_type": "execute_result",
          "data": {
            "text/plain": [
              "782     0.462062\n",
              "6391    0.466075\n",
              "          ...   \n",
              "3726    5.067728\n",
              "6344    6.700407\n",
              "Length: 6497, dtype: float64"
            ]
          },
          "metadata": {},
          "execution_count": 6
        }
      ],
      "source": [
        "dists = np.sqrt(((X_train_sc - x_new_sc) ** 2).sum(axis=1))\n",
        "dists_sorted = dists.sort_values()\n",
        "dists_sorted"
      ]
    },
    {
      "cell_type": "markdown",
      "metadata": {
        "id": "QMCY_Czj782r"
      },
      "source": [
        "The first 9 entries of this sorted list will be the 9 nearest neighbors. Let's get their index."
      ]
    },
    {
      "cell_type": "code",
      "execution_count": 7,
      "metadata": {
        "id": "V_50DZ08782r",
        "colab": {
          "base_uri": "https://localhost:8080/"
        },
        "outputId": "5f3b6115-a1bd-4b20-efe2-4f77ccd43f3f"
      },
      "outputs": [
        {
          "output_type": "execute_result",
          "data": {
            "text/plain": [
              "Int64Index([782, 6391, 889, 4696, 198, 637, 636, 46, 6414], dtype='int64')"
            ]
          },
          "metadata": {},
          "execution_count": 7
        }
      ],
      "source": [
        "inds_nearest = dists_sorted.index[:9]\n",
        "inds_nearest"
      ]
    },
    {
      "cell_type": "markdown",
      "metadata": {
        "id": "g3x9Y756782r"
      },
      "source": [
        "Now we can look up these indices in the original data."
      ]
    },
    {
      "cell_type": "code",
      "execution_count": 8,
      "metadata": {
        "id": "AXaEoLpm782s",
        "colab": {
          "base_uri": "https://localhost:8080/",
          "height": 334
        },
        "outputId": "6eeb2bf8-378d-4dbc-802f-21ba6f6d2388"
      },
      "outputs": [
        {
          "output_type": "execute_result",
          "data": {
            "text/plain": [
              "      fixed acidity  volatile acidity  citric acid  residual sugar  chlorides  \\\n",
              "782             9.0             0.820         0.05             2.4      0.081   \n",
              "6391            4.7             0.785         0.00             3.4      0.036   \n",
              "...             ...               ...          ...             ...        ...   \n",
              "46              7.7             0.935         0.43             2.2      0.114   \n",
              "6414            6.2             0.760         0.01             3.2      0.041   \n",
              "\n",
              "      free sulfur dioxide  total sulfur dioxide  density    pH  sulphates  \\\n",
              "782                  26.0                  96.0  0.99814  3.36       0.53   \n",
              "6391                 23.0                 134.0  0.98981  3.53       0.92   \n",
              "...                   ...                   ...      ...   ...        ...   \n",
              "46                   22.0                 114.0  0.99700  3.25       0.73   \n",
              "6414                 18.0                 120.0  0.99026  3.20       0.94   \n",
              "\n",
              "      alcohol  quality  color  \n",
              "782      10.0        5    red  \n",
              "6391     13.8        6  white  \n",
              "...       ...      ...    ...  \n",
              "46        9.2        5    red  \n",
              "6414     13.7        7  white  \n",
              "\n",
              "[9 rows x 13 columns]"
            ],
            "text/html": [
              "\n",
              "  <div id=\"df-26ec4815-32a1-4a86-be01-2c141912c093\">\n",
              "    <div class=\"colab-df-container\">\n",
              "      <div>\n",
              "<style scoped>\n",
              "    .dataframe tbody tr th:only-of-type {\n",
              "        vertical-align: middle;\n",
              "    }\n",
              "\n",
              "    .dataframe tbody tr th {\n",
              "        vertical-align: top;\n",
              "    }\n",
              "\n",
              "    .dataframe thead th {\n",
              "        text-align: right;\n",
              "    }\n",
              "</style>\n",
              "<table border=\"1\" class=\"dataframe\">\n",
              "  <thead>\n",
              "    <tr style=\"text-align: right;\">\n",
              "      <th></th>\n",
              "      <th>fixed acidity</th>\n",
              "      <th>volatile acidity</th>\n",
              "      <th>citric acid</th>\n",
              "      <th>residual sugar</th>\n",
              "      <th>chlorides</th>\n",
              "      <th>free sulfur dioxide</th>\n",
              "      <th>total sulfur dioxide</th>\n",
              "      <th>density</th>\n",
              "      <th>pH</th>\n",
              "      <th>sulphates</th>\n",
              "      <th>alcohol</th>\n",
              "      <th>quality</th>\n",
              "      <th>color</th>\n",
              "    </tr>\n",
              "  </thead>\n",
              "  <tbody>\n",
              "    <tr>\n",
              "      <th>782</th>\n",
              "      <td>9.0</td>\n",
              "      <td>0.820</td>\n",
              "      <td>0.05</td>\n",
              "      <td>2.4</td>\n",
              "      <td>0.081</td>\n",
              "      <td>26.0</td>\n",
              "      <td>96.0</td>\n",
              "      <td>0.99814</td>\n",
              "      <td>3.36</td>\n",
              "      <td>0.53</td>\n",
              "      <td>10.0</td>\n",
              "      <td>5</td>\n",
              "      <td>red</td>\n",
              "    </tr>\n",
              "    <tr>\n",
              "      <th>6391</th>\n",
              "      <td>4.7</td>\n",
              "      <td>0.785</td>\n",
              "      <td>0.00</td>\n",
              "      <td>3.4</td>\n",
              "      <td>0.036</td>\n",
              "      <td>23.0</td>\n",
              "      <td>134.0</td>\n",
              "      <td>0.98981</td>\n",
              "      <td>3.53</td>\n",
              "      <td>0.92</td>\n",
              "      <td>13.8</td>\n",
              "      <td>6</td>\n",
              "      <td>white</td>\n",
              "    </tr>\n",
              "    <tr>\n",
              "      <th>...</th>\n",
              "      <td>...</td>\n",
              "      <td>...</td>\n",
              "      <td>...</td>\n",
              "      <td>...</td>\n",
              "      <td>...</td>\n",
              "      <td>...</td>\n",
              "      <td>...</td>\n",
              "      <td>...</td>\n",
              "      <td>...</td>\n",
              "      <td>...</td>\n",
              "      <td>...</td>\n",
              "      <td>...</td>\n",
              "      <td>...</td>\n",
              "    </tr>\n",
              "    <tr>\n",
              "      <th>46</th>\n",
              "      <td>7.7</td>\n",
              "      <td>0.935</td>\n",
              "      <td>0.43</td>\n",
              "      <td>2.2</td>\n",
              "      <td>0.114</td>\n",
              "      <td>22.0</td>\n",
              "      <td>114.0</td>\n",
              "      <td>0.99700</td>\n",
              "      <td>3.25</td>\n",
              "      <td>0.73</td>\n",
              "      <td>9.2</td>\n",
              "      <td>5</td>\n",
              "      <td>red</td>\n",
              "    </tr>\n",
              "    <tr>\n",
              "      <th>6414</th>\n",
              "      <td>6.2</td>\n",
              "      <td>0.760</td>\n",
              "      <td>0.01</td>\n",
              "      <td>3.2</td>\n",
              "      <td>0.041</td>\n",
              "      <td>18.0</td>\n",
              "      <td>120.0</td>\n",
              "      <td>0.99026</td>\n",
              "      <td>3.20</td>\n",
              "      <td>0.94</td>\n",
              "      <td>13.7</td>\n",
              "      <td>7</td>\n",
              "      <td>white</td>\n",
              "    </tr>\n",
              "  </tbody>\n",
              "</table>\n",
              "<p>9 rows × 13 columns</p>\n",
              "</div>\n",
              "      <button class=\"colab-df-convert\" onclick=\"convertToInteractive('df-26ec4815-32a1-4a86-be01-2c141912c093')\"\n",
              "              title=\"Convert this dataframe to an interactive table.\"\n",
              "              style=\"display:none;\">\n",
              "        \n",
              "  <svg xmlns=\"http://www.w3.org/2000/svg\" height=\"24px\"viewBox=\"0 0 24 24\"\n",
              "       width=\"24px\">\n",
              "    <path d=\"M0 0h24v24H0V0z\" fill=\"none\"/>\n",
              "    <path d=\"M18.56 5.44l.94 2.06.94-2.06 2.06-.94-2.06-.94-.94-2.06-.94 2.06-2.06.94zm-11 1L8.5 8.5l.94-2.06 2.06-.94-2.06-.94L8.5 2.5l-.94 2.06-2.06.94zm10 10l.94 2.06.94-2.06 2.06-.94-2.06-.94-.94-2.06-.94 2.06-2.06.94z\"/><path d=\"M17.41 7.96l-1.37-1.37c-.4-.4-.92-.59-1.43-.59-.52 0-1.04.2-1.43.59L10.3 9.45l-7.72 7.72c-.78.78-.78 2.05 0 2.83L4 21.41c.39.39.9.59 1.41.59.51 0 1.02-.2 1.41-.59l7.78-7.78 2.81-2.81c.8-.78.8-2.07 0-2.86zM5.41 20L4 18.59l7.72-7.72 1.47 1.35L5.41 20z\"/>\n",
              "  </svg>\n",
              "      </button>\n",
              "      \n",
              "  <style>\n",
              "    .colab-df-container {\n",
              "      display:flex;\n",
              "      flex-wrap:wrap;\n",
              "      gap: 12px;\n",
              "    }\n",
              "\n",
              "    .colab-df-convert {\n",
              "      background-color: #E8F0FE;\n",
              "      border: none;\n",
              "      border-radius: 50%;\n",
              "      cursor: pointer;\n",
              "      display: none;\n",
              "      fill: #1967D2;\n",
              "      height: 32px;\n",
              "      padding: 0 0 0 0;\n",
              "      width: 32px;\n",
              "    }\n",
              "\n",
              "    .colab-df-convert:hover {\n",
              "      background-color: #E2EBFA;\n",
              "      box-shadow: 0px 1px 2px rgba(60, 64, 67, 0.3), 0px 1px 3px 1px rgba(60, 64, 67, 0.15);\n",
              "      fill: #174EA6;\n",
              "    }\n",
              "\n",
              "    [theme=dark] .colab-df-convert {\n",
              "      background-color: #3B4455;\n",
              "      fill: #D2E3FC;\n",
              "    }\n",
              "\n",
              "    [theme=dark] .colab-df-convert:hover {\n",
              "      background-color: #434B5C;\n",
              "      box-shadow: 0px 1px 3px 1px rgba(0, 0, 0, 0.15);\n",
              "      filter: drop-shadow(0px 1px 2px rgba(0, 0, 0, 0.3));\n",
              "      fill: #FFFFFF;\n",
              "    }\n",
              "  </style>\n",
              "\n",
              "      <script>\n",
              "        const buttonEl =\n",
              "          document.querySelector('#df-26ec4815-32a1-4a86-be01-2c141912c093 button.colab-df-convert');\n",
              "        buttonEl.style.display =\n",
              "          google.colab.kernel.accessAllowed ? 'block' : 'none';\n",
              "\n",
              "        async function convertToInteractive(key) {\n",
              "          const element = document.querySelector('#df-26ec4815-32a1-4a86-be01-2c141912c093');\n",
              "          const dataTable =\n",
              "            await google.colab.kernel.invokeFunction('convertToInteractive',\n",
              "                                                     [key], {});\n",
              "          if (!dataTable) return;\n",
              "\n",
              "          const docLinkHtml = 'Like what you see? Visit the ' +\n",
              "            '<a target=\"_blank\" href=https://colab.research.google.com/notebooks/data_table.ipynb>data table notebook</a>'\n",
              "            + ' to learn more about interactive tables.';\n",
              "          element.innerHTML = '';\n",
              "          dataTable['output_type'] = 'display_data';\n",
              "          await google.colab.output.renderOutput(dataTable, element);\n",
              "          const docLink = document.createElement('div');\n",
              "          docLink.innerHTML = docLinkHtml;\n",
              "          element.appendChild(docLink);\n",
              "        }\n",
              "      </script>\n",
              "    </div>\n",
              "  </div>\n",
              "  "
            ]
          },
          "metadata": {},
          "execution_count": 8
        }
      ],
      "source": [
        "wines.loc[inds_nearest]"
      ]
    },
    {
      "cell_type": "markdown",
      "metadata": {
        "id": "_BPCN8TQ782s"
      },
      "source": [
        "As a sanity check, notice that these wines are all similar to the new wine in terms of volatile acidity and total sulfur dioxide. To make a prediction for this new wine, we need to count up how many reds and whites there are among these 9-nearest neighbors."
      ]
    },
    {
      "cell_type": "code",
      "execution_count": 9,
      "metadata": {
        "id": "y2gzy0na782s",
        "colab": {
          "base_uri": "https://localhost:8080/"
        },
        "outputId": "772819e6-434d-4c17-c01b-49aa7e6112f9"
      },
      "outputs": [
        {
          "output_type": "execute_result",
          "data": {
            "text/plain": [
              "red      6\n",
              "white    3\n",
              "Name: color, dtype: int64"
            ]
          },
          "metadata": {},
          "execution_count": 9
        }
      ],
      "source": [
        "wines.loc[inds_nearest, \"color\"].value_counts()"
      ]
    },
    {
      "cell_type": "markdown",
      "metadata": {
        "id": "bv-wsmMg782s"
      },
      "source": [
        "There were more reds than whites, so the 9-nearest neighbors model predicts that the wine is red.\n",
        "\n",
        "As a measure of confidence in a prediction, classification models often report the predicted _probability_ of each label, instead of just the predicted label. The predicted probability of a class in a $k$-nearest neighbors model is simply the proportion of the $k$ neighbors that are in that class. In the example above, instead of simply predicting that the wine is red, we could have instead said that the wine has a $6/9 = .667$ probability of being red."
      ]
    },
    {
      "cell_type": "markdown",
      "metadata": {
        "id": "30nzpkDs782s"
      },
      "source": [
        "# K-Nearest Neighbors Classifier in Scikit-Learn\n",
        "\n",
        "Now let's see how to implement the same $9$-nearest neighbors model above using Scikit-Learn."
      ]
    },
    {
      "cell_type": "code",
      "execution_count": 10,
      "metadata": {
        "id": "XaawywqU782t",
        "colab": {
          "base_uri": "https://localhost:8080/"
        },
        "outputId": "56b74e49-88bb-4173-aefd-2289e376ad2a"
      },
      "outputs": [
        {
          "output_type": "execute_result",
          "data": {
            "text/plain": [
              "array(['red'], dtype=object)"
            ]
          },
          "metadata": {},
          "execution_count": 10
        }
      ],
      "source": [
        "from sklearn.preprocessing import StandardScaler\n",
        "from sklearn.neighbors import KNeighborsClassifier\n",
        "\n",
        "# define the training data\n",
        "X_train = wines[[\"volatile acidity\", \"total sulfur dioxide\"]]\n",
        "y_train = wines[\"color\"]\n",
        "\n",
        "# standardize the data\n",
        "scaler = StandardScaler()\n",
        "scaler.fit(X_train)\n",
        "X_train_sc = scaler.transform(X_train)\n",
        "\n",
        "# fit the 9-nearest neighbors model\n",
        "model = KNeighborsClassifier(n_neighbors=9)\n",
        "model.fit(X_train_sc, y_train)\n",
        "\n",
        "# define the test data (Scikit-Learn expects a matrix)\n",
        "x_new = pd.DataFrame()\n",
        "x_new[\"volatile acidity\"] = [0.85]\n",
        "x_new[\"total sulfur dioxide\"] = [120]\n",
        "x_new_sc = scaler.transform(x_new)\n",
        "\n",
        "# use the model to predict on the test data\n",
        "model.predict(x_new_sc)"
      ]
    },
    {
      "cell_type": "markdown",
      "metadata": {
        "id": "qcw9j9FC782t"
      },
      "source": [
        "What if we want the predicted probabilities? For classification models, there is an additional method, `.predict_proba()`, that returns the predicted probability of each class."
      ]
    },
    {
      "cell_type": "code",
      "execution_count": 11,
      "metadata": {
        "id": "gzh3mBBs782t",
        "colab": {
          "base_uri": "https://localhost:8080/"
        },
        "outputId": "ae503e98-12e7-4753-9a97-50729b749a9f"
      },
      "outputs": [
        {
          "output_type": "execute_result",
          "data": {
            "text/plain": [
              "array([[0.66666667, 0.33333333]])"
            ]
          },
          "metadata": {},
          "execution_count": 11
        }
      ],
      "source": [
        "model.predict_proba(x_new_sc)"
      ]
    },
    {
      "cell_type": "markdown",
      "metadata": {
        "id": "uzifueS-782t"
      },
      "source": [
        "The first number represents the probability of the first class (\"red\") and the second number represents the probability of the second class (\"white\"). Notice that the predicted probabilities add up to 1, as they must."
      ]
    },
    {
      "cell_type": "markdown",
      "metadata": {
        "id": "oc1at1G5782t"
      },
      "source": [
        "# Part 1: Exercises"
      ]
    },
    {
      "cell_type": "markdown",
      "metadata": {
        "id": "cMsdqICv782t"
      },
      "source": [
        "## Exercise 1\n",
        "\n",
        "In the above example, we built a 9-nearest neighbors classifier to predict the color of a wine from just its volatile acidity and total sulfur dioxide. Use the model above to predict the color of a wine with the following features:\n",
        "\n",
        "- fixed acidity: 11\n",
        "- volatile acidity: 0.3\n",
        "- citric acid: 0.3\n",
        "- residual sugar: 2\n",
        "- chlorides: 0.08\n",
        "- free sulfur dioxide: 17\n",
        "- total sulfur dioxide: 60\n",
        "- density: 1.0\n",
        "- pH: 3.2\n",
        "- sulphates: 0.6\n",
        "- alcohol: 9.8\n",
        "- quality: 6\n",
        "\n",
        "Now, build a 15-nearest neighbors classifier using all of the features in the data set. Use this new model to predict the color of the same wine above.\n",
        "\n",
        "Does the predicted label change? Do the predicted probabilities of the labels change?"
      ]
    },
    {
      "cell_type": "code",
      "execution_count": 12,
      "metadata": {
        "id": "rpCJEjIR782u",
        "colab": {
          "base_uri": "https://localhost:8080/"
        },
        "outputId": "f0793bbd-31f1-4d3d-8712-8cefdef849a9"
      },
      "outputs": [
        {
          "output_type": "stream",
          "name": "stdout",
          "text": [
            "['red']\n",
            "[[0.55555556 0.44444444]]\n"
          ]
        }
      ],
      "source": [
        "# predict new value on just \"volatile acidity\", \"total sulfur dioxide\" to \"color\" in 9-NN model\n",
        "\n",
        "# Import values from above for new datum\n",
        "x_new = pd.DataFrame()\n",
        "x_new[\"volatile acidity\"] = [0.3]\n",
        "x_new[\"total sulfur dioxide\"] = [60]\n",
        "\n",
        "# Scale datum\n",
        "x_new_sc = scaler.transform(x_new)\n",
        "\n",
        "# Get prediction\n",
        "print(model.predict(x_new_sc))\n",
        "print(model.predict_proba(x_new_sc))\n",
        "\n",
        "\n",
        "# Predicts color = 'red'\n",
        "# confidence = 5/9, 4/9 for red vs white"
      ]
    },
    {
      "cell_type": "code",
      "source": [
        "# define the training data - all attributes\n",
        "X_train = wines[[\"fixed acidity\", \"volatile acidity\", \"citric acid\", \"residual sugar\", \"chlorides\", \"free sulfur dioxide\", \"total sulfur dioxide\", \"density\", \"pH\", \"sulphates\", \"alcohol\", \"quality\"]]\n",
        "y_train = wines[\"color\"]\n",
        "\n",
        "# standardize the data using StandardScaler\n",
        "scaler = StandardScaler()\n",
        "scaler.fit(X_train)\n",
        "X_train_sc = scaler.transform(X_train)\n",
        "\n",
        "# fit the 15-nearest neighbors model\n",
        "model = KNeighborsClassifier(n_neighbors=15)\n",
        "model.fit(X_train_sc, y_train)\n",
        "\n",
        "# define the test data\n",
        "x_new = pd.DataFrame()\n",
        "x_new[\"fixed acidity\"] = [11]\n",
        "x_new[\"volatile acidity\"] = [0.3]\n",
        "x_new[\"citric acid\"] = [0.3]\n",
        "x_new[\"residual sugar\"] = [2]\n",
        "x_new[\"chlorides\"] = [0.08]\n",
        "x_new[\"free sulfur dioxide\"] = [17]\n",
        "x_new[\"total sulfur dioxide\"] = [60]\n",
        "x_new[\"density\"] = [1.0]\n",
        "x_new[\"pH\"] = [3.2]\n",
        "x_new[\"sulphates\"] = [0.6]\n",
        "x_new[\"alcohol\"] = [9.8]\n",
        "x_new[\"quality\"] = [6]\n",
        "\n",
        "\"\"\"\n",
        "\n",
        "    fixed acidity: 11\n",
        "    volatile acidity: 0.3\n",
        "    citric acid: 0.3\n",
        "    residual sugar: 2\n",
        "    chlorides: 0.08\n",
        "    free sulfur dioxide: 17\n",
        "    total sulfur dioxide: 60\n",
        "    density: 1.0\n",
        "    pH: 3.2\n",
        "    sulphates: 0.6\n",
        "    alcohol: 9.8\n",
        "    quality: 6\n",
        "\n",
        "\"\"\"\n",
        "\n",
        "# scale the data\n",
        "x_new_sc = scaler.transform(x_new)\n",
        "\n",
        "# use the model to predict on the test data\n",
        "print(model.predict(x_new_sc))\n",
        "print(model.predict_proba(x_new_sc))"
      ],
      "metadata": {
        "colab": {
          "base_uri": "https://localhost:8080/"
        },
        "id": "H0RrdKgp_cCN",
        "outputId": "36a0b507-ce72-4a44-aa1c-a9c478b5df95"
      },
      "execution_count": 13,
      "outputs": [
        {
          "output_type": "stream",
          "name": "stdout",
          "text": [
            "['red']\n",
            "[[1. 0.]]\n"
          ]
        }
      ]
    },
    {
      "cell_type": "markdown",
      "metadata": {
        "id": "4I0oPNCU782u"
      },
      "source": [
        "**Written Answer Here:**\n",
        "\n",
        "*For the 9 nearest neighbor model on just volative acidity and total sulfur dioxide, the prediction is 'red' with a confidence of 0.55 (0.44 confident in white) - however for the 15 nearest neighbor model on all features, the prediction is 'red' with a confidence of 1.0 (absolute certainty)*\n",
        "\n"
      ]
    },
    {
      "cell_type": "markdown",
      "metadata": {
        "id": "Et2KkqrY782u"
      },
      "source": [
        "# Part 2: Evaluating Classification Models\n",
        "\n",
        "Just as with regression models, we need ways to measure how good a classification model is. With regression models, the main metrics were MSE, RMSE, and MAE. With classification models, the main metrics are accuracy, precision, and recall. All of these metrics can be calculated on either the training data or the test data. We can also use cross validation to estimate the value of the metric on test data.\n",
        "\n",
        "First, let's train a $9$-nearest neighbors model on the wine data, just so that we have a model to evaluate. The following code is copied from above."
      ]
    },
    {
      "cell_type": "code",
      "execution_count": 14,
      "metadata": {
        "id": "1EOSSUru782u",
        "colab": {
          "base_uri": "https://localhost:8080/",
          "height": 334
        },
        "outputId": "d8865e7b-e8a5-479b-96a8-4773858f29a3"
      },
      "outputs": [
        {
          "output_type": "execute_result",
          "data": {
            "text/plain": [
              "      fixed acidity  volatile acidity  citric acid  residual sugar  chlorides  \\\n",
              "0               7.4              0.70         0.00             1.9      0.076   \n",
              "1               7.8              0.88         0.00             2.6      0.098   \n",
              "...             ...               ...          ...             ...        ...   \n",
              "6495            5.5              0.29         0.30             1.1      0.022   \n",
              "6496            6.0              0.21         0.38             0.8      0.020   \n",
              "\n",
              "      free sulfur dioxide  total sulfur dioxide  density    pH  sulphates  \\\n",
              "0                    11.0                  34.0  0.99780  3.51       0.56   \n",
              "1                    25.0                  67.0  0.99680  3.20       0.68   \n",
              "...                   ...                   ...      ...   ...        ...   \n",
              "6495                 20.0                 110.0  0.98869  3.34       0.38   \n",
              "6496                 22.0                  98.0  0.98941  3.26       0.32   \n",
              "\n",
              "      alcohol  quality  color  \n",
              "0         9.4        5    red  \n",
              "1         9.8        5    red  \n",
              "...       ...      ...    ...  \n",
              "6495     12.8        7  white  \n",
              "6496     11.8        6  white  \n",
              "\n",
              "[6497 rows x 13 columns]"
            ],
            "text/html": [
              "\n",
              "  <div id=\"df-184bd42f-37d5-49de-b05b-c176acd874ae\">\n",
              "    <div class=\"colab-df-container\">\n",
              "      <div>\n",
              "<style scoped>\n",
              "    .dataframe tbody tr th:only-of-type {\n",
              "        vertical-align: middle;\n",
              "    }\n",
              "\n",
              "    .dataframe tbody tr th {\n",
              "        vertical-align: top;\n",
              "    }\n",
              "\n",
              "    .dataframe thead th {\n",
              "        text-align: right;\n",
              "    }\n",
              "</style>\n",
              "<table border=\"1\" class=\"dataframe\">\n",
              "  <thead>\n",
              "    <tr style=\"text-align: right;\">\n",
              "      <th></th>\n",
              "      <th>fixed acidity</th>\n",
              "      <th>volatile acidity</th>\n",
              "      <th>citric acid</th>\n",
              "      <th>residual sugar</th>\n",
              "      <th>chlorides</th>\n",
              "      <th>free sulfur dioxide</th>\n",
              "      <th>total sulfur dioxide</th>\n",
              "      <th>density</th>\n",
              "      <th>pH</th>\n",
              "      <th>sulphates</th>\n",
              "      <th>alcohol</th>\n",
              "      <th>quality</th>\n",
              "      <th>color</th>\n",
              "    </tr>\n",
              "  </thead>\n",
              "  <tbody>\n",
              "    <tr>\n",
              "      <th>0</th>\n",
              "      <td>7.4</td>\n",
              "      <td>0.70</td>\n",
              "      <td>0.00</td>\n",
              "      <td>1.9</td>\n",
              "      <td>0.076</td>\n",
              "      <td>11.0</td>\n",
              "      <td>34.0</td>\n",
              "      <td>0.99780</td>\n",
              "      <td>3.51</td>\n",
              "      <td>0.56</td>\n",
              "      <td>9.4</td>\n",
              "      <td>5</td>\n",
              "      <td>red</td>\n",
              "    </tr>\n",
              "    <tr>\n",
              "      <th>1</th>\n",
              "      <td>7.8</td>\n",
              "      <td>0.88</td>\n",
              "      <td>0.00</td>\n",
              "      <td>2.6</td>\n",
              "      <td>0.098</td>\n",
              "      <td>25.0</td>\n",
              "      <td>67.0</td>\n",
              "      <td>0.99680</td>\n",
              "      <td>3.20</td>\n",
              "      <td>0.68</td>\n",
              "      <td>9.8</td>\n",
              "      <td>5</td>\n",
              "      <td>red</td>\n",
              "    </tr>\n",
              "    <tr>\n",
              "      <th>...</th>\n",
              "      <td>...</td>\n",
              "      <td>...</td>\n",
              "      <td>...</td>\n",
              "      <td>...</td>\n",
              "      <td>...</td>\n",
              "      <td>...</td>\n",
              "      <td>...</td>\n",
              "      <td>...</td>\n",
              "      <td>...</td>\n",
              "      <td>...</td>\n",
              "      <td>...</td>\n",
              "      <td>...</td>\n",
              "      <td>...</td>\n",
              "    </tr>\n",
              "    <tr>\n",
              "      <th>6495</th>\n",
              "      <td>5.5</td>\n",
              "      <td>0.29</td>\n",
              "      <td>0.30</td>\n",
              "      <td>1.1</td>\n",
              "      <td>0.022</td>\n",
              "      <td>20.0</td>\n",
              "      <td>110.0</td>\n",
              "      <td>0.98869</td>\n",
              "      <td>3.34</td>\n",
              "      <td>0.38</td>\n",
              "      <td>12.8</td>\n",
              "      <td>7</td>\n",
              "      <td>white</td>\n",
              "    </tr>\n",
              "    <tr>\n",
              "      <th>6496</th>\n",
              "      <td>6.0</td>\n",
              "      <td>0.21</td>\n",
              "      <td>0.38</td>\n",
              "      <td>0.8</td>\n",
              "      <td>0.020</td>\n",
              "      <td>22.0</td>\n",
              "      <td>98.0</td>\n",
              "      <td>0.98941</td>\n",
              "      <td>3.26</td>\n",
              "      <td>0.32</td>\n",
              "      <td>11.8</td>\n",
              "      <td>6</td>\n",
              "      <td>white</td>\n",
              "    </tr>\n",
              "  </tbody>\n",
              "</table>\n",
              "<p>6497 rows × 13 columns</p>\n",
              "</div>\n",
              "      <button class=\"colab-df-convert\" onclick=\"convertToInteractive('df-184bd42f-37d5-49de-b05b-c176acd874ae')\"\n",
              "              title=\"Convert this dataframe to an interactive table.\"\n",
              "              style=\"display:none;\">\n",
              "        \n",
              "  <svg xmlns=\"http://www.w3.org/2000/svg\" height=\"24px\"viewBox=\"0 0 24 24\"\n",
              "       width=\"24px\">\n",
              "    <path d=\"M0 0h24v24H0V0z\" fill=\"none\"/>\n",
              "    <path d=\"M18.56 5.44l.94 2.06.94-2.06 2.06-.94-2.06-.94-.94-2.06-.94 2.06-2.06.94zm-11 1L8.5 8.5l.94-2.06 2.06-.94-2.06-.94L8.5 2.5l-.94 2.06-2.06.94zm10 10l.94 2.06.94-2.06 2.06-.94-2.06-.94-.94-2.06-.94 2.06-2.06.94z\"/><path d=\"M17.41 7.96l-1.37-1.37c-.4-.4-.92-.59-1.43-.59-.52 0-1.04.2-1.43.59L10.3 9.45l-7.72 7.72c-.78.78-.78 2.05 0 2.83L4 21.41c.39.39.9.59 1.41.59.51 0 1.02-.2 1.41-.59l7.78-7.78 2.81-2.81c.8-.78.8-2.07 0-2.86zM5.41 20L4 18.59l7.72-7.72 1.47 1.35L5.41 20z\"/>\n",
              "  </svg>\n",
              "      </button>\n",
              "      \n",
              "  <style>\n",
              "    .colab-df-container {\n",
              "      display:flex;\n",
              "      flex-wrap:wrap;\n",
              "      gap: 12px;\n",
              "    }\n",
              "\n",
              "    .colab-df-convert {\n",
              "      background-color: #E8F0FE;\n",
              "      border: none;\n",
              "      border-radius: 50%;\n",
              "      cursor: pointer;\n",
              "      display: none;\n",
              "      fill: #1967D2;\n",
              "      height: 32px;\n",
              "      padding: 0 0 0 0;\n",
              "      width: 32px;\n",
              "    }\n",
              "\n",
              "    .colab-df-convert:hover {\n",
              "      background-color: #E2EBFA;\n",
              "      box-shadow: 0px 1px 2px rgba(60, 64, 67, 0.3), 0px 1px 3px 1px rgba(60, 64, 67, 0.15);\n",
              "      fill: #174EA6;\n",
              "    }\n",
              "\n",
              "    [theme=dark] .colab-df-convert {\n",
              "      background-color: #3B4455;\n",
              "      fill: #D2E3FC;\n",
              "    }\n",
              "\n",
              "    [theme=dark] .colab-df-convert:hover {\n",
              "      background-color: #434B5C;\n",
              "      box-shadow: 0px 1px 3px 1px rgba(0, 0, 0, 0.15);\n",
              "      filter: drop-shadow(0px 1px 2px rgba(0, 0, 0, 0.3));\n",
              "      fill: #FFFFFF;\n",
              "    }\n",
              "  </style>\n",
              "\n",
              "      <script>\n",
              "        const buttonEl =\n",
              "          document.querySelector('#df-184bd42f-37d5-49de-b05b-c176acd874ae button.colab-df-convert');\n",
              "        buttonEl.style.display =\n",
              "          google.colab.kernel.accessAllowed ? 'block' : 'none';\n",
              "\n",
              "        async function convertToInteractive(key) {\n",
              "          const element = document.querySelector('#df-184bd42f-37d5-49de-b05b-c176acd874ae');\n",
              "          const dataTable =\n",
              "            await google.colab.kernel.invokeFunction('convertToInteractive',\n",
              "                                                     [key], {});\n",
              "          if (!dataTable) return;\n",
              "\n",
              "          const docLinkHtml = 'Like what you see? Visit the ' +\n",
              "            '<a target=\"_blank\" href=https://colab.research.google.com/notebooks/data_table.ipynb>data table notebook</a>'\n",
              "            + ' to learn more about interactive tables.';\n",
              "          element.innerHTML = '';\n",
              "          dataTable['output_type'] = 'display_data';\n",
              "          await google.colab.output.renderOutput(dataTable, element);\n",
              "          const docLink = document.createElement('div');\n",
              "          docLink.innerHTML = docLinkHtml;\n",
              "          element.appendChild(docLink);\n",
              "        }\n",
              "      </script>\n",
              "    </div>\n",
              "  </div>\n",
              "  "
            ]
          },
          "metadata": {},
          "execution_count": 14
        }
      ],
      "source": [
        "%matplotlib inline\n",
        "import numpy as np\n",
        "import pandas as pd\n",
        "pd.options.display.max_rows = 5\n",
        "\n",
        "reds = pd.read_csv(\"../data/reds.csv\", sep=\";\")\n",
        "whites = pd.read_csv(\"../data/whites.csv\", sep=\";\")\n",
        "\n",
        "reds[\"color\"] = \"red\"\n",
        "whites[\"color\"] = \"white\"\n",
        "\n",
        "wines = pd.concat([reds, whites], \n",
        "                  ignore_index=True)\n",
        "wines"
      ]
    },
    {
      "cell_type": "code",
      "execution_count": 15,
      "metadata": {
        "id": "YKvj_iLa782v",
        "colab": {
          "base_uri": "https://localhost:8080/"
        },
        "outputId": "d0a759e5-9b80-4c9d-811c-20913742cee1"
      },
      "outputs": [
        {
          "output_type": "execute_result",
          "data": {
            "text/plain": [
              "KNeighborsClassifier(n_neighbors=9)"
            ]
          },
          "metadata": {},
          "execution_count": 15
        }
      ],
      "source": [
        "from sklearn.preprocessing import StandardScaler\n",
        "from sklearn.neighbors import KNeighborsClassifier\n",
        "\n",
        "# define the training data\n",
        "X_train = wines[[\"volatile acidity\", \"total sulfur dioxide\"]]\n",
        "y_train = wines[\"color\"]\n",
        "\n",
        "# standardize the data\n",
        "scaler = StandardScaler()\n",
        "scaler.fit(X_train)\n",
        "X_train_sc = scaler.transform(X_train)\n",
        "\n",
        "# fit the 9-nearest neighbors model\n",
        "model = KNeighborsClassifier(n_neighbors=9)\n",
        "model.fit(X_train_sc, y_train)"
      ]
    },
    {
      "cell_type": "markdown",
      "metadata": {
        "id": "HXunlqIc782v"
      },
      "source": [
        "We will start by calculating training metrics, so we need predictions for the observations in the training data."
      ]
    },
    {
      "cell_type": "code",
      "execution_count": 16,
      "metadata": {
        "id": "Q83fQSIl782v",
        "colab": {
          "base_uri": "https://localhost:8080/"
        },
        "outputId": "5fa55754-9cc8-4d34-8317-1e0df4df8845"
      },
      "outputs": [
        {
          "output_type": "execute_result",
          "data": {
            "text/plain": [
              "array(['red', 'red', 'red', ..., 'white', 'white', 'white'], dtype=object)"
            ]
          },
          "metadata": {},
          "execution_count": 16
        }
      ],
      "source": [
        "y_train_pred = model.predict(X_train_sc)\n",
        "y_train_pred"
      ]
    },
    {
      "cell_type": "markdown",
      "metadata": {
        "id": "soC_184m782v"
      },
      "source": [
        "# Metrics for Classification\n",
        "\n",
        "Because the labels $y_i$ in a classification model are categorical, we cannot calculate the difference $y_i - \\hat y_i$ between the actual and predicted labels, as we did for regression model. But we can determine if the predicted label $\\hat y_i$ is correct ($\\hat y_i = y_i$) or not ($\\hat y_i \\neq y_i$). For example, the **error rate** is defined to be:\n",
        "\n",
        "$$ \\textrm{error rate} = \\textrm{proportion where } \\hat y_i \\neq y_i $$\n",
        "\n",
        "With classification models, it is more common to report the performance in terms of a score, like **accuracy**, where a higher value is better:\n",
        "\n",
        "$$ \\textrm{accuracy} = \\textrm{proportion where } \\hat y_i = y_i $$"
      ]
    },
    {
      "cell_type": "code",
      "execution_count": 17,
      "metadata": {
        "id": "r9Beg9Tl782v",
        "colab": {
          "base_uri": "https://localhost:8080/"
        },
        "outputId": "083a6781-9670-418e-de62-dcbc8dc9c919"
      },
      "outputs": [
        {
          "output_type": "execute_result",
          "data": {
            "text/plain": [
              "0.9609050330921964"
            ]
          },
          "metadata": {},
          "execution_count": 17
        }
      ],
      "source": [
        "accuracy = (y_train_pred == y_train).mean()\n",
        "accuracy"
      ]
    },
    {
      "cell_type": "markdown",
      "metadata": {
        "id": "A-Exe1nP782v"
      },
      "source": [
        "If you ever forget how to calculate accuracy, you can have Scikit-Learn do it for you. It just needs to know the true labels and the predicted labels:"
      ]
    },
    {
      "cell_type": "code",
      "execution_count": 18,
      "metadata": {
        "id": "4y0yKrnM782v",
        "colab": {
          "base_uri": "https://localhost:8080/"
        },
        "outputId": "513b479b-6cec-41d2-f7ab-8f9c5348b799"
      },
      "outputs": [
        {
          "output_type": "execute_result",
          "data": {
            "text/plain": [
              "0.9609050330921964"
            ]
          },
          "metadata": {},
          "execution_count": 18
        }
      ],
      "source": [
        "from sklearn.metrics import accuracy_score\n",
        "\n",
        "accuracy_score(y_train, y_train_pred)"
      ]
    },
    {
      "cell_type": "markdown",
      "metadata": {
        "id": "d7fYXCJp782w"
      },
      "source": [
        "The problem with accuracy is that it is sensitive to the initial distribution of classes in the training data. For example, if 99% of the wines in the data set were white, it would be trivial to obtain a model with 99% accuracy: the model could simply predict that every wine is white. Even though such a model has high overall accuracy, it is remarkably bad for red wines. We need some way to measure the \"accuracy\" of a model for a particular class.\n",
        "\n",
        "Suppose we want to know the \"accuracy\" of our model for class $c$. There are two ways to interpret \"accuracy for class $c$\". Do we want to know the accuracy among the observations our model _predicted to be_ in class $c$ or the accuracy among the observations that _actually were_ in class $c$? The two options lead to two different notions of \"accuracy\" for class $c$: precision and recall.\n",
        "\n",
        "The **precision** of a model for class $c$ is the proportion of observations predicted to be in class $c$ that actually were in class $c$. \n",
        "\n",
        "$$ \\textrm{precision for class } c = \\frac{\\# \\{i:  \\hat y_i = c \\textrm{ and } y_i = c\\}}{\\# \\{i: \\hat y_i = c \\}}. $$\n",
        "\n",
        "The **recall** of a model for class $c$ is the proportion of observations actually in class $c$ that were predicted to be in class $c$.\n",
        "\n",
        "$$ \\textrm{recall for class } c = \\frac{\\# \\{i:  \\hat y_i = c \\textrm{ and } y_i = c\\}}{\\# \\{i: y_i = c \\}}. $$\n",
        "\n",
        "Another way to think about precision and recall is in terms of true positives (TP) and false positives (FP). A \"positive\" is an observation that the model identified as belonging to class $c$ (i.e., $\\hat y_i = c$). A true positive is one that actually was in class $c$ (i.e., $\\hat y_i = c$ and $y_i = c$), while a false positive is one that was not (i.e., $\\hat y_i = c$ and $y_i \\neq c$). True and false _negatives_ are defined analogously.\n",
        "\n",
        "In the language of positives and negatives, the precision is the proportion of positives that are true positives:\n",
        "$$ \\textrm{precision for class } c = \\frac{TP}{TP + FP}, $$\n",
        "while the recall is the proportion of observations in class $c$ that are positives (as opposed to negatives):\n",
        "$$ \\textrm{recall for class } c = \\frac{TP}{TP + FN}. $$\n",
        "\n",
        "The diagram below may help you to remember which numbers go in the numerator and denominator. The precision is the proportion of the red rectangle that is a TP, while the recall is the proportion of the red circle that is a TP.\n",
        "\n",
        "![](https://github.com/nmattei/cmps3160/blob/master/_labs/images/precision_recall.png?raw=1)\n",
        "\n",
        "Let's calculate the precision and recall of our $9$-nearest neighbors model for the red \"class\":"
      ]
    },
    {
      "cell_type": "code",
      "execution_count": 19,
      "metadata": {
        "id": "iW7z4Fl7782x",
        "colab": {
          "base_uri": "https://localhost:8080/"
        },
        "outputId": "fec60acb-db19-4fbe-e13b-096e1032172d"
      },
      "outputs": [
        {
          "output_type": "execute_result",
          "data": {
            "text/plain": [
              "(0.926984126984127, 0.9130706691682301)"
            ]
          },
          "metadata": {},
          "execution_count": 19
        }
      ],
      "source": [
        "true_positives = ((y_train_pred == \"red\") & (y_train == \"red\")).sum()\n",
        "\n",
        "precision = true_positives / (y_train_pred == \"red\").sum()\n",
        "recall = true_positives / (y_train == \"red\").sum()\n",
        "    \n",
        "precision, recall"
      ]
    },
    {
      "cell_type": "markdown",
      "metadata": {
        "id": "Pq7fRuuL782x"
      },
      "source": [
        "Again, you can have Scikit-Learn calculate precision and recall for you. These functions work similarly to `accuracy_score` above, except we have to explicitly specify the class for which we want the precision and recall. For example, to calculate the precision and recall of the model for red wines:"
      ]
    },
    {
      "cell_type": "code",
      "execution_count": 20,
      "metadata": {
        "id": "E08GpeUO782x",
        "colab": {
          "base_uri": "https://localhost:8080/"
        },
        "outputId": "02816b6e-a7bd-4171-f3cd-18b925ef47ff"
      },
      "outputs": [
        {
          "output_type": "execute_result",
          "data": {
            "text/plain": [
              "(0.926984126984127, 0.9130706691682301)"
            ]
          },
          "metadata": {},
          "execution_count": 20
        }
      ],
      "source": [
        "from sklearn.metrics import precision_score, recall_score\n",
        "\n",
        "(precision_score(y_train, y_train_pred, pos_label=\"red\"),\n",
        " recall_score(y_train, y_train_pred, pos_label=\"red\"))"
      ]
    },
    {
      "cell_type": "markdown",
      "metadata": {
        "id": "MsZsUe7M782x"
      },
      "source": [
        "It is important to specify `pos_label` because the precision and recall for other classes may be quite different:"
      ]
    },
    {
      "cell_type": "code",
      "execution_count": 21,
      "metadata": {
        "id": "3zWGn2mp782x",
        "colab": {
          "base_uri": "https://localhost:8080/"
        },
        "outputId": "06a03375-d11a-4bac-8fa1-0b84a81ed795"
      },
      "outputs": [
        {
          "output_type": "execute_result",
          "data": {
            "text/plain": [
              "(0.9717594473791141, 0.9765210289914251)"
            ]
          },
          "metadata": {},
          "execution_count": 21
        }
      ],
      "source": [
        "(precision_score(y_train, y_train_pred, pos_label=\"white\"),\n",
        " recall_score(y_train, y_train_pred, pos_label=\"white\"))"
      ]
    },
    {
      "cell_type": "markdown",
      "metadata": {
        "id": "snl_vE-a782x"
      },
      "source": [
        "In general, there is a tradeoff between precision and recall. For example, you can improve recall by predicting more observations to be in class $c$, but this will hurt precision. To take an extreme example, a model that predicts that _every_ observation is in class $c$ has 100% recall, but its precision would likely be poor. To visualize this phenomenon, suppose we expand the positives from the dashed circle to the solid circle, as shown in the figure below, at right. This increases recall (because the circle now covers more of the red rectangle) but decreases precision (because the red rectangle now makes up a smaller fraction of the circle).\n",
        "\n",
        "![](https://github.com/nmattei/cmps3160/blob/master/_labs/images/precision_recall_tradeoff.png?raw=1)\n",
        "\n",
        "Likewise, you can improve precision by predicting fewer observations to be in class $c$ (i.e., only the ones you are very confident about), but this will hurt recall. This is illustrated in the figure above, at left."
      ]
    },
    {
      "cell_type": "markdown",
      "metadata": {
        "id": "2dgT7Fdv782x"
      },
      "source": [
        "# Validation Accuracy, Precision, and Recall in Scikit-Learn\n",
        "\n",
        "We calculated the training accuracy of our classifier above. However, test accuracy is more useful in most cases. We can estimate the test accuracy using cross validation. We will have Scikit-Learn carry out the cross validation for us, including the computation of the accuracy score on each held-out subsample. We simply have to specify the right `scoring=` method."
      ]
    },
    {
      "cell_type": "code",
      "execution_count": 22,
      "metadata": {
        "id": "8iQjDxoc782y",
        "colab": {
          "base_uri": "https://localhost:8080/"
        },
        "outputId": "8a472d23-af8f-4651-fb48-de5fdfe5374d"
      },
      "outputs": [
        {
          "output_type": "execute_result",
          "data": {
            "text/plain": [
              "array([0.94      , 0.94615385, 0.94615385, 0.94307692, 0.95692308,\n",
              "       0.96769231, 0.94923077, 0.94453005, 0.96918336, 0.94298921])"
            ]
          },
          "metadata": {},
          "execution_count": 22
        }
      ],
      "source": [
        "from sklearn.pipeline import Pipeline\n",
        "from sklearn.model_selection import cross_val_score\n",
        "\n",
        "pipeline = Pipeline([\n",
        "    (\"scaler\", scaler),\n",
        "    (\"model\", model)\n",
        "])\n",
        "\n",
        "cross_val_score(pipeline, X_train, y_train, \n",
        "                cv=10, scoring=\"accuracy\")"
      ]
    },
    {
      "cell_type": "markdown",
      "metadata": {
        "id": "ZPoP5Z76782y"
      },
      "source": [
        "To obtain a single estimate of test accuracy from the 10 validation accuracies, we can take their average:"
      ]
    },
    {
      "cell_type": "code",
      "execution_count": 23,
      "metadata": {
        "id": "KTDr_ukY782y",
        "colab": {
          "base_uri": "https://localhost:8080/"
        },
        "outputId": "4595e356-edb0-4c3a-bba1-14cfca941898"
      },
      "outputs": [
        {
          "output_type": "execute_result",
          "data": {
            "text/plain": [
              "0.9505933388645254"
            ]
          },
          "metadata": {},
          "execution_count": 23
        }
      ],
      "source": [
        "cross_val_score(pipeline, X_train, y_train, \n",
        "                cv=10, scoring=\"accuracy\").mean()"
      ]
    },
    {
      "cell_type": "markdown",
      "metadata": {
        "id": "Oo1ZjKEh782y"
      },
      "source": [
        "The validation accuracy is still high, but lower than the training accuracy. This makes sense because it is always harder to predict for future data than for current data.\n",
        "\n",
        "Scikit-Learn can also calculate the precision and recall of a class $c$, but we need to manually convert the label to a binary label that is $1$ (or `True`) if the observation is in class $c$ and $0$ (or `False`) otherwise. For example, the following code calculates the validation _recall_ for red wines:"
      ]
    },
    {
      "cell_type": "code",
      "execution_count": 24,
      "metadata": {
        "id": "V7zMhyxg782y",
        "colab": {
          "base_uri": "https://localhost:8080/"
        },
        "outputId": "eaaa712e-cd04-497a-99fa-efd73fc405db"
      },
      "outputs": [
        {
          "output_type": "execute_result",
          "data": {
            "text/plain": [
              "0.8849567610062893"
            ]
          },
          "metadata": {},
          "execution_count": 24
        }
      ],
      "source": [
        "is_red_train = (y_train == \"red\")\n",
        "\n",
        "cross_val_score(pipeline, X_train, is_red_train, \n",
        "                cv=10, scoring=\"recall\").mean()"
      ]
    },
    {
      "cell_type": "markdown",
      "metadata": {
        "id": "YPzu7kC8782y"
      },
      "source": [
        "To calculate the validation _precision_ for red wines, we just have to change the scoring method:"
      ]
    },
    {
      "cell_type": "code",
      "execution_count": 25,
      "metadata": {
        "id": "aY92tUl3782y",
        "colab": {
          "base_uri": "https://localhost:8080/"
        },
        "outputId": "0e9768b2-87e2-4cdc-8f39-12882ff6e4cf"
      },
      "outputs": [
        {
          "output_type": "execute_result",
          "data": {
            "text/plain": [
              "0.9137308357621109"
            ]
          },
          "metadata": {},
          "execution_count": 25
        }
      ],
      "source": [
        "cross_val_score(pipeline, X_train, is_red_train, \n",
        "                cv=10, scoring=\"precision\").mean()"
      ]
    },
    {
      "cell_type": "markdown",
      "metadata": {
        "id": "yEGlsCsG782y"
      },
      "source": [
        "# F1 Score: Combining Precision and Recall\n",
        "\n",
        "We have replaced accuracy by two numbers: precision and recall. We can combine the precision and recall into a single number, called the **F1 score**. \n",
        "\n",
        "The F1 score is defined to be the **harmonic mean** of the precision and the recall. That is, \n",
        "\n",
        "$$ \\frac{1}{\\text{F1 score}} = \\frac{ \\frac{1}{\\text{precision}} + \\frac{1}{\\text{recall}}}{2}, $$\n",
        "\n",
        "or equivalently, \n",
        "\n",
        "$$ \\text{F1 score} = \\frac{2 \\cdot \\text{precision} \\cdot \\text{recall}}{\\text{precision} + \\text{recall}}. $$\n",
        "\n",
        "The harmonic mean of two numbers is always between the two numbers, but in general will be closer to the smaller number. For example, if precision is $90\\%$ and recall is $10\\%$, then the harmonic mean is \n",
        "\n",
        "$$ \\text{F1 score} = \\frac{2 \\cdot 0.9 \\cdot 0.1}{0.9 + 0.1} = 18\\%. $$\n",
        "\n",
        "This is a desirable property of F1 scores because we want to encourage models to have both high precision _and_ high recall. It is not sufficient for one of these to be high if the other is very low. In other words, we do not want to allow a high precision to cancel out a low recall, or vice versa.\n",
        "\n",
        "The F1 score for red wines is:"
      ]
    },
    {
      "cell_type": "code",
      "execution_count": 26,
      "metadata": {
        "id": "sC6bGHK77820",
        "colab": {
          "base_uri": "https://localhost:8080/"
        },
        "outputId": "714be89f-971b-4bf8-e6c5-1ca62673b092"
      },
      "outputs": [
        {
          "output_type": "execute_result",
          "data": {
            "text/plain": [
              "0.91997479521109"
            ]
          },
          "metadata": {},
          "execution_count": 26
        }
      ],
      "source": [
        "2 * precision * recall / (precision + recall)"
      ]
    },
    {
      "cell_type": "markdown",
      "metadata": {
        "id": "J9NbsyWN7820"
      },
      "source": [
        "We could have also asked Scikit-Learn calculate this for us. If we know the actual and predicted labels, we can use the `f1_score` function, which works similarly to `precision_score` and `recall_score` from above:"
      ]
    },
    {
      "cell_type": "code",
      "execution_count": 27,
      "metadata": {
        "id": "g9A1tDhc7820",
        "colab": {
          "base_uri": "https://localhost:8080/"
        },
        "outputId": "0a639583-b952-48e6-cc13-05f1d6465ae3"
      },
      "outputs": [
        {
          "output_type": "execute_result",
          "data": {
            "text/plain": [
              "0.91997479521109"
            ]
          },
          "metadata": {},
          "execution_count": 27
        }
      ],
      "source": [
        "from sklearn.metrics import f1_score\n",
        "\n",
        "f1_score(y_train, y_train_pred, pos_label=\"red\")"
      ]
    },
    {
      "cell_type": "markdown",
      "metadata": {
        "id": "-bH4ZSCr7821"
      },
      "source": [
        "We can also have `cross_val_score` calculate and return the F1 scores on each held-out subsample:"
      ]
    },
    {
      "cell_type": "code",
      "execution_count": 28,
      "metadata": {
        "id": "_9Ol3X827821",
        "colab": {
          "base_uri": "https://localhost:8080/"
        },
        "outputId": "203b8926-6b1f-4fde-80f8-f389135d1893"
      },
      "outputs": [
        {
          "output_type": "execute_result",
          "data": {
            "text/plain": [
              "array([0.87043189, 0.88888889, 0.89361702, 0.87707641, 0.90666667,\n",
              "       0.93416928, 0.89589905, 0.88679245, 0.93710692, 0.88888889])"
            ]
          },
          "metadata": {},
          "execution_count": 28
        }
      ],
      "source": [
        "cross_val_score(pipeline, X_train, is_red_train, \n",
        "                cv=10, scoring=\"f1\")"
      ]
    },
    {
      "cell_type": "markdown",
      "metadata": {
        "id": "uzsuvjIk7821"
      },
      "source": [
        "# Part 2: Exercises\n",
        "\n",
        "Exercises 3-5 ask you to use the Titanic data set (`../data/titanic.csv`) to train various classifiers."
      ]
    },
    {
      "cell_type": "markdown",
      "metadata": {
        "id": "tJlnM5Xj7821"
      },
      "source": [
        "## Exercise 3\n",
        "\n",
        "Build a 5-nearest neighbors model to predict whether or not a passenger on a Titanic would survive, based on their age, sex, and class as features. Use the Titanic data set (`../data/titanic.csv`) as your training data. Calculate the _training_ accuracy, precision, and recall of this model for survivors."
      ]
    },
    {
      "cell_type": "code",
      "execution_count": 29,
      "metadata": {
        "id": "pPDNzeBy7821",
        "colab": {
          "base_uri": "https://localhost:8080/"
        },
        "outputId": "7ae50d36-c6db-4556-fd63-2b3c3144ef21"
      },
      "outputs": [
        {
          "output_type": "stream",
          "name": "stdout",
          "text": [
            "Train accuracy: 0.8205 | Train precision: 0.8288 | Train recall: 0.6680\n"
          ]
        }
      ],
      "source": [
        "from sklearn.preprocessing import StandardScaler\n",
        "from sklearn.neighbors import KNeighborsClassifier\n",
        "from sklearn.pipeline import Pipeline\n",
        "from sklearn.impute import SimpleImputer\n",
        "\n",
        "# Read data\n",
        "titanic = pd.read_csv(\"../data/titanic.csv\")[[\"age\",\"sex\",\"pclass\",\"survived\"]]\n",
        "\n",
        "# Convert categorical variables\n",
        "titanic_d = pd.get_dummies(titanic)\n",
        "\n",
        "# Split attributes\n",
        "X_train = titanic_d[[\"age\",\"pclass\",\"sex_female\",\"sex_male\"]]\n",
        "y_train = titanic_d[\"survived\"]\n",
        "\n",
        "# Initialize standard scaler, KNN Classifier, and simple imputer\n",
        "scaler = StandardScaler()\n",
        "model = KNeighborsClassifier(n_neighbors=5)\n",
        "imp = SimpleImputer(missing_values=np.nan, strategy='mean')\n",
        "\n",
        "\n",
        "# Create pipeline\n",
        "scaler = StandardScaler()\n",
        "model = KNeighborsClassifier(n_neighbors=5)\n",
        "pipeline = Pipeline([\n",
        "    (\"scaler\", scaler),\n",
        "    (\"imputer\", imp),\n",
        "    (\"model\", model)\n",
        "])\n",
        "\n",
        "\n",
        "# Fit model, run prediction\n",
        "pipeline.fit(X_train, y_train)\n",
        "pipeline_pred = pipeline.predict(X_train)\n",
        "\n",
        "\n",
        "# Calculate metrics\n",
        "from sklearn.metrics import accuracy_score, precision_score, recall_score\n",
        "train_accuracy = accuracy_score(y_train, pipeline_pred)\n",
        "train_precision = precision_score(y_train, pipeline_pred, pos_label=1)\n",
        "train_recall = recall_score(y_train, pipeline_pred, pos_label=1)\n",
        "\n",
        "print(\"Train accuracy: %.4f | Train precision: %.4f | Train recall: %.4f\"%(train_accuracy, train_precision, train_recall))"
      ]
    },
    {
      "cell_type": "markdown",
      "metadata": {
        "id": "hsEqtStg7821"
      },
      "source": [
        "## Exercise 4\n",
        "\n",
        "Estimate the _test_ accuracy, precision, and recall of your model for survivors."
      ]
    },
    {
      "cell_type": "code",
      "execution_count": 30,
      "metadata": {
        "id": "y3fDlTu17821",
        "colab": {
          "base_uri": "https://localhost:8080/"
        },
        "outputId": "7bf867d1-6246-495c-f220-b6315e1c41d8"
      },
      "outputs": [
        {
          "output_type": "stream",
          "name": "stdout",
          "text": [
            "Validation accuracy: 0.7471 | Validation precision: 0.6955 | Validation recall: 0.6160\n"
          ]
        }
      ],
      "source": [
        "# Calculate validation metrics using 10-fold CV\n",
        "val_accuracy = cross_val_score(pipeline, X_train, y_train, cv=10, scoring=\"accuracy\").mean()\n",
        "val_precision = cross_val_score(pipeline, X_train, y_train, cv=10, scoring=\"precision\").mean()\n",
        "val_recall = cross_val_score(pipeline, X_train, y_train, cv=10, scoring=\"recall\").mean()\n",
        "\n",
        "print(\"Validation accuracy: %.4f | Validation precision: %.4f | Validation recall: %.4f\"%(val_accuracy, val_precision, val_recall))"
      ]
    },
    {
      "cell_type": "markdown",
      "source": [
        "## Exercise 5\n",
        "\n",
        "Use, use your model to predict whether a 20-year old female in first-class would survive. What about a 20-year old female in third-class?"
      ],
      "metadata": {
        "id": "2fRS1LhoJ4E7"
      }
    },
    {
      "cell_type": "code",
      "source": [
        "# Create new data points\n",
        "x1_new = pd.DataFrame()\n",
        "x1_new[\"age\"] = [20]\n",
        "x1_new[\"pclass\"] = [1]\n",
        "x1_new[\"sex_female\"] = [1]\n",
        "x1_new[\"sex_male\"] = [0]\n",
        "\n",
        "x2_new = pd.DataFrame()\n",
        "x2_new[\"age\"] = [20]\n",
        "x2_new[\"pclass\"] = [3]\n",
        "x2_new[\"sex_female\"] = [1]\n",
        "x2_new[\"sex_male\"] = [0]\n",
        "\n",
        "\n",
        "x1_pred = model.predict(x1_new.values)\n",
        "x2_pred = model.predict(x2_new.values)\n",
        "\n",
        "print(\"First Prediction:\",x1_pred, \"Second Prediction:\",x2_pred)\n",
        "# The model predicts neither will survive"
      ],
      "metadata": {
        "id": "qM0qqFkEKWOV",
        "colab": {
          "base_uri": "https://localhost:8080/"
        },
        "outputId": "469951c3-d92d-430d-85b4-51f407e12a89"
      },
      "execution_count": 31,
      "outputs": [
        {
          "output_type": "stream",
          "name": "stdout",
          "text": [
            "First Prediction: [0] Second Prediction: [0]\n"
          ]
        }
      ]
    },
    {
      "cell_type": "markdown",
      "metadata": {
        "id": "jY5oeaZs7821"
      },
      "source": [
        "## Exercise 6\n",
        "\n",
        "You want to build a $k$-nearest neighbors model to predict where a Titanic passenger embarked, using their age, sex, and class. \n",
        "\n",
        "- What value of $k$ optimizes overall accuracy?\n",
        "- What value of $k$ optimizes the F1 score for Southampton?\n",
        "- Does the same value of $k$ optimize accuracy and the F1 score?"
      ]
    },
    {
      "cell_type": "code",
      "execution_count": 32,
      "metadata": {
        "id": "MJIKrITJ7822"
      },
      "outputs": [],
      "source": [
        "# Split attributes\n",
        "X_train = titanic_d[[\"age\",\"pclass\",\"sex_female\",\"sex_male\"]]\n",
        "y_train = titanic_d[\"survived\"]\n",
        "\n",
        "k_data = []\n",
        "\n",
        "for i,k in enumerate(range(1,100)):\n",
        "  # Initialize standard scaler, KNN Classifier, and simple imputer\n",
        "  scaler = StandardScaler()\n",
        "  model = KNeighborsClassifier(n_neighbors=k)\n",
        "  imp = SimpleImputer(missing_values=np.nan, strategy='mean')\n",
        "\n",
        "  # Create pipeline\n",
        "  scaler = StandardScaler()\n",
        "  model = KNeighborsClassifier(n_neighbors=k)\n",
        "  pipeline = Pipeline([\n",
        "      (\"scaler\", scaler),\n",
        "      (\"imputer\", imp),\n",
        "      (\"model\", model)\n",
        "  ])\n",
        "\n",
        "  # Fit - get training and validation accuracy\n",
        "  pipeline.fit(X_train, y_train)\n",
        "  pipeline_pred = pipeline.predict(X_train)\n",
        "  train_accuracy = accuracy_score(y_train, pipeline_pred)\n",
        "  val_accuracy = cross_val_score(pipeline, X_train, y_train, cv=10, scoring=\"accuracy\").mean()\n",
        "  k_data.append([k, train_accuracy, val_accuracy])\n",
        "\n",
        "# Turn accuracy data into dataframe\n",
        "k_data_df = pd.DataFrame(k_data, columns = [\"K\", \"Training Accuracy\", \"Validation Accuracy\"])\n",
        "k_data_df.set_index([\"K\"], inplace = True)"
      ]
    },
    {
      "cell_type": "code",
      "source": [
        "k_data_df.head()\n",
        "print(k_data_df.loc[k_data_df[\"Training Accuracy\"].idxmax()],\"\\n\")\n",
        "print(k_data_df.loc[k_data_df[\"Validation Accuracy\"].idxmax()])"
      ],
      "metadata": {
        "colab": {
          "base_uri": "https://localhost:8080/"
        },
        "id": "VHVBPNG1PKz0",
        "outputId": "faf7c293-ad62-41a2-c2ef-8bfa1e13b73b"
      },
      "execution_count": 33,
      "outputs": [
        {
          "output_type": "stream",
          "name": "stdout",
          "text": [
            "Training Accuracy      0.827349\n",
            "Validation Accuracy    0.761556\n",
            "Name: 3, dtype: float64 \n",
            "\n",
            "Training Accuracy      0.817418\n",
            "Validation Accuracy    0.768438\n",
            "Name: 6, dtype: float64\n"
          ]
        }
      ]
    },
    {
      "cell_type": "markdown",
      "source": [
        "***k = 3 maximizes Training Accuracy, k = 6 maximizes Validation Accuracy***"
      ],
      "metadata": {
        "id": "Jrfp7NelQ404"
      }
    },
    {
      "cell_type": "code",
      "source": [
        "# Read in data\n",
        "# Read data\n",
        "titanic = pd.read_csv(\"../data/titanic.csv\")[[\"age\",\"sex\",\"pclass\",\"survived\", \"embarked\"]]\n",
        "titanic.dropna(subset = [\"embarked\"], inplace = True)\n",
        "\n",
        "# Convert categorical variables, separate parameters and layers\n",
        "\n",
        "X_train = titanic[[\"age\",\"pclass\",\"sex\"]]\n",
        "X_train = pd.get_dummies(X_train)\n",
        "y_train = titanic[\"embarked\"]\n",
        "\n",
        "f1_data = []\n",
        "\n",
        "for i,k in enumerate(range(1,100)):\n",
        "  # Initialize standard scaler, KNN Classifier, and simple imputer\n",
        "  scaler = StandardScaler()\n",
        "  model = KNeighborsClassifier(n_neighbors=k)\n",
        "  imp = SimpleImputer(missing_values=np.nan, strategy='mean')\n",
        "\n",
        "  # Create pipeline\n",
        "  scaler = StandardScaler()\n",
        "  model = KNeighborsClassifier(n_neighbors=k)\n",
        "  pipeline = Pipeline([\n",
        "      (\"scaler\", scaler),\n",
        "      (\"imputer\", imp),\n",
        "      (\"model\", model)\n",
        "  ])\n",
        "\n",
        "  # Fit - get training and validation accuracy\n",
        "  pipeline.fit(X_train, y_train)\n",
        "  pipeline_pred = pipeline.predict(X_train)\n",
        "  train_accuracy = accuracy_score(y_train, pipeline_pred)\n",
        "  f1 = f1_score(y_train, pipeline_pred, labels = [\"S\"], average = \"micro\")\n",
        "  f1_data.append([k, f1])\n",
        "\n",
        "# Turn accuracy data into dataframe\n",
        "f1_data_df = pd.DataFrame(f1_data, columns = [\"K\", \"F1 Score\"])\n",
        "f1_data_df.set_index([\"K\"], inplace = True)\n"
      ],
      "metadata": {
        "id": "Lh1sdP_9Q3i1"
      },
      "execution_count": 54,
      "outputs": []
    },
    {
      "cell_type": "code",
      "source": [
        "f1_data_df.head()\n",
        "print(f1_data_df.loc[f1_data_df[\"F1 Score\"].idxmax()])\n"
      ],
      "metadata": {
        "colab": {
          "base_uri": "https://localhost:8080/"
        },
        "id": "FHEGIkIQhx1v",
        "outputId": "32295285-fc1e-4088-f59b-968c3376e3c2"
      },
      "execution_count": 58,
      "outputs": [
        {
          "output_type": "stream",
          "name": "stdout",
          "text": [
            "F1 Score    0.833992\n",
            "Name: 17, dtype: float64\n"
          ]
        }
      ]
    },
    {
      "cell_type": "markdown",
      "metadata": {
        "id": "7M4kHG4_7822"
      },
      "source": [
        "***The F1 score is minimized for k=17 nearest neighbor - not the same value as when the class is survival vs not survival***"
      ]
    },
    {
      "cell_type": "markdown",
      "metadata": {
        "id": "A2MrmBp07822"
      },
      "source": [
        "**When you have filled out all the questions, submit via [Tulane Canvas](https://tulane.instructure.com/)**"
      ]
    }
  ],
  "metadata": {
    "kernelspec": {
      "display_name": "Python 3",
      "language": "python",
      "name": "python3"
    },
    "language_info": {
      "codemirror_mode": {
        "name": "ipython",
        "version": 3
      },
      "file_extension": ".py",
      "mimetype": "text/x-python",
      "name": "python",
      "nbconvert_exporter": "python",
      "pygments_lexer": "ipython3",
      "version": "3.9.12"
    },
    "toc": {
      "base_numbering": 1,
      "nav_menu": {},
      "number_sections": false,
      "sideBar": true,
      "skip_h1_title": true,
      "title_cell": "Table of Contents",
      "title_sidebar": "Contents",
      "toc_cell": true,
      "toc_position": {},
      "toc_section_display": true,
      "toc_window_display": false
    },
    "colab": {
      "provenance": [],
      "collapsed_sections": []
    }
  },
  "nbformat": 4,
  "nbformat_minor": 0
}